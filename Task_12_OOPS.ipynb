{
 "cells": [
  {
   "cell_type": "markdown",
   "id": "3d8c55d2-32f9-485e-bd45-1ff18d6833cb",
   "metadata": {},
   "source": [
    "Task 12 - OOPS"
   ]
  },
  {
   "cell_type": "markdown",
   "id": "af6150ca-b84a-487d-9574-366235c609bd",
   "metadata": {},
   "source": [
    "1.Write a Python program to create a ‘Vehicle’ class with static variables max_speed and mileage instance attributes. Print the attributes.\n",
    "Example output:\n",
    "max_speed = 240\n",
    "mileage = 18\n"
   ]
  },
  {
   "cell_type": "code",
   "execution_count": 9,
   "id": "02075255-eda7-43af-b874-266febcf2938",
   "metadata": {},
   "outputs": [
    {
     "name": "stdout",
     "output_type": "stream",
     "text": [
      "max_speed = 240\n",
      "mileage = 18\n"
     ]
    }
   ],
   "source": [
    "class Vehicle:\n",
    "    max_speed = 240\n",
    "    mileage = 18\n",
    "v1 = Vehicle()\n",
    "print(\"max_speed =\",v1.max_speed)\n",
    "print(\"mileage =\",v1.mileage)\n"
   ]
  },
  {
   "cell_type": "markdown",
   "id": "2e5e5b38-8c98-4463-8e8f-a2532a4ff9a5",
   "metadata": {},
   "source": [
    "2.Create a Python class called 'Car' with attributes 'make' and 'model'. Instantiate an object of this class and print its attributes.\n"
   ]
  },
  {
   "cell_type": "code",
   "execution_count": 16,
   "id": "fe37a527-f24b-492b-aadc-a5eee6e02dfb",
   "metadata": {},
   "outputs": [
    {
     "name": "stdout",
     "output_type": "stream",
     "text": [
      "Car Make : Toyota\n",
      "Car Model : Taisor\n"
     ]
    }
   ],
   "source": [
    "class Car :\n",
    "    def __init__(self, make, model):\n",
    "        self.make = make\n",
    "        self.model = model\n",
    "    def display(self):\n",
    "        print(f\"Car Make : {self.make}\")\n",
    "        print(f\"Car Model : {self.model}\")\n",
    "\n",
    "mycar = Car(\"Toyota\", \"Taisor\")\n",
    "mycar.display()"
   ]
  },
  {
   "cell_type": "markdown",
   "id": "600fdc6b-b255-4317-a54a-87324e70ea4c",
   "metadata": {},
   "source": [
    "3.Create a class for arithmetic operations using different methods like addition(), subtraction() etc.\n"
   ]
  },
  {
   "cell_type": "code",
   "execution_count": null,
   "id": "94283c41-eb1a-4b53-9e93-64a92782c7bc",
   "metadata": {},
   "outputs": [],
   "source": [
    "class ArithmeticOperations:\n",
    "    def __init__(self):\n",
    "        pass\n",
    "\n",
    "    def add(self, a, b):\n",
    "        \"\"\"Returns the sum of a and b.\"\"\"\n",
    "        return a + b\n",
    "\n",
    "    def subtract(self, a, b):\n",
    "        \"\"\"Returns the difference between a and b.\"\"\"\n",
    "        return a - b\n",
    "\n",
    "    def multiply(self, a, b):\n",
    "        \"\"\"Returns the product of a and b.\"\"\"\n",
    "        return a * b\n",
    "\n",
    "    def divide(self, a, b):\n",
    "        \"\"\"Returns the quotient of a divided by b. Raises an error if b is zero.\"\"\"\n",
    "        if b == 0:\n",
    "            raise ValueError(\"Division by zero is not allowed.\")\n",
    "        return a / b\n",
    "\n",
    "# Example usage:\n",
    "if __name__ == \"__main__\":\n",
    "    calculator = ArithmeticOperations()\n",
    "    print(\"Addition: \", calculator.add(10, 5))\n",
    "    print(\"Subtraction: \", calculator.subtract(10, 5))\n",
    "    print(\"Multiplication: \", calculator.multiply(10, 5))\n",
    "    print(\"Division: \", calculator.divide(10, 5))"
   ]
  },
  {
   "cell_type": "code",
   "execution_count": 12,
   "id": "710fc4de-bf5e-4e4b-b7d6-8b1c0ffa24c4",
   "metadata": {},
   "outputs": [
    {
     "name": "stdin",
     "output_type": "stream",
     "text": [
      "Enter first number:  10\n",
      "Enter second number:  5\n"
     ]
    },
    {
     "name": "stdout",
     "output_type": "stream",
     "text": [
      "Addition:  15\n",
      "Subtraction:  5\n",
      "Multiplication:  50\n",
      "Division:  2.0\n"
     ]
    }
   ],
   "source": [
    "class ArithmeticOperations():\n",
    "    def __init__(self,a,b):\n",
    "        self.a=a\n",
    "        self.b=b\n",
    "    def add(self):\n",
    "        return self.a+self.b\n",
    "    def sub(self):\n",
    "        return self.a-self.b\n",
    "    def mul(self):\n",
    "        return self.a*self.b\n",
    "    def div(self):\n",
    "        return self.a/self.b\n",
    "    \n",
    "a=int(input(\"Enter first number: \"))\n",
    "b=int(input(\"Enter second number: \"))\n",
    "\n",
    "calculator=ArithmeticOperations(a,b)\n",
    "\n",
    "print(\"Addition: \", calculator.add())\n",
    "print(\"Subtraction: \", calculator.sub())\n",
    "print(\"Multiplication: \", calculator.mul())\n",
    "print(\"Division: \", calculator.div())"
   ]
  },
  {
   "cell_type": "markdown",
   "id": "199cad1c-8834-400e-8c28-bbf20287e4bd",
   "metadata": {},
   "source": [
    "4.Define a base class 'Vehicle' with attributes color and model. \n",
    "Create a derived class 'Car' that inherits from 'Vehicle' and adds an attribute num_doors.\n",
    "\n",
    "Example:\n",
    "\n",
    "class Vehicle:\n",
    "    \n",
    "    def __init__():\n",
    "          self.color\n",
    "          self.model\n",
    "\n",
    "class Car(Vehicle):\n",
    "    \n",
    "    def __init__():\n",
    "        super().__init__()\n",
    "        Self.num_doors\n",
    "        \n",
    "\n",
    "Example output- Car: MG Hector, Red; Doors: 4"
   ]
  },
  {
   "cell_type": "code",
   "execution_count": 42,
   "id": "128bb72b-d8c9-4e5b-bc39-c62bc235066b",
   "metadata": {},
   "outputs": [
    {
     "name": "stdout",
     "output_type": "stream",
     "text": [
      "Car : MG Hector, Color : Red, Doors : 4 \n"
     ]
    }
   ],
   "source": [
    "class Vehicle:\n",
    "    def __init__(self,color,model):\n",
    "      self.color = color\n",
    "      self.model = model\n",
    "        \n",
    "class Car(Vehicle):\n",
    "    def __init__(self,color,model,num_doors):\n",
    "        super().__init__(color,model)\n",
    "        self.num_doors = num_doors\n",
    "\n",
    "c1 = Car(\"Red\",\"MG Hector\",4)\n",
    "print(f\"Car : {c1.model}, Color : {c1.color}, Doors : {c1.num_doors} \")"
   ]
  },
  {
   "cell_type": "markdown",
   "id": "2ac96bbc-faa4-4e45-aa5b-31c6f3c62b68",
   "metadata": {},
   "source": [
    "5.Create two base classes. One base class is 'Person' with attributes name and age. Another class is 'Address' with attributes city and country.\n",
    "\n",
    "Define a derived class 'Employee' that inherits from both Person and Address. In 'Employee' class add an attribute job. \n",
    "\n",
    "Example: \n",
    "\n",
    "class Person:\n",
    "        \n",
    "        #code\n",
    "\n",
    "class Address:\n",
    "\n",
    "        #code\n",
    "\n",
    "class Employee(Person, Address):\n",
    "\n",
    "        #code\n",
    "\n",
    "Example Output:\n",
    "Employee: Sirisha,  Age: 25,  City: Delhi,  Country: India,  Job: Data Scientist\n"
   ]
  },
  {
   "cell_type": "code",
   "execution_count": 70,
   "id": "8599b801-3c74-4fa1-8229-a17196df1d45",
   "metadata": {},
   "outputs": [
    {
     "name": "stdout",
     "output_type": "stream",
     "text": [
      "Employee : Sirisha, Age : 25 , City : Delhi, Country : India, Job : Data Scientist\n"
     ]
    }
   ],
   "source": [
    "class Person:\n",
    "    def __init__(self, name, age):\n",
    "        self.name = name\n",
    "        self.age = age\n",
    "    \n",
    "class Address:\n",
    "    def __init__(self, city, country):\n",
    "        self.city = city\n",
    "        self.country = country\n",
    "\n",
    "class Employee(Person, Address):\n",
    "    def __init__(self, name, age, city, country, job):\n",
    "        Person.__init__(self,name,age)\n",
    "        Address.__init__(self,city,country)\n",
    "        self.job = job\n",
    "        \n",
    "\n",
    "e1 = Employee(\"Sirisha\",25,\"Delhi\",\"India\",\"Data Scientist\")  \n",
    "print(f\"Employee : {e1.name}, Age : {e1.age} , City : {e1.city}, Country : {e1.country}, Job : {e1.job}\")"
   ]
  },
  {
   "cell_type": "markdown",
   "id": "e5f6aa7d-d92d-4009-b05c-c0c768e427db",
   "metadata": {},
   "source": [
    "6.Create a base class Animal with a method make_sound(). Define two subclasses, Dog and Cat, that inherit from Animal and override the make_sound() method to print the respective sounds.\n"
   ]
  },
  {
   "cell_type": "code",
   "execution_count": 89,
   "id": "5c97b720-d0ae-40d2-b3d3-d803ffeaddb9",
   "metadata": {},
   "outputs": [
    {
     "name": "stdout",
     "output_type": "stream",
     "text": [
      "Animal Sound\n",
      "Dog does : Bhoo! Bhoo!\n",
      "Cat does : Meow ! Meow\n"
     ]
    }
   ],
   "source": [
    "class Animal:\n",
    "    def make_sound(self):\n",
    "        print(\"Animal Sound\")\n",
    "class Dog(Animal):\n",
    "    def make_sound(self):\n",
    "        print(\"Dog does : Bhoo! Bhoo!\")\n",
    "class Cat(Animal):\n",
    "    def make_sound(self):\n",
    "        print(\"Cat does : Meow ! Meow\" )\n",
    "        \n",
    "a1 = Animal()        \n",
    "d1 = Dog()\n",
    "c1 = Cat()\n",
    "a1.make_sound()\n",
    "d1.make_sound()\n",
    "c1.make_sound()\n"
   ]
  },
  {
   "cell_type": "markdown",
   "id": "6ddb3f49-34d5-4179-be82-96dca16ff984",
   "metadata": {},
   "source": [
    "7.Create a function calculate, that can calculate the sum of two numbers or concatenate two strings. The function should be able to take any number of arguments and also demonstrate polymorphism based on the different types of arguments.\n",
    "Code:\n",
    "\n",
    "class Calculate: \n",
    "    def addi(self, *args): \n",
    "        if not args: \n",
    "            return None \n",
    "        result = args[0] \n",
    "    for arg in args [1:]: \n",
    "        result += arg \n",
    "        return result \n",
    "calc = Calculate() \n",
    "print(calc.addi()) \n",
    "print(calc.addi(3,5)) \n",
    "print(calc.addi (4.5, 5.5, 1.0)) \n",
    "print(calc.addi (\"Hello, \", \"World\", \"!\")) \n",
    "print(calc.addi ([1, 2], [3, 4], [5, 6], [9, 10]))"
   ]
  },
  {
   "cell_type": "code",
   "execution_count": 94,
   "id": "b60e110b-d71e-45a6-a9c2-0923e17eb4c6",
   "metadata": {},
   "outputs": [
    {
     "name": "stdout",
     "output_type": "stream",
     "text": [
      "None\n",
      "8\n",
      "10.0\n",
      "Hello, World\n",
      "[1, 2, 3, 4]\n"
     ]
    }
   ],
   "source": [
    "class Calculate: \n",
    "    def addi(self, *args): \n",
    "        if not args: \n",
    "            return None \n",
    "        result = args[0] \n",
    "        for arg in args [1:]: \n",
    "            result += arg \n",
    "            return result \n",
    "calc = Calculate() \n",
    "print(calc.addi()) \n",
    "print(calc.addi(3,5)) \n",
    "print(calc.addi (4.5, 5.5, 1.0)) \n",
    "print(calc.addi (\"Hello, \", \"World\", \"!\")) \n",
    "print(calc.addi ([1, 2], [3, 4], [5, 6], [9, 10]))"
   ]
  },
  {
   "cell_type": "markdown",
   "id": "b6564de7-c1e0-46a1-a540-6d62fcad6ccf",
   "metadata": {},
   "source": [
    "8.Explain what operator overloading is and provide an example using a custom class."
   ]
  },
  {
   "cell_type": "code",
   "execution_count": 12,
   "id": "a05b2aa7-2ce5-4506-b15f-7ffd4cb94f5f",
   "metadata": {},
   "outputs": [
    {
     "name": "stdout",
     "output_type": "stream",
     "text": [
      "4 + 6i\n"
     ]
    }
   ],
   "source": [
    "class ComplexNumber:\n",
    "    def __init__(self, r, i):\n",
    "        self.r = r\n",
    "        self.i = i\n",
    "        \n",
    "    def __add__(self, other):\n",
    "        return f\"{self.r+other.r} + {self.i+other.i}i\"\n",
    "   \n",
    "\n",
    "c1 = ComplexNumber(3, 4)\n",
    "c2 = ComplexNumber(1, 2)\n",
    "\n",
    "result = c1 + c2\n",
    "\n",
    "print(result)  "
   ]
  },
  {
   "cell_type": "markdown",
   "id": "ea26b3cd-d402-43d8-8942-4ca1905c70d9",
   "metadata": {},
   "source": [
    "9.Create a Person class with private attributes _ _name and _ _age. Implement getter and setter methods for accessing and modifying these attributes.\n",
    "Modify the Person class from the previous problem to use properties for accessing and modifying the private attributes.\n"
   ]
  },
  {
   "cell_type": "code",
   "execution_count": 16,
   "id": "8a4fe175-0abe-44d0-a8fc-6903e9b85558",
   "metadata": {},
   "outputs": [
    {
     "name": "stdout",
     "output_type": "stream",
     "text": [
      "Alice\n",
      "25\n",
      "Syam\n",
      "30\n"
     ]
    }
   ],
   "source": [
    "class Person:\n",
    "    def __init__(self,name,age):\n",
    "        self.__name = name\n",
    "        self.__age = age\n",
    "        \n",
    "    def get_name(self):\n",
    "        return self.__name\n",
    "        \n",
    "    def set_name(self,name):\n",
    "        self.__name = name\n",
    "        \n",
    "    def get_age(self):\n",
    "        return self.__age\n",
    "        \n",
    "    def set_age(self, age):\n",
    "        if age>= 0:\n",
    "            self.__age = age\n",
    "        else:\n",
    "            raise ValueError(\"Age cannot be negative\")\n",
    "p = Person(\"Alice\", 25)\n",
    "print(p.get_name())\n",
    "print(p.get_age())\n",
    "\n",
    "p.set_name(\"Syam\")\n",
    "p.set_age(30)\n",
    "print(p.get_name())\n",
    "print(p.get_age())"
   ]
  },
  {
   "cell_type": "markdown",
   "id": "65dac639-cdda-4e84-a4d6-72e52dca29fd",
   "metadata": {},
   "source": [
    "10.Create a BankAccount class with a protected attribute _balance. Implement a method get_balance() to retrieve the balance.\n"
   ]
  },
  {
   "cell_type": "code",
   "execution_count": 24,
   "id": "8266f640-fb76-4c4d-be77-90b41245f634",
   "metadata": {},
   "outputs": [
    {
     "name": "stdout",
     "output_type": "stream",
     "text": [
      "25000\n"
     ]
    }
   ],
   "source": [
    "class BankAccount:\n",
    "    def __init__(self, balance):\n",
    "        self._balance = balance\n",
    "    def get_balance(self):\n",
    "        return self._balance\n",
    "account = BankAccount(25000)\n",
    "print(account.get_balance())"
   ]
  },
  {
   "cell_type": "markdown",
   "id": "1603da5a-79f0-4583-972d-092802af1bac",
   "metadata": {},
   "source": [
    "Create a Python module calculator with a private function _ _add that adds two numbers. Implement a public function add_numbers that calls the private function.\n"
   ]
  },
  {
   "cell_type": "code",
   "execution_count": 28,
   "id": "8eca3d44-465b-4180-9333-fef08fe85321",
   "metadata": {},
   "outputs": [
    {
     "name": "stdout",
     "output_type": "stream",
     "text": [
      "30\n"
     ]
    }
   ],
   "source": [
    "class Calculator:\n",
    "    def __add(self, a, b):\n",
    "        return a + b\n",
    "\n",
    "    def add_numbers(self, a, b):\n",
    "        return self.__add(a, b)\n",
    "\n",
    "c = Calculator()\n",
    "result = c.add_numbers(25, 5)\n",
    "print(result)  "
   ]
  },
  {
   "cell_type": "markdown",
   "id": "efb74ef2-d403-4759-896e-9df1070fa5b7",
   "metadata": {},
   "source": [
    "11.Create an abstract class Shape with an abstract method calculate_area(). Define two subclasses, Rectangle and Circle, that inherit from Shape and implement the calculate_area() method.\n"
   ]
  },
  {
   "cell_type": "code",
   "execution_count": 30,
   "id": "c744f6ce-6806-4596-a967-9d9ca4f25662",
   "metadata": {},
   "outputs": [
    {
     "name": "stdout",
     "output_type": "stream",
     "text": [
      "Rectangle area: 15\n",
      "Circle area: 50.26544\n"
     ]
    }
   ],
   "source": [
    "from abc import ABC, abstractmethod\n",
    "\n",
    "class Shape(ABC):\n",
    "    @abstractmethod\n",
    "    def calculate_area(self):\n",
    "        pass\n",
    "\n",
    "class Rectangle(Shape):\n",
    "    def __init__(self, length, width):\n",
    "        self.length = length\n",
    "        self.width = width\n",
    "    \n",
    "    def calculate_area(self):\n",
    "        return self.length * self.width\n",
    "\n",
    "class Circle(Shape):\n",
    "    def __init__(self, radius):\n",
    "        self.radius = radius\n",
    "    \n",
    "    def calculate_area(self):\n",
    "        return 3.14159 * self.radius ** 2\n",
    "\n",
    "rectangle = Rectangle(5, 3)\n",
    "print(\"Rectangle area:\", rectangle.calculate_area())\n",
    "\n",
    "circle = Circle(4)\n",
    "print(\"Circle area:\", circle.calculate_area())"
   ]
  }
 ],
 "metadata": {
  "kernelspec": {
   "display_name": "Python [conda env:base] *",
   "language": "python",
   "name": "conda-base-py"
  },
  "language_info": {
   "codemirror_mode": {
    "name": "ipython",
    "version": 3
   },
   "file_extension": ".py",
   "mimetype": "text/x-python",
   "name": "python",
   "nbconvert_exporter": "python",
   "pygments_lexer": "ipython3",
   "version": "3.12.7"
  }
 },
 "nbformat": 4,
 "nbformat_minor": 5
}
