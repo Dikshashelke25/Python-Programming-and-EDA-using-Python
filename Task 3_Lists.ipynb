{
 "cells": [
  {
   "cell_type": "markdown",
   "id": "ebc9c645-907c-4582-a046-d102779b5407",
   "metadata": {},
   "source": [
    "1.Define List, properties and its methods and try to write an example for each of the methods.\n",
    "\n",
    "List is a data structure in which we can store any type of data in a single variable.\n",
    "\n",
    "List Methods:\n",
    "\n",
    "append()\tAdds an element at the end of the list\n",
    "clear()\tRemoves all the elements from the list\n",
    "copy()\tReturns a copy of the list\n",
    "count()\tReturns the number of elements with the specified value\n",
    "extend()\tAdd the elements of a list (or any iterable), to the end of the current list\n",
    "index()\tReturns the index of the first element with the specified value\n",
    "insert()\tAdds an element at the specified position\n",
    "pop()\tRemoves the element at the specified position\n",
    "remove()\tRemoves the item with the specified value\n",
    "reverse()\tReverses the order of the list\n",
    "sort()\tSorts the list"
   ]
  },
  {
   "cell_type": "code",
   "execution_count": 1,
   "id": "ddcc7268-d905-4879-bcd0-828ccc77af42",
   "metadata": {},
   "outputs": [
    {
     "name": "stdout",
     "output_type": "stream",
     "text": [
      "Before appending function list :  [34, 67, 89, 97]\n",
      "After appending function list :  [34, 67, 89, 97, 55]\n"
     ]
    }
   ],
   "source": [
    "###append()\n",
    "l1 = [34, 67, 89, 97]\n",
    "print(\"Before appending function list : \", l1)\n",
    "l1.append(55)\n",
    "print(\"After appending function list : \", l1)"
   ]
  },
  {
   "cell_type": "code",
   "execution_count": 3,
   "id": "224ac026-cb69-41b0-a9da-f449de9e53ba",
   "metadata": {},
   "outputs": [
    {
     "data": {
      "text/plain": [
       "[]"
      ]
     },
     "execution_count": 3,
     "metadata": {},
     "output_type": "execute_result"
    }
   ],
   "source": [
    "#clear() --- removes all the elements from the list but list is there\n",
    "l1 = ['a', 'b', 2 , 7, 'c']\n",
    "l1.clear()\n",
    "l1"
   ]
  },
  {
   "cell_type": "code",
   "execution_count": 9,
   "id": "f4438721-fdf7-4a9e-beda-e34a3448a06f",
   "metadata": {},
   "outputs": [
    {
     "name": "stdout",
     "output_type": "stream",
     "text": [
      "l3 =  [10, 20, 30, 40, 50, 60, 70, 80, 90]\n",
      "list_l =  [10, 20, 30, 40, 50, 60, 70, 80, 90]\n"
     ]
    }
   ],
   "source": [
    "#copy()\n",
    "l3 = list(range(10, 100,10))\n",
    "print(\"l3 = \", l3)\n",
    "list_l = l3.copy()\n",
    "print(\"list_l = \", list_l)"
   ]
  },
  {
   "cell_type": "code",
   "execution_count": 15,
   "id": "a09f3faa-a54a-484e-a924-2b4baeaa0c2c",
   "metadata": {},
   "outputs": [
    {
     "data": {
      "text/plain": [
       "1"
      ]
     },
     "execution_count": 15,
     "metadata": {},
     "output_type": "execute_result"
    }
   ],
   "source": [
    "#count()\n",
    "l = ['a', 'y', 's', 2, 'Hello', 40]\n",
    "l.count('y')"
   ]
  },
  {
   "cell_type": "code",
   "execution_count": 17,
   "id": "badb2892-f2b5-469d-9f1f-ade01d965a03",
   "metadata": {},
   "outputs": [
    {
     "name": "stdout",
     "output_type": "stream",
     "text": [
      "Before extend function list : \n",
      " [5, 6, 7, 8, 9, 10, 11, 12, 13, 14]\n",
      "After extend function list : \n",
      " [5, 6, 7, 8, 9, 10, 11, 12, 13, 14, 15, 16]\n"
     ]
    }
   ],
   "source": [
    "### extend function\n",
    "l2 = list(range(5, 15))\n",
    "print(\"Before extend function list : \\n\", l2)\n",
    "l2.extend([15, 16])\n",
    "print(\"After extend function list : \\n\", l2)"
   ]
  },
  {
   "cell_type": "code",
   "execution_count": 19,
   "id": "e999078a-2993-4eda-a5ce-735c91ce7f16",
   "metadata": {},
   "outputs": [
    {
     "name": "stdout",
     "output_type": "stream",
     "text": [
      "2\n"
     ]
    }
   ],
   "source": [
    "### index() gets the index position of the required string\n",
    "l = [5, 6, 7, 8, 9, 10, 11, 7, 12, 13, 14, 15, 7, 16]\n",
    "print(l.index(7))"
   ]
  },
  {
   "cell_type": "code",
   "execution_count": 25,
   "id": "9e521d9f-1e65-43be-ad8f-03b66848a3df",
   "metadata": {},
   "outputs": [
    {
     "name": "stdout",
     "output_type": "stream",
     "text": [
      "Before insert function list : \n",
      " [1, 9, 3, 100, 54, 75, 30, 22, 87]\n",
      "After insert function list : \n",
      " [1, 9, 40, 3, 100, 54, 75, 30, 22, 87]\n"
     ]
    }
   ],
   "source": [
    "#insert(index, value)\n",
    "l1 = [1, 9, 3, 100, 54, 75, 30, 22, 87]\n",
    "print(\"Before insert function list : \\n\", l1)\n",
    "l1.insert(2,40)\n",
    "print(\"After insert function list : \\n\", l1)"
   ]
  },
  {
   "cell_type": "code",
   "execution_count": 27,
   "id": "e0ff6c7f-fae6-4143-b9ef-de74abf243a1",
   "metadata": {},
   "outputs": [
    {
     "name": "stdout",
     "output_type": "stream",
     "text": [
      "Before pop function list : \n",
      " [10, 20, 30, 40, 50, 60, 70, 80, 90]\n",
      "After pop function list : \n",
      " [10, 20, 30, 40, 50, 60, 70, 80]\n"
     ]
    }
   ],
   "source": [
    "#pop()\n",
    "l3 = list(range(10, 100,10))\n",
    "print(\"Before pop function list : \\n\", l3)\n",
    "l3.pop()\n",
    "print(\"After pop function list : \\n\", l3)"
   ]
  },
  {
   "cell_type": "code",
   "execution_count": 29,
   "id": "f8ed6ec7-05a5-4dc2-8c7c-edefa1cedc10",
   "metadata": {},
   "outputs": [
    {
     "name": "stdout",
     "output_type": "stream",
     "text": [
      "Before remove function list : \n",
      " [10, 20, 30, 40, 50, 60, 70, 80, 90]\n",
      "After remove function list : \n",
      " [10, 20, 30, 40, 60, 70, 80, 90]\n"
     ]
    }
   ],
   "source": [
    "#remove()\n",
    "l3 = list(range(10, 100,10))\n",
    "print(\"Before remove function list : \\n\", l3)\n",
    "l3.remove(50)\n",
    "print(\"After remove function list : \\n\", l3)"
   ]
  },
  {
   "cell_type": "code",
   "execution_count": null,
   "id": "92acf0c5-2a8f-4c7c-b399-2531428c6022",
   "metadata": {},
   "outputs": [],
   "source": [
    "#sort()\n",
    "l1 = [1, 9, 3, 100, 54, 75, 30, 22, 87]\n",
    "l1.sort()\n",
    "print(l1)"
   ]
  },
  {
   "cell_type": "markdown",
   "id": "ac1e33db-0ae3-49d7-8cf1-5fd626aa9c19",
   "metadata": {},
   "source": [
    "2.Explain about the list and their properties.\n",
    " Properties of list :\n",
    " 1. List is mutable.\n",
    " 2. List is ordered collection of items.\n",
    " 3. List is defined using square brackets [ ].\n",
    " 4. List items are indexed, the first item has index [0] and last item has index[len - 1].\n",
    " 5. Lists can have duplicate values.\n"
   ]
  },
  {
   "cell_type": "code",
   "execution_count": 33,
   "id": "cfd232f4-47c3-462f-9fe7-401b7534952d",
   "metadata": {},
   "outputs": [
    {
     "name": "stdout",
     "output_type": "stream",
     "text": [
      "Before appending function list :  []\n",
      "After appending function list :  [1, 2, 3]\n",
      "Updated list :  [1, 4, 3]\n"
     ]
    }
   ],
   "source": [
    "#3.Create an empty list called numbers. Append the numbers 1, 2, and 3 to the list.\n",
    "#Modify the element at index 1 to be 4.\n",
    "#Print the updated list.\n",
    "\n",
    "numbers = []\n",
    "print(\"Before appending function list : \", numbers)\n",
    "numbers.append(1)\n",
    "numbers.append(2)\n",
    "numbers.append(3)\n",
    "print(\"After appending function list : \", numbers)\n",
    "numbers[1] = 4\n",
    "print(\"Updated list : \", numbers)"
   ]
  },
  {
   "cell_type": "code",
   "execution_count": 45,
   "id": "5115a57c-9f55-470b-ae24-b8c638c63207",
   "metadata": {},
   "outputs": [
    {
     "name": "stdout",
     "output_type": "stream",
     "text": [
      "citrus :  ['orange', 'mango']\n",
      "tropical :  ['banana', 'kiwi']\n",
      "combined :  ['orange', 'mango', 'banana', 'kiwi']\n"
     ]
    }
   ],
   "source": [
    "#4.Create a list called fruits with elements 'apple', 'banana', 'orange', 'mango', and 'kiwi'.\"\n",
    "#Create a new list by slicing fruits to include only the citrus fruits ('orange' and 'mango\"\").\n",
    "#Create a new list called tropical by slicing fruits to include only the tropical fruits (\"banana\" and ‘kiwi').\n",
    "#Concatenate citrus and tropical lists to create a new list called combined. Print combined.\n",
    "\n",
    "fruits = ['apple', 'banana', 'orange', 'mango', 'kiwi']\n",
    "citrus = fruits[2:4]\n",
    "print(\"citrus : \", citrus)\n",
    "tropical = fruits[1::3]\n",
    "print(\"tropical : \", tropical)\n",
    "combined = citrus+tropical\n",
    "print(\"combined : \", combined)"
   ]
  },
  {
   "cell_type": "code",
   "execution_count": 58,
   "id": "4cd6f2f3-54d9-47e1-b30d-3158ef8ba438",
   "metadata": {},
   "outputs": [
    {
     "name": "stdout",
     "output_type": "stream",
     "text": [
      "Count of color red :  3\n",
      "List after removing red :  ['blue', 'red', 'green', 'red']\n"
     ]
    }
   ],
   "source": [
    "#5.Create a list called colors with repeated elements 'red', 'blue', 'red', 'green', 'red'.\n",
    "#Print the number of occurrences of 'red' in the list.\n",
    "#Remove all occurrences of 'red' from the list.\n",
    "#Print the updated list.\"\n",
    "\n",
    "colors = ['red', 'blue', 'red', 'green', 'red']\n",
    "print(\"Count of color red : \", colors.count('red'))\n",
    "colors.remove('red')\n",
    "print(\"List after removing red : \", colors)"
   ]
  },
  {
   "cell_type": "code",
   "execution_count": 64,
   "id": "427200cd-5a09-4515-823d-95cf961b3ba8",
   "metadata": {},
   "outputs": [
    {
     "name": "stdout",
     "output_type": "stream",
     "text": [
      "Final list groceries :  ['bread', 'eggs', 'butter', 'cheese']\n",
      "groceries:  ['bread', 'yogurt', 'eggs', 'butter', 'cheese']\n"
     ]
    }
   ],
   "source": [
    "#6.Create a list called groceries with initial items: 'bread', 'milk', 'eggs', 'butter'.\n",
    "#Add 'cheese' to the end of the list.\n",
    "#Remove 'milk' from the list.\n",
    "#Print the final list of groceries.\"\n",
    "#Insert 'yogurt' at index 1.\n",
    "\n",
    "\n",
    "groceries = ['bread', 'milk', 'eggs', 'butter']\n",
    "\n",
    "groceries.append('cheese')\n",
    "groceries.remove('milk')\n",
    "print(\"Final list groceries : \", groceries)\n",
    "\n",
    "groceries.insert(1, 'yogurt')\n",
    "print(\"groceries: \", groceries)"
   ]
  },
  {
   "cell_type": "code",
   "execution_count": null,
   "id": "cf021ffc-a845-4bce-892a-fa707343aab9",
   "metadata": {},
   "outputs": [],
   "source": []
  }
 ],
 "metadata": {
  "kernelspec": {
   "display_name": "Python [conda env:base] *",
   "language": "python",
   "name": "conda-base-py"
  },
  "language_info": {
   "codemirror_mode": {
    "name": "ipython",
    "version": 3
   },
   "file_extension": ".py",
   "mimetype": "text/x-python",
   "name": "python",
   "nbconvert_exporter": "python",
   "pygments_lexer": "ipython3",
   "version": "3.12.7"
  }
 },
 "nbformat": 4,
 "nbformat_minor": 5
}
