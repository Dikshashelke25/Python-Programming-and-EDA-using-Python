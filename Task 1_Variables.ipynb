{
 "cells": [
  {
   "cell_type": "markdown",
   "id": "2216d09d-03e1-4ee8-a9ee-967be6b57831",
   "metadata": {},
   "source": [
    "*What is Python? \n",
    "\n",
    "Python is a dynamic, high-level, open source, and interpreted programming language.\n",
    "\n",
    "\n",
    "*How would you explain its key features and characteristics?\n",
    "\n",
    "Features : \n",
    "1.Easy to learn and use\n",
    "2.Has extensive amount of libraries for web development, data science, AI\n",
    "3.Cross-platform - Supoorts Windows, macOS, and Linux machines\n",
    "4.Dynamically typed language - no need to mention datatype of a variable\n",
    "5.Interpreted Language - Python code is executed line by line at a time.\n",
    "\n",
    "\n",
    "*List and explain some common applications of Python.\n",
    "\n",
    "1. Web Development\n",
    "2. Machine Learning and Artificial Intelligence\n",
    "3. Data Science\n",
    "4. Game Development\n",
    "5. Audio and Visual Applications\n",
    "6. Software Development\n",
    "7. CAD Applications\n",
    "8. Business Applications\n",
    "9. Desktop GUI\n",
    "10. Web Scraping Application\n",
    "\n",
    "Discuss the advantages and disadvantages of using Python as a programming language.\n",
    "\n",
    "Advantages :\n",
    "1.Easy to learn and use\n",
    "2.Has extensive amount of libraries for web development, data science, AI\n",
    "3.Cross-platform - Supoorts Windows, macOS, and Linux machines\n",
    "4.Dynamically typed language - no need to mention datatype of a variable\n",
    "5.Interpreted Language - Python code is executed line by line at a time.\n",
    "\n",
    "Disadvantages :\n",
    "1.Slow Speed and Memory Inefficient\n",
    "2.Poor Database Access\n",
    "3.Runtime Errors due to dynamic typing\n",
    "\n",
    "*Explain about identifiers and their rules.\n",
    "\n",
    "Identifiers are the name given to variables, classes, and functions.\n",
    "\n",
    "Rules for Naming Python Identifiers\n",
    "\n",
    "1.Identifiers cannot be a keyword.\n",
    "2.It should not contain white space.\n",
    "3.It can be a combination of A-Z, a-z, 0-9, or underscore.\n",
    "4.It should start with an alphabet character or an underscore ( _ ).\n",
    "5.It should not contain any special character other than an underscore ( _ )."
   ]
  },
  {
   "cell_type": "markdown",
   "id": "628ca178-b1c1-4f52-99f6-2a2b868f4477",
   "metadata": {},
   "source": [
    "\n",
    "*Run all the following variables and separate valid and Invalid Variables?\n",
    "\n",
    "my_variable = 25 counter = 40.7 \"_total = \"\"Hello\"\"\" 123abc = 34 my variable =6.7 \"@count = \"\"hi\"\"\" \"for = \"\"True\"\"\" Name123 = 136 myFunction = True _data = False \"if_condition? = \"\"Innomatics\"\"\" \"class = \"\"Hyderabad\"\"\"\n"
   ]
  },
  {
   "cell_type": "code",
   "execution_count": 5,
   "id": "5427d2ee-602a-427b-87e6-43645a3b6230",
   "metadata": {},
   "outputs": [],
   "source": [
    "my_variable = 25 #valid"
   ]
  },
  {
   "cell_type": "code",
   "execution_count": 7,
   "id": "6a9f25a8-2555-4715-9c8d-40eb6af38268",
   "metadata": {},
   "outputs": [],
   "source": [
    "counter = 40.7 #valid"
   ]
  },
  {
   "cell_type": "code",
   "execution_count": 9,
   "id": "ffed0b8f-4e7b-4abc-83dd-5ad83485ea66",
   "metadata": {},
   "outputs": [
    {
     "data": {
      "text/plain": [
       "'_total = Hello'"
      ]
     },
     "execution_count": 9,
     "metadata": {},
     "output_type": "execute_result"
    }
   ],
   "source": [
    "\"_total = \"\"Hello\"\"\" #its a string as written inside quotes"
   ]
  },
  {
   "cell_type": "code",
   "execution_count": 11,
   "id": "5770e4d1-481c-4b75-b922-0fc14cdf55f9",
   "metadata": {},
   "outputs": [
    {
     "ename": "SyntaxError",
     "evalue": "invalid decimal literal (2594609077.py, line 1)",
     "output_type": "error",
     "traceback": [
      "\u001b[1;36m  Cell \u001b[1;32mIn[11], line 1\u001b[1;36m\u001b[0m\n\u001b[1;33m    123abc = 34\u001b[0m\n\u001b[1;37m      ^\u001b[0m\n\u001b[1;31mSyntaxError\u001b[0m\u001b[1;31m:\u001b[0m invalid decimal literal\n"
     ]
    }
   ],
   "source": [
    "123abc = 34 #invalid"
   ]
  },
  {
   "cell_type": "code",
   "execution_count": 13,
   "id": "0b47c07f-c3c4-4922-bb14-819816d2ff35",
   "metadata": {},
   "outputs": [
    {
     "ename": "SyntaxError",
     "evalue": "invalid syntax (4132032776.py, line 1)",
     "output_type": "error",
     "traceback": [
      "\u001b[1;36m  Cell \u001b[1;32mIn[13], line 1\u001b[1;36m\u001b[0m\n\u001b[1;33m    my variable =6.7\u001b[0m\n\u001b[1;37m       ^\u001b[0m\n\u001b[1;31mSyntaxError\u001b[0m\u001b[1;31m:\u001b[0m invalid syntax\n"
     ]
    }
   ],
   "source": [
    "my variable =6.7 #invalid"
   ]
  },
  {
   "cell_type": "code",
   "execution_count": 15,
   "id": "e172b013-bb63-494d-bb60-92cf0c5f2b5b",
   "metadata": {},
   "outputs": [
    {
     "data": {
      "text/plain": [
       "'@count = hi'"
      ]
     },
     "execution_count": 15,
     "metadata": {},
     "output_type": "execute_result"
    }
   ],
   "source": [
    "\"@count = \"\"hi\"\"\" ##its a string as written inside quotes"
   ]
  },
  {
   "cell_type": "code",
   "execution_count": 17,
   "id": "af9a502e-ff0d-443d-80b0-2778b9c0ce27",
   "metadata": {},
   "outputs": [
    {
     "data": {
      "text/plain": [
       "'for = True'"
      ]
     },
     "execution_count": 17,
     "metadata": {},
     "output_type": "execute_result"
    }
   ],
   "source": [
    "\"for = \"\"True\"\"\" ##its a string as written inside quotes"
   ]
  },
  {
   "cell_type": "code",
   "execution_count": 19,
   "id": "f161e79e-6773-4b7e-b9e5-45ef56b74651",
   "metadata": {},
   "outputs": [],
   "source": [
    "Name123 = 136 #valid"
   ]
  },
  {
   "cell_type": "code",
   "execution_count": 21,
   "id": "9e360023-6ca2-47e0-b352-8e91d917f1a1",
   "metadata": {},
   "outputs": [],
   "source": [
    "myFunction = True #valid"
   ]
  },
  {
   "cell_type": "code",
   "execution_count": 23,
   "id": "4a19a37e-4e64-4fbf-b952-18706a9bb3d4",
   "metadata": {},
   "outputs": [],
   "source": [
    "_data = False #valid"
   ]
  },
  {
   "cell_type": "code",
   "execution_count": 35,
   "id": "b4a1951e-842a-4968-852a-567c9163c014",
   "metadata": {},
   "outputs": [
    {
     "data": {
      "text/plain": [
       "'if_condition? = Innomatics'"
      ]
     },
     "execution_count": 35,
     "metadata": {},
     "output_type": "execute_result"
    }
   ],
   "source": [
    "\"if_condition? = \"\"Innomatics\"\"\" #its a string as written inside quotes"
   ]
  },
  {
   "cell_type": "code",
   "execution_count": 27,
   "id": "f1a3d3fa-b554-47bf-a553-54f95cf21e6d",
   "metadata": {},
   "outputs": [
    {
     "data": {
      "text/plain": [
       "'class = Hyderabad'"
      ]
     },
     "execution_count": 27,
     "metadata": {},
     "output_type": "execute_result"
    }
   ],
   "source": [
    "\"class = \"\"Hyderabad\"\"\" #its a string as written inside quotes"
   ]
  },
  {
   "cell_type": "markdown",
   "id": "d175d623-c1b8-48ff-b31d-4f49137f37cd",
   "metadata": {},
   "source": [
    "*Use different Identifiers (variables) and assign the below values\n",
    "10\n",
    "5\n",
    "3.14159\n",
    "-0.12345\n",
    "1000\n",
    "\"\"\"Hello, World!\"\"\"\n",
    "\"\"\"Python\"\"\"\n",
    "\"\"\"I am learning\"\"\"\n",
    "\"\"\"Text type\"\"\"\n",
    "\"\"\"String\"\"\"\n",
    "True\n",
    "False\n"
   ]
  },
  {
   "cell_type": "code",
   "execution_count": 48,
   "id": "fe2dd48e-a4f2-4013-ab5f-4348a0c8927c",
   "metadata": {},
   "outputs": [],
   "source": [
    "a = 10\n",
    "num = 5\n",
    "b  = 3.14159\n",
    "num_2 = -0.12345\n",
    "val = 1000\n",
    "str = \"\"\"Hello, World!\"\"\"\n",
    "str_1 = \"\"\"Python\"\"\"\n",
    "s = \"\"\"I am learning\"\"\"\n",
    "_val = \"\"\"Text type\"\"\"\n",
    "input_s = \"\"\"String\"\"\"\n",
    "bool_1 = True\n",
    "condition = False"
   ]
  },
  {
   "cell_type": "markdown",
   "id": "75ef0234-5688-44bb-b86f-958f8af57602",
   "metadata": {},
   "source": [
    "*a= 10, b= 20,\n",
    "Swipe the values without using the 3rd variable\n",
    "Output: a= 20, b = 10\n"
   ]
  },
  {
   "cell_type": "code",
   "execution_count": 60,
   "id": "1dda9499-1975-460d-b298-8bfdaa00cc8b",
   "metadata": {},
   "outputs": [
    {
     "name": "stdout",
     "output_type": "stream",
     "text": [
      "Before Swapping \n",
      "a =  10  b =  20\n",
      "After Swapping \n",
      "a =  20  b =  10\n"
     ]
    }
   ],
   "source": [
    "a = 10 ; b = 20\n",
    "print(\"Before Swapping \\n\" \"a = \", a, \" b = \", b)\n",
    "a, b = b, a\n",
    "print(\"After Swapping \\n\" \"a = \", a, \" b = \", b)"
   ]
  },
  {
   "cell_type": "code",
   "execution_count": null,
   "id": "6e94c0f4-2ba1-400d-9e44-c147a2ef8022",
   "metadata": {},
   "outputs": [],
   "source": []
  }
 ],
 "metadata": {
  "kernelspec": {
   "display_name": "Python [conda env:base] *",
   "language": "python",
   "name": "conda-base-py"
  },
  "language_info": {
   "codemirror_mode": {
    "name": "ipython",
    "version": 3
   },
   "file_extension": ".py",
   "mimetype": "text/x-python",
   "name": "python",
   "nbconvert_exporter": "python",
   "pygments_lexer": "ipython3",
   "version": "3.12.7"
  }
 },
 "nbformat": 4,
 "nbformat_minor": 5
}
