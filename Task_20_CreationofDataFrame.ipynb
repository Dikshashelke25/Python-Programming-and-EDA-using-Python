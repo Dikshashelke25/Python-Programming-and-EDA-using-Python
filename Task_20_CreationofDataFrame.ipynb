{
 "cells": [
  {
   "cell_type": "markdown",
   "id": "b5ea26af-2a3f-4d9f-ae3a-19985b85047b",
   "metadata": {},
   "source": [
    "#### Task 20 - Creation of DataFrame:\n"
   ]
  },
  {
   "cell_type": "markdown",
   "id": "93cedb09-9720-42a2-8fd1-8fed97cd4dff",
   "metadata": {},
   "source": [
    "#### 1.What is Dataframe ? Write it’s key Features and applications.\n"
   ]
  },
  {
   "cell_type": "markdown",
   "id": "b365927e-0529-4e76-9925-441a9f81611d",
   "metadata": {},
   "source": [
    "A DataFrame is a two-dimensional, mutable, tabular data structure commonly used in data analysis and manipulation. It consists of rows and columns, where each column can hold different types of data such as integers, floats, strings, or even other objects. \n",
    "\n",
    "#### Key Features of a DataFrame\n",
    "1. **Tabular Structure**: Organized in rows and columns, resembling a table.\n",
    "2. **Heterogeneous Data Types**: Columns can contain different types of data.\n",
    "3. **Labeling**: Both rows and columns can be labeled for easier access.\n",
    "4. **Indexing**: Efficiently index and slice data for manipulation.\n",
    "5. **Data Manipulation**: Provides methods for filtering, aggregating, merging, and reshaping data.\n",
    "6. **Integration**: Works well with other data sources like databases, CSV files, Excel sheets, etc.\n",
    "7. **Handling Missing Data**: Tools to identify, fill, or drop missing values.\n",
    "8. **Scalability**: Libraries such as Spark DataFrame offer distributed computing for handling big data.\n",
    "\n",
    "#### Applications of DataFrames\n",
    "1. **Data Cleaning**: Removing duplicates, handling missing values, and formatting data.\n",
    "2. **Exploratory Data Analysis (EDA)**: Performing statistical operations and visualizing data insights.\n",
    "3. **Machine Learning**: Preparing datasets for training and testing models.\n",
    "4. **Data Transformation**: Aggregating, reshaping, and combining data for analysis.\n",
    "5. **Big Data**: Handling massive datasets efficiently with frameworks like Spark.\n",
    "6. **Finance**: Analyzing stock data, portfolio management, etc.\n",
    "7. **Scientific Computing**: Manipulating experimental data in research and engineering.\n",
    "8. **Web Data Scraping**: Organizing extracted web data for further analysis."
   ]
  },
  {
   "cell_type": "code",
   "execution_count": 12,
   "id": "b5786b20-5a5a-461f-bd5c-e592b8a6c400",
   "metadata": {},
   "outputs": [],
   "source": [
    "import numpy as np\n",
    "import pandas as pd"
   ]
  },
  {
   "cell_type": "markdown",
   "id": "fdbab897-0d29-447b-9d83-c70c3984fec4",
   "metadata": {},
   "source": [
    "#### 2.Create a series of the numpy and perform mean, median, mode, variance, and standard deviation on the array. \n"
   ]
  },
  {
   "cell_type": "code",
   "execution_count": 25,
   "id": "2af2d62d-a529-4a2f-808b-caea08e8d5c9",
   "metadata": {},
   "outputs": [
    {
     "name": "stdout",
     "output_type": "stream",
     "text": [
      "Series :\n",
      "0    10\n",
      "1    20\n",
      "2    20\n",
      "3    30\n",
      "4    40\n",
      "5    10\n",
      "6    50\n",
      "7    20\n",
      "dtype: int32\n",
      "Mean :  25.0\n",
      "Median :  20.0\n",
      "Mode :  0    20\n",
      "dtype: int32\n",
      "Variance :  200.0\n",
      "Standard deviation :  14.142135623730951\n"
     ]
    }
   ],
   "source": [
    "array = np.array([10, 20, 20, 30, 40, 10, 50, 20])\n",
    "series = pd.Series(array)\n",
    "print(\"Series :\")\n",
    "print(series)\n",
    "\n",
    "print(\"Mean : \",series.mean())\n",
    "print(\"Median : \",series.median())\n",
    "print(\"Mode : \",series.mode())\n",
    "print(\"Variance : \",series.var())\n",
    "print(\"Standard deviation : \",series.std())"
   ]
  },
  {
   "cell_type": "markdown",
   "id": "adbd4f90-fbaa-4072-9b6d-60acfa029337",
   "metadata": {},
   "source": [
    "#### 3.Create a Pandas DataFrame with the following data:\n",
    "\tdata = {'Name': ['Alice', 'Bob', 'Charlie', 'David'],\n",
    "        \t\t 'Age': [25, 30, 35, 40],\n",
    "        \t\t 'Salary': [50000, 60000, 75000, 90000]}\n"
   ]
  },
  {
   "cell_type": "code",
   "execution_count": 29,
   "id": "45cdd4e1-6d84-4c30-a3b4-dbd169cfe2e1",
   "metadata": {},
   "outputs": [
    {
     "data": {
      "text/html": [
       "<div>\n",
       "<style scoped>\n",
       "    .dataframe tbody tr th:only-of-type {\n",
       "        vertical-align: middle;\n",
       "    }\n",
       "\n",
       "    .dataframe tbody tr th {\n",
       "        vertical-align: top;\n",
       "    }\n",
       "\n",
       "    .dataframe thead th {\n",
       "        text-align: right;\n",
       "    }\n",
       "</style>\n",
       "<table border=\"1\" class=\"dataframe\">\n",
       "  <thead>\n",
       "    <tr style=\"text-align: right;\">\n",
       "      <th></th>\n",
       "      <th>Name</th>\n",
       "      <th>Age</th>\n",
       "      <th>Salary</th>\n",
       "    </tr>\n",
       "  </thead>\n",
       "  <tbody>\n",
       "    <tr>\n",
       "      <th>0</th>\n",
       "      <td>Alice</td>\n",
       "      <td>25</td>\n",
       "      <td>50000</td>\n",
       "    </tr>\n",
       "    <tr>\n",
       "      <th>1</th>\n",
       "      <td>Bob</td>\n",
       "      <td>30</td>\n",
       "      <td>60000</td>\n",
       "    </tr>\n",
       "    <tr>\n",
       "      <th>2</th>\n",
       "      <td>Charlie</td>\n",
       "      <td>35</td>\n",
       "      <td>75000</td>\n",
       "    </tr>\n",
       "    <tr>\n",
       "      <th>3</th>\n",
       "      <td>David</td>\n",
       "      <td>40</td>\n",
       "      <td>90000</td>\n",
       "    </tr>\n",
       "  </tbody>\n",
       "</table>\n",
       "</div>"
      ],
      "text/plain": [
       "      Name  Age  Salary\n",
       "0    Alice   25   50000\n",
       "1      Bob   30   60000\n",
       "2  Charlie   35   75000\n",
       "3    David   40   90000"
      ]
     },
     "execution_count": 29,
     "metadata": {},
     "output_type": "execute_result"
    }
   ],
   "source": [
    "data = {'Name': ['Alice', 'Bob', 'Charlie', 'David'],\n",
    "        'Age': [25, 30, 35, 40],\n",
    "        'Salary': [50000, 60000, 75000, 90000]}\n",
    "\n",
    "df = pd.DataFrame(data)\n",
    "df"
   ]
  },
  {
   "cell_type": "markdown",
   "id": "34cab712-4b25-4760-a264-60fc2732312f",
   "metadata": {},
   "source": [
    "#### a.Print the 'Name' column from the above dataframe. Also Print the first two rows of the DataFrame.\n"
   ]
  },
  {
   "cell_type": "code",
   "execution_count": 31,
   "id": "25d3f9cc-bffb-47c3-ae54-3ecd526eaa76",
   "metadata": {},
   "outputs": [
    {
     "data": {
      "text/plain": [
       "0      Alice\n",
       "1        Bob\n",
       "2    Charlie\n",
       "3      David\n",
       "Name: Name, dtype: object"
      ]
     },
     "execution_count": 31,
     "metadata": {},
     "output_type": "execute_result"
    }
   ],
   "source": [
    "df.Name"
   ]
  },
  {
   "cell_type": "code",
   "execution_count": 35,
   "id": "949d72d6-1fef-47f1-b7a8-613b1a48f4fa",
   "metadata": {},
   "outputs": [
    {
     "data": {
      "text/html": [
       "<div>\n",
       "<style scoped>\n",
       "    .dataframe tbody tr th:only-of-type {\n",
       "        vertical-align: middle;\n",
       "    }\n",
       "\n",
       "    .dataframe tbody tr th {\n",
       "        vertical-align: top;\n",
       "    }\n",
       "\n",
       "    .dataframe thead th {\n",
       "        text-align: right;\n",
       "    }\n",
       "</style>\n",
       "<table border=\"1\" class=\"dataframe\">\n",
       "  <thead>\n",
       "    <tr style=\"text-align: right;\">\n",
       "      <th></th>\n",
       "      <th>Name</th>\n",
       "      <th>Age</th>\n",
       "      <th>Salary</th>\n",
       "    </tr>\n",
       "  </thead>\n",
       "  <tbody>\n",
       "    <tr>\n",
       "      <th>0</th>\n",
       "      <td>Alice</td>\n",
       "      <td>25</td>\n",
       "      <td>50000</td>\n",
       "    </tr>\n",
       "    <tr>\n",
       "      <th>1</th>\n",
       "      <td>Bob</td>\n",
       "      <td>30</td>\n",
       "      <td>60000</td>\n",
       "    </tr>\n",
       "  </tbody>\n",
       "</table>\n",
       "</div>"
      ],
      "text/plain": [
       "    Name  Age  Salary\n",
       "0  Alice   25   50000\n",
       "1    Bob   30   60000"
      ]
     },
     "execution_count": 35,
     "metadata": {},
     "output_type": "execute_result"
    }
   ],
   "source": [
    "df[:2]"
   ]
  },
  {
   "cell_type": "markdown",
   "id": "082d9ced-5a0e-4e46-98ea-87c0456a9e3e",
   "metadata": {},
   "source": [
    "#### b.Sort the DataFrame based on 'Age' in descending order and display it.\n"
   ]
  },
  {
   "cell_type": "code",
   "execution_count": 45,
   "id": "1b385e04-08bc-4c79-bb5d-1976653d27a5",
   "metadata": {},
   "outputs": [
    {
     "data": {
      "text/html": [
       "<div>\n",
       "<style scoped>\n",
       "    .dataframe tbody tr th:only-of-type {\n",
       "        vertical-align: middle;\n",
       "    }\n",
       "\n",
       "    .dataframe tbody tr th {\n",
       "        vertical-align: top;\n",
       "    }\n",
       "\n",
       "    .dataframe thead th {\n",
       "        text-align: right;\n",
       "    }\n",
       "</style>\n",
       "<table border=\"1\" class=\"dataframe\">\n",
       "  <thead>\n",
       "    <tr style=\"text-align: right;\">\n",
       "      <th></th>\n",
       "      <th>Name</th>\n",
       "      <th>Age</th>\n",
       "      <th>Salary</th>\n",
       "    </tr>\n",
       "  </thead>\n",
       "  <tbody>\n",
       "    <tr>\n",
       "      <th>3</th>\n",
       "      <td>David</td>\n",
       "      <td>40</td>\n",
       "      <td>90000</td>\n",
       "    </tr>\n",
       "    <tr>\n",
       "      <th>2</th>\n",
       "      <td>Charlie</td>\n",
       "      <td>35</td>\n",
       "      <td>75000</td>\n",
       "    </tr>\n",
       "    <tr>\n",
       "      <th>1</th>\n",
       "      <td>Bob</td>\n",
       "      <td>30</td>\n",
       "      <td>60000</td>\n",
       "    </tr>\n",
       "    <tr>\n",
       "      <th>0</th>\n",
       "      <td>Alice</td>\n",
       "      <td>25</td>\n",
       "      <td>50000</td>\n",
       "    </tr>\n",
       "  </tbody>\n",
       "</table>\n",
       "</div>"
      ],
      "text/plain": [
       "      Name  Age  Salary\n",
       "3    David   40   90000\n",
       "2  Charlie   35   75000\n",
       "1      Bob   30   60000\n",
       "0    Alice   25   50000"
      ]
     },
     "execution_count": 45,
     "metadata": {},
     "output_type": "execute_result"
    }
   ],
   "source": [
    "df.sort_values(by='Age', ascending = False)"
   ]
  },
  {
   "cell_type": "markdown",
   "id": "90a9cd28-0d99-46ca-b9d1-fd9c34cc98f7",
   "metadata": {},
   "source": [
    "#### c.Convert the above Pandas DataFrame into a CSV file named 'employees.csv'. Replace the index with the 'EmpID' column permanently.\n"
   ]
  },
  {
   "cell_type": "code",
   "execution_count": 49,
   "id": "20cc257c-5849-41f8-a9c9-3d8fae37f7f6",
   "metadata": {},
   "outputs": [],
   "source": [
    "df.to_csv('employees.csv')"
   ]
  },
  {
   "cell_type": "code",
   "execution_count": 51,
   "id": "16290cc5-2714-46af-b9c0-5bb1b18b256f",
   "metadata": {},
   "outputs": [
    {
     "data": {
      "text/html": [
       "<div>\n",
       "<style scoped>\n",
       "    .dataframe tbody tr th:only-of-type {\n",
       "        vertical-align: middle;\n",
       "    }\n",
       "\n",
       "    .dataframe tbody tr th {\n",
       "        vertical-align: top;\n",
       "    }\n",
       "\n",
       "    .dataframe thead th {\n",
       "        text-align: right;\n",
       "    }\n",
       "</style>\n",
       "<table border=\"1\" class=\"dataframe\">\n",
       "  <thead>\n",
       "    <tr style=\"text-align: right;\">\n",
       "      <th></th>\n",
       "      <th>Name</th>\n",
       "      <th>Age</th>\n",
       "      <th>Salary</th>\n",
       "    </tr>\n",
       "    <tr>\n",
       "      <th>EmpID</th>\n",
       "      <th></th>\n",
       "      <th></th>\n",
       "      <th></th>\n",
       "    </tr>\n",
       "  </thead>\n",
       "  <tbody>\n",
       "    <tr>\n",
       "      <th>101</th>\n",
       "      <td>Alice</td>\n",
       "      <td>25</td>\n",
       "      <td>50000</td>\n",
       "    </tr>\n",
       "    <tr>\n",
       "      <th>102</th>\n",
       "      <td>Bob</td>\n",
       "      <td>30</td>\n",
       "      <td>60000</td>\n",
       "    </tr>\n",
       "    <tr>\n",
       "      <th>103</th>\n",
       "      <td>Charlie</td>\n",
       "      <td>35</td>\n",
       "      <td>75000</td>\n",
       "    </tr>\n",
       "    <tr>\n",
       "      <th>104</th>\n",
       "      <td>David</td>\n",
       "      <td>40</td>\n",
       "      <td>90000</td>\n",
       "    </tr>\n",
       "  </tbody>\n",
       "</table>\n",
       "</div>"
      ],
      "text/plain": [
       "          Name  Age  Salary\n",
       "EmpID                      \n",
       "101      Alice   25   50000\n",
       "102        Bob   30   60000\n",
       "103    Charlie   35   75000\n",
       "104      David   40   90000"
      ]
     },
     "execution_count": 51,
     "metadata": {},
     "output_type": "execute_result"
    }
   ],
   "source": [
    "df['EmpID'] = [101, 102, 103, 104]\n",
    "df.set_index('EmpID', inplace=True)\n",
    "df"
   ]
  },
  {
   "cell_type": "markdown",
   "id": "f0ddb2c1-96cf-4905-9359-3821bbdf3382",
   "metadata": {},
   "source": [
    "#### 4.Print the details of the person with the highest and lowest salary from the above dataframe.\n"
   ]
  },
  {
   "cell_type": "code",
   "execution_count": 60,
   "id": "dfe03d1a-b2c8-480f-9eeb-4b59447e4765",
   "metadata": {},
   "outputs": [
    {
     "data": {
      "text/html": [
       "<div>\n",
       "<style scoped>\n",
       "    .dataframe tbody tr th:only-of-type {\n",
       "        vertical-align: middle;\n",
       "    }\n",
       "\n",
       "    .dataframe tbody tr th {\n",
       "        vertical-align: top;\n",
       "    }\n",
       "\n",
       "    .dataframe thead th {\n",
       "        text-align: right;\n",
       "    }\n",
       "</style>\n",
       "<table border=\"1\" class=\"dataframe\">\n",
       "  <thead>\n",
       "    <tr style=\"text-align: right;\">\n",
       "      <th></th>\n",
       "      <th>Name</th>\n",
       "      <th>Age</th>\n",
       "      <th>Salary</th>\n",
       "    </tr>\n",
       "    <tr>\n",
       "      <th>EmpID</th>\n",
       "      <th></th>\n",
       "      <th></th>\n",
       "      <th></th>\n",
       "    </tr>\n",
       "  </thead>\n",
       "  <tbody>\n",
       "    <tr>\n",
       "      <th>104</th>\n",
       "      <td>David</td>\n",
       "      <td>40</td>\n",
       "      <td>90000</td>\n",
       "    </tr>\n",
       "  </tbody>\n",
       "</table>\n",
       "</div>"
      ],
      "text/plain": [
       "        Name  Age  Salary\n",
       "EmpID                    \n",
       "104    David   40   90000"
      ]
     },
     "execution_count": 60,
     "metadata": {},
     "output_type": "execute_result"
    }
   ],
   "source": [
    "df[df.Salary == df.Salary.max()]"
   ]
  },
  {
   "cell_type": "code",
   "execution_count": 62,
   "id": "fe2b00e5-61ef-4388-84bd-92a02887cf6b",
   "metadata": {},
   "outputs": [
    {
     "data": {
      "text/html": [
       "<div>\n",
       "<style scoped>\n",
       "    .dataframe tbody tr th:only-of-type {\n",
       "        vertical-align: middle;\n",
       "    }\n",
       "\n",
       "    .dataframe tbody tr th {\n",
       "        vertical-align: top;\n",
       "    }\n",
       "\n",
       "    .dataframe thead th {\n",
       "        text-align: right;\n",
       "    }\n",
       "</style>\n",
       "<table border=\"1\" class=\"dataframe\">\n",
       "  <thead>\n",
       "    <tr style=\"text-align: right;\">\n",
       "      <th></th>\n",
       "      <th>Name</th>\n",
       "      <th>Age</th>\n",
       "      <th>Salary</th>\n",
       "    </tr>\n",
       "    <tr>\n",
       "      <th>EmpID</th>\n",
       "      <th></th>\n",
       "      <th></th>\n",
       "      <th></th>\n",
       "    </tr>\n",
       "  </thead>\n",
       "  <tbody>\n",
       "    <tr>\n",
       "      <th>101</th>\n",
       "      <td>Alice</td>\n",
       "      <td>25</td>\n",
       "      <td>50000</td>\n",
       "    </tr>\n",
       "  </tbody>\n",
       "</table>\n",
       "</div>"
      ],
      "text/plain": [
       "        Name  Age  Salary\n",
       "EmpID                    \n",
       "101    Alice   25   50000"
      ]
     },
     "execution_count": 62,
     "metadata": {},
     "output_type": "execute_result"
    }
   ],
   "source": [
    "df[df.Salary == df.Salary.min()]"
   ]
  },
  {
   "cell_type": "markdown",
   "id": "2852a15b-dc47-4821-963a-8ebad4d05daf",
   "metadata": {},
   "source": [
    "#### a.Calculate and print the average age and salary.\n"
   ]
  },
  {
   "cell_type": "code",
   "execution_count": 64,
   "id": "4a69a853-ae02-4869-8a5f-10c02ebcdf0a",
   "metadata": {},
   "outputs": [
    {
     "data": {
      "text/plain": [
       "32.5"
      ]
     },
     "execution_count": 64,
     "metadata": {},
     "output_type": "execute_result"
    }
   ],
   "source": [
    "df.Age.mean()"
   ]
  },
  {
   "cell_type": "code",
   "execution_count": 66,
   "id": "4708d11c-1de4-4a6d-99ee-4b571769a4a7",
   "metadata": {},
   "outputs": [
    {
     "data": {
      "text/plain": [
       "68750.0"
      ]
     },
     "execution_count": 66,
     "metadata": {},
     "output_type": "execute_result"
    }
   ],
   "source": [
    "df.Salary.mean()"
   ]
  },
  {
   "cell_type": "markdown",
   "id": "d501c916-4f1f-44eb-8aa3-6715fa99047e",
   "metadata": {},
   "source": [
    "#### b.Select and print the rows where Age is less than 35 and Salary is greater than 60000.\n"
   ]
  },
  {
   "cell_type": "code",
   "execution_count": 78,
   "id": "d5e368dd-094c-4b5c-ba16-ffd47c7862a5",
   "metadata": {},
   "outputs": [
    {
     "data": {
      "text/html": [
       "<div>\n",
       "<style scoped>\n",
       "    .dataframe tbody tr th:only-of-type {\n",
       "        vertical-align: middle;\n",
       "    }\n",
       "\n",
       "    .dataframe tbody tr th {\n",
       "        vertical-align: top;\n",
       "    }\n",
       "\n",
       "    .dataframe thead th {\n",
       "        text-align: right;\n",
       "    }\n",
       "</style>\n",
       "<table border=\"1\" class=\"dataframe\">\n",
       "  <thead>\n",
       "    <tr style=\"text-align: right;\">\n",
       "      <th></th>\n",
       "      <th>Name</th>\n",
       "      <th>Age</th>\n",
       "      <th>Salary</th>\n",
       "    </tr>\n",
       "    <tr>\n",
       "      <th>EmpID</th>\n",
       "      <th></th>\n",
       "      <th></th>\n",
       "      <th></th>\n",
       "    </tr>\n",
       "  </thead>\n",
       "  <tbody>\n",
       "  </tbody>\n",
       "</table>\n",
       "</div>"
      ],
      "text/plain": [
       "Empty DataFrame\n",
       "Columns: [Name, Age, Salary]\n",
       "Index: []"
      ]
     },
     "execution_count": 78,
     "metadata": {},
     "output_type": "execute_result"
    }
   ],
   "source": [
    "df[(df.Age < 35) & (df.Salary > 60000)]"
   ]
  },
  {
   "cell_type": "markdown",
   "id": "12f6c02f-b6e8-4826-9b12-79ea6218827c",
   "metadata": {},
   "source": [
    "#### 5.Create a Pandas DataFrame from the following dictionary\n",
    " \tdata = {'City': ['New York', 'London', 'Tokyo', 'Paris'],\n",
    "        \t\t 'Population': [8398748, 8982256, 37435191, 2140526],\n",
    "        \t\t 'Area_km2': [468.9, 1572, 2191, 105.4]}\n"
   ]
  },
  {
   "cell_type": "code",
   "execution_count": 80,
   "id": "ecc8783b-cc09-4017-b951-2e55afab00aa",
   "metadata": {},
   "outputs": [
    {
     "data": {
      "text/html": [
       "<div>\n",
       "<style scoped>\n",
       "    .dataframe tbody tr th:only-of-type {\n",
       "        vertical-align: middle;\n",
       "    }\n",
       "\n",
       "    .dataframe tbody tr th {\n",
       "        vertical-align: top;\n",
       "    }\n",
       "\n",
       "    .dataframe thead th {\n",
       "        text-align: right;\n",
       "    }\n",
       "</style>\n",
       "<table border=\"1\" class=\"dataframe\">\n",
       "  <thead>\n",
       "    <tr style=\"text-align: right;\">\n",
       "      <th></th>\n",
       "      <th>City</th>\n",
       "      <th>Population</th>\n",
       "      <th>Area_km2</th>\n",
       "    </tr>\n",
       "  </thead>\n",
       "  <tbody>\n",
       "    <tr>\n",
       "      <th>0</th>\n",
       "      <td>New York</td>\n",
       "      <td>8398748</td>\n",
       "      <td>468.9</td>\n",
       "    </tr>\n",
       "    <tr>\n",
       "      <th>1</th>\n",
       "      <td>London</td>\n",
       "      <td>8982256</td>\n",
       "      <td>1572.0</td>\n",
       "    </tr>\n",
       "    <tr>\n",
       "      <th>2</th>\n",
       "      <td>Tokyo</td>\n",
       "      <td>37435191</td>\n",
       "      <td>2191.0</td>\n",
       "    </tr>\n",
       "    <tr>\n",
       "      <th>3</th>\n",
       "      <td>Paris</td>\n",
       "      <td>2140526</td>\n",
       "      <td>105.4</td>\n",
       "    </tr>\n",
       "  </tbody>\n",
       "</table>\n",
       "</div>"
      ],
      "text/plain": [
       "       City  Population  Area_km2\n",
       "0  New York     8398748     468.9\n",
       "1    London     8982256    1572.0\n",
       "2     Tokyo    37435191    2191.0\n",
       "3     Paris     2140526     105.4"
      ]
     },
     "execution_count": 80,
     "metadata": {},
     "output_type": "execute_result"
    }
   ],
   "source": [
    "data = {'City': ['New York', 'London', 'Tokyo', 'Paris'],\n",
    "        'Population': [8398748, 8982256, 37435191, 2140526],\n",
    "        'Area_km2': [468.9, 1572, 2191, 105.4]}\n",
    "\n",
    "df = pd.DataFrame(data)\n",
    "df"
   ]
  },
  {
   "cell_type": "markdown",
   "id": "078d61a4-bd00-4d5e-bbe2-83711bdfa480",
   "metadata": {},
   "source": [
    "#### a.Add a new column 'Population_Density' calculated as Population/Area_km2. Print the modified DataFrame.\n"
   ]
  },
  {
   "cell_type": "code",
   "execution_count": 82,
   "id": "d67a9a81-d9e5-4238-9e76-a4a816f0b8bd",
   "metadata": {},
   "outputs": [
    {
     "data": {
      "text/html": [
       "<div>\n",
       "<style scoped>\n",
       "    .dataframe tbody tr th:only-of-type {\n",
       "        vertical-align: middle;\n",
       "    }\n",
       "\n",
       "    .dataframe tbody tr th {\n",
       "        vertical-align: top;\n",
       "    }\n",
       "\n",
       "    .dataframe thead th {\n",
       "        text-align: right;\n",
       "    }\n",
       "</style>\n",
       "<table border=\"1\" class=\"dataframe\">\n",
       "  <thead>\n",
       "    <tr style=\"text-align: right;\">\n",
       "      <th></th>\n",
       "      <th>City</th>\n",
       "      <th>Population</th>\n",
       "      <th>Area_km2</th>\n",
       "      <th>Population_Density</th>\n",
       "    </tr>\n",
       "  </thead>\n",
       "  <tbody>\n",
       "    <tr>\n",
       "      <th>0</th>\n",
       "      <td>New York</td>\n",
       "      <td>8398748</td>\n",
       "      <td>468.9</td>\n",
       "      <td>17911.597356</td>\n",
       "    </tr>\n",
       "    <tr>\n",
       "      <th>1</th>\n",
       "      <td>London</td>\n",
       "      <td>8982256</td>\n",
       "      <td>1572.0</td>\n",
       "      <td>5713.903308</td>\n",
       "    </tr>\n",
       "    <tr>\n",
       "      <th>2</th>\n",
       "      <td>Tokyo</td>\n",
       "      <td>37435191</td>\n",
       "      <td>2191.0</td>\n",
       "      <td>17085.892743</td>\n",
       "    </tr>\n",
       "    <tr>\n",
       "      <th>3</th>\n",
       "      <td>Paris</td>\n",
       "      <td>2140526</td>\n",
       "      <td>105.4</td>\n",
       "      <td>20308.595825</td>\n",
       "    </tr>\n",
       "  </tbody>\n",
       "</table>\n",
       "</div>"
      ],
      "text/plain": [
       "       City  Population  Area_km2  Population_Density\n",
       "0  New York     8398748     468.9        17911.597356\n",
       "1    London     8982256    1572.0         5713.903308\n",
       "2     Tokyo    37435191    2191.0        17085.892743\n",
       "3     Paris     2140526     105.4        20308.595825"
      ]
     },
     "execution_count": 82,
     "metadata": {},
     "output_type": "execute_result"
    }
   ],
   "source": [
    "df['Population_Density'] = df['Population'] / df['Area_km2']\n",
    "df"
   ]
  },
  {
   "cell_type": "markdown",
   "id": "bfe4f7ae-172a-492e-9ee0-fb1663e843e9",
   "metadata": {},
   "source": [
    "#### 6.Create a Pandas DataFrame with the following data:\n",
    "    large_dict={\n",
    "           'ID': np.arange(1, 100001),\n",
    "           'Name': [f'Person_{i}' for i in range(1, 100001)],\n",
    "           'Age': np.random.randint(18, 65, size=100000)\n",
    "           'Salary': np.random.randint(40000, 120000, size=100000)\n",
    "           'City': np.random.choice(['New York', 'London', 'Tokyo', 'Paris'], size=100000)\n",
    "           }\n"
   ]
  },
  {
   "cell_type": "code",
   "execution_count": 18,
   "id": "70215820-978e-4e93-8019-de8bc5d06774",
   "metadata": {},
   "outputs": [
    {
     "data": {
      "text/html": [
       "<div>\n",
       "<style scoped>\n",
       "    .dataframe tbody tr th:only-of-type {\n",
       "        vertical-align: middle;\n",
       "    }\n",
       "\n",
       "    .dataframe tbody tr th {\n",
       "        vertical-align: top;\n",
       "    }\n",
       "\n",
       "    .dataframe thead th {\n",
       "        text-align: right;\n",
       "    }\n",
       "</style>\n",
       "<table border=\"1\" class=\"dataframe\">\n",
       "  <thead>\n",
       "    <tr style=\"text-align: right;\">\n",
       "      <th></th>\n",
       "      <th>ID</th>\n",
       "      <th>Name</th>\n",
       "      <th>Age</th>\n",
       "      <th>Salary</th>\n",
       "      <th>City</th>\n",
       "    </tr>\n",
       "  </thead>\n",
       "  <tbody>\n",
       "    <tr>\n",
       "      <th>0</th>\n",
       "      <td>1</td>\n",
       "      <td>Person_1</td>\n",
       "      <td>50</td>\n",
       "      <td>86412</td>\n",
       "      <td>Tokyo</td>\n",
       "    </tr>\n",
       "    <tr>\n",
       "      <th>1</th>\n",
       "      <td>2</td>\n",
       "      <td>Person_2</td>\n",
       "      <td>40</td>\n",
       "      <td>40618</td>\n",
       "      <td>Tokyo</td>\n",
       "    </tr>\n",
       "    <tr>\n",
       "      <th>2</th>\n",
       "      <td>3</td>\n",
       "      <td>Person_3</td>\n",
       "      <td>28</td>\n",
       "      <td>42573</td>\n",
       "      <td>Tokyo</td>\n",
       "    </tr>\n",
       "    <tr>\n",
       "      <th>3</th>\n",
       "      <td>4</td>\n",
       "      <td>Person_4</td>\n",
       "      <td>31</td>\n",
       "      <td>47385</td>\n",
       "      <td>Paris</td>\n",
       "    </tr>\n",
       "    <tr>\n",
       "      <th>4</th>\n",
       "      <td>5</td>\n",
       "      <td>Person_5</td>\n",
       "      <td>45</td>\n",
       "      <td>59903</td>\n",
       "      <td>New York</td>\n",
       "    </tr>\n",
       "    <tr>\n",
       "      <th>...</th>\n",
       "      <td>...</td>\n",
       "      <td>...</td>\n",
       "      <td>...</td>\n",
       "      <td>...</td>\n",
       "      <td>...</td>\n",
       "    </tr>\n",
       "    <tr>\n",
       "      <th>99995</th>\n",
       "      <td>99996</td>\n",
       "      <td>Person_99996</td>\n",
       "      <td>27</td>\n",
       "      <td>101140</td>\n",
       "      <td>Tokyo</td>\n",
       "    </tr>\n",
       "    <tr>\n",
       "      <th>99996</th>\n",
       "      <td>99997</td>\n",
       "      <td>Person_99997</td>\n",
       "      <td>27</td>\n",
       "      <td>73395</td>\n",
       "      <td>New York</td>\n",
       "    </tr>\n",
       "    <tr>\n",
       "      <th>99997</th>\n",
       "      <td>99998</td>\n",
       "      <td>Person_99998</td>\n",
       "      <td>28</td>\n",
       "      <td>48888</td>\n",
       "      <td>Tokyo</td>\n",
       "    </tr>\n",
       "    <tr>\n",
       "      <th>99998</th>\n",
       "      <td>99999</td>\n",
       "      <td>Person_99999</td>\n",
       "      <td>23</td>\n",
       "      <td>85474</td>\n",
       "      <td>London</td>\n",
       "    </tr>\n",
       "    <tr>\n",
       "      <th>99999</th>\n",
       "      <td>100000</td>\n",
       "      <td>Person_100000</td>\n",
       "      <td>44</td>\n",
       "      <td>114296</td>\n",
       "      <td>Paris</td>\n",
       "    </tr>\n",
       "  </tbody>\n",
       "</table>\n",
       "<p>100000 rows × 5 columns</p>\n",
       "</div>"
      ],
      "text/plain": [
       "           ID           Name  Age  Salary      City\n",
       "0           1       Person_1   50   86412     Tokyo\n",
       "1           2       Person_2   40   40618     Tokyo\n",
       "2           3       Person_3   28   42573     Tokyo\n",
       "3           4       Person_4   31   47385     Paris\n",
       "4           5       Person_5   45   59903  New York\n",
       "...       ...            ...  ...     ...       ...\n",
       "99995   99996   Person_99996   27  101140     Tokyo\n",
       "99996   99997   Person_99997   27   73395  New York\n",
       "99997   99998   Person_99998   28   48888     Tokyo\n",
       "99998   99999   Person_99999   23   85474    London\n",
       "99999  100000  Person_100000   44  114296     Paris\n",
       "\n",
       "[100000 rows x 5 columns]"
      ]
     },
     "execution_count": 18,
     "metadata": {},
     "output_type": "execute_result"
    }
   ],
   "source": [
    "large_dict = {\n",
    "       'ID': np.arange(1, 100001),\n",
    "       'Name': [f'Person_{i}' for i in range(1, 100001)],\n",
    "       'Age': np.random.randint(18, 65, size=100000),\n",
    "       'Salary': np.random.randint(40000, 120000, size=100000),\n",
    "       'City': np.random.choice(['New York', 'London', 'Tokyo', 'Paris'], size=100000)\n",
    "       }\n",
    "\n",
    "emp_data = pd.DataFrame(large_dict)\n",
    "emp_data"
   ]
  },
  {
   "cell_type": "markdown",
   "id": "f3a96fda-5f24-461e-b8c5-007b652026d2",
   "metadata": {},
   "source": [
    "#### a.Convert the dataframe into both CSV & Excel files and read those files.\n"
   ]
  },
  {
   "cell_type": "code",
   "execution_count": 29,
   "id": "71971a40-54ea-453c-9148-a0daaf0c4f89",
   "metadata": {},
   "outputs": [
    {
     "data": {
      "text/html": [
       "<div>\n",
       "<style scoped>\n",
       "    .dataframe tbody tr th:only-of-type {\n",
       "        vertical-align: middle;\n",
       "    }\n",
       "\n",
       "    .dataframe tbody tr th {\n",
       "        vertical-align: top;\n",
       "    }\n",
       "\n",
       "    .dataframe thead th {\n",
       "        text-align: right;\n",
       "    }\n",
       "</style>\n",
       "<table border=\"1\" class=\"dataframe\">\n",
       "  <thead>\n",
       "    <tr style=\"text-align: right;\">\n",
       "      <th></th>\n",
       "      <th>ID</th>\n",
       "      <th>Name</th>\n",
       "      <th>Age</th>\n",
       "      <th>Salary</th>\n",
       "      <th>City</th>\n",
       "    </tr>\n",
       "  </thead>\n",
       "  <tbody>\n",
       "    <tr>\n",
       "      <th>0</th>\n",
       "      <td>1</td>\n",
       "      <td>Person_1</td>\n",
       "      <td>50</td>\n",
       "      <td>86412</td>\n",
       "      <td>Tokyo</td>\n",
       "    </tr>\n",
       "    <tr>\n",
       "      <th>1</th>\n",
       "      <td>2</td>\n",
       "      <td>Person_2</td>\n",
       "      <td>40</td>\n",
       "      <td>40618</td>\n",
       "      <td>Tokyo</td>\n",
       "    </tr>\n",
       "    <tr>\n",
       "      <th>2</th>\n",
       "      <td>3</td>\n",
       "      <td>Person_3</td>\n",
       "      <td>28</td>\n",
       "      <td>42573</td>\n",
       "      <td>Tokyo</td>\n",
       "    </tr>\n",
       "    <tr>\n",
       "      <th>3</th>\n",
       "      <td>4</td>\n",
       "      <td>Person_4</td>\n",
       "      <td>31</td>\n",
       "      <td>47385</td>\n",
       "      <td>Paris</td>\n",
       "    </tr>\n",
       "    <tr>\n",
       "      <th>4</th>\n",
       "      <td>5</td>\n",
       "      <td>Person_5</td>\n",
       "      <td>45</td>\n",
       "      <td>59903</td>\n",
       "      <td>New York</td>\n",
       "    </tr>\n",
       "    <tr>\n",
       "      <th>...</th>\n",
       "      <td>...</td>\n",
       "      <td>...</td>\n",
       "      <td>...</td>\n",
       "      <td>...</td>\n",
       "      <td>...</td>\n",
       "    </tr>\n",
       "    <tr>\n",
       "      <th>99995</th>\n",
       "      <td>99996</td>\n",
       "      <td>Person_99996</td>\n",
       "      <td>27</td>\n",
       "      <td>101140</td>\n",
       "      <td>Tokyo</td>\n",
       "    </tr>\n",
       "    <tr>\n",
       "      <th>99996</th>\n",
       "      <td>99997</td>\n",
       "      <td>Person_99997</td>\n",
       "      <td>27</td>\n",
       "      <td>73395</td>\n",
       "      <td>New York</td>\n",
       "    </tr>\n",
       "    <tr>\n",
       "      <th>99997</th>\n",
       "      <td>99998</td>\n",
       "      <td>Person_99998</td>\n",
       "      <td>28</td>\n",
       "      <td>48888</td>\n",
       "      <td>Tokyo</td>\n",
       "    </tr>\n",
       "    <tr>\n",
       "      <th>99998</th>\n",
       "      <td>99999</td>\n",
       "      <td>Person_99999</td>\n",
       "      <td>23</td>\n",
       "      <td>85474</td>\n",
       "      <td>London</td>\n",
       "    </tr>\n",
       "    <tr>\n",
       "      <th>99999</th>\n",
       "      <td>100000</td>\n",
       "      <td>Person_100000</td>\n",
       "      <td>44</td>\n",
       "      <td>114296</td>\n",
       "      <td>Paris</td>\n",
       "    </tr>\n",
       "  </tbody>\n",
       "</table>\n",
       "<p>100000 rows × 5 columns</p>\n",
       "</div>"
      ],
      "text/plain": [
       "           ID           Name  Age  Salary      City\n",
       "0           1       Person_1   50   86412     Tokyo\n",
       "1           2       Person_2   40   40618     Tokyo\n",
       "2           3       Person_3   28   42573     Tokyo\n",
       "3           4       Person_4   31   47385     Paris\n",
       "4           5       Person_5   45   59903  New York\n",
       "...       ...            ...  ...     ...       ...\n",
       "99995   99996   Person_99996   27  101140     Tokyo\n",
       "99996   99997   Person_99997   27   73395  New York\n",
       "99997   99998   Person_99998   28   48888     Tokyo\n",
       "99998   99999   Person_99999   23   85474    London\n",
       "99999  100000  Person_100000   44  114296     Paris\n",
       "\n",
       "[100000 rows x 5 columns]"
      ]
     },
     "execution_count": 29,
     "metadata": {},
     "output_type": "execute_result"
    }
   ],
   "source": [
    "emp_data.to_csv('Employee_Data.csv',index=False)\n",
    "\n",
    "emp = pd.read_csv('Employee_Data.csv')\n",
    "emp"
   ]
  },
  {
   "cell_type": "code",
   "execution_count": 25,
   "id": "d8762fd1-c2e8-492c-89cf-bd266e7a8a02",
   "metadata": {},
   "outputs": [],
   "source": [
    "emp_data.to_excel('Employee_file.xlsx',sheet_name='Employee_2025',index=False)\n"
   ]
  },
  {
   "cell_type": "code",
   "execution_count": 27,
   "id": "259a769f-dcc8-4486-bcce-ea53ed02aeb1",
   "metadata": {},
   "outputs": [
    {
     "data": {
      "text/html": [
       "<div>\n",
       "<style scoped>\n",
       "    .dataframe tbody tr th:only-of-type {\n",
       "        vertical-align: middle;\n",
       "    }\n",
       "\n",
       "    .dataframe tbody tr th {\n",
       "        vertical-align: top;\n",
       "    }\n",
       "\n",
       "    .dataframe thead th {\n",
       "        text-align: right;\n",
       "    }\n",
       "</style>\n",
       "<table border=\"1\" class=\"dataframe\">\n",
       "  <thead>\n",
       "    <tr style=\"text-align: right;\">\n",
       "      <th></th>\n",
       "      <th>ID</th>\n",
       "      <th>Name</th>\n",
       "      <th>Age</th>\n",
       "      <th>Salary</th>\n",
       "      <th>City</th>\n",
       "    </tr>\n",
       "  </thead>\n",
       "  <tbody>\n",
       "    <tr>\n",
       "      <th>0</th>\n",
       "      <td>1</td>\n",
       "      <td>Person_1</td>\n",
       "      <td>50</td>\n",
       "      <td>86412</td>\n",
       "      <td>Tokyo</td>\n",
       "    </tr>\n",
       "    <tr>\n",
       "      <th>1</th>\n",
       "      <td>2</td>\n",
       "      <td>Person_2</td>\n",
       "      <td>40</td>\n",
       "      <td>40618</td>\n",
       "      <td>Tokyo</td>\n",
       "    </tr>\n",
       "    <tr>\n",
       "      <th>2</th>\n",
       "      <td>3</td>\n",
       "      <td>Person_3</td>\n",
       "      <td>28</td>\n",
       "      <td>42573</td>\n",
       "      <td>Tokyo</td>\n",
       "    </tr>\n",
       "    <tr>\n",
       "      <th>3</th>\n",
       "      <td>4</td>\n",
       "      <td>Person_4</td>\n",
       "      <td>31</td>\n",
       "      <td>47385</td>\n",
       "      <td>Paris</td>\n",
       "    </tr>\n",
       "    <tr>\n",
       "      <th>4</th>\n",
       "      <td>5</td>\n",
       "      <td>Person_5</td>\n",
       "      <td>45</td>\n",
       "      <td>59903</td>\n",
       "      <td>New York</td>\n",
       "    </tr>\n",
       "    <tr>\n",
       "      <th>...</th>\n",
       "      <td>...</td>\n",
       "      <td>...</td>\n",
       "      <td>...</td>\n",
       "      <td>...</td>\n",
       "      <td>...</td>\n",
       "    </tr>\n",
       "    <tr>\n",
       "      <th>99995</th>\n",
       "      <td>99996</td>\n",
       "      <td>Person_99996</td>\n",
       "      <td>27</td>\n",
       "      <td>101140</td>\n",
       "      <td>Tokyo</td>\n",
       "    </tr>\n",
       "    <tr>\n",
       "      <th>99996</th>\n",
       "      <td>99997</td>\n",
       "      <td>Person_99997</td>\n",
       "      <td>27</td>\n",
       "      <td>73395</td>\n",
       "      <td>New York</td>\n",
       "    </tr>\n",
       "    <tr>\n",
       "      <th>99997</th>\n",
       "      <td>99998</td>\n",
       "      <td>Person_99998</td>\n",
       "      <td>28</td>\n",
       "      <td>48888</td>\n",
       "      <td>Tokyo</td>\n",
       "    </tr>\n",
       "    <tr>\n",
       "      <th>99998</th>\n",
       "      <td>99999</td>\n",
       "      <td>Person_99999</td>\n",
       "      <td>23</td>\n",
       "      <td>85474</td>\n",
       "      <td>London</td>\n",
       "    </tr>\n",
       "    <tr>\n",
       "      <th>99999</th>\n",
       "      <td>100000</td>\n",
       "      <td>Person_100000</td>\n",
       "      <td>44</td>\n",
       "      <td>114296</td>\n",
       "      <td>Paris</td>\n",
       "    </tr>\n",
       "  </tbody>\n",
       "</table>\n",
       "<p>100000 rows × 5 columns</p>\n",
       "</div>"
      ],
      "text/plain": [
       "           ID           Name  Age  Salary      City\n",
       "0           1       Person_1   50   86412     Tokyo\n",
       "1           2       Person_2   40   40618     Tokyo\n",
       "2           3       Person_3   28   42573     Tokyo\n",
       "3           4       Person_4   31   47385     Paris\n",
       "4           5       Person_5   45   59903  New York\n",
       "...       ...            ...  ...     ...       ...\n",
       "99995   99996   Person_99996   27  101140     Tokyo\n",
       "99996   99997   Person_99997   27   73395  New York\n",
       "99997   99998   Person_99998   28   48888     Tokyo\n",
       "99998   99999   Person_99999   23   85474    London\n",
       "99999  100000  Person_100000   44  114296     Paris\n",
       "\n",
       "[100000 rows x 5 columns]"
      ]
     },
     "execution_count": 27,
     "metadata": {},
     "output_type": "execute_result"
    }
   ],
   "source": [
    "emp_file = pd.read_excel('Employee_file.xlsx')\n",
    "emp_file"
   ]
  },
  {
   "cell_type": "markdown",
   "id": "778e3eb6-75a8-4e42-a57e-95bf0a62fc51",
   "metadata": {},
   "source": [
    "#### 7.Display information about the DataFrame. And show the last ten rows of the dataframe.\n"
   ]
  },
  {
   "cell_type": "code",
   "execution_count": 33,
   "id": "c9ea13c0-e6f6-4881-9bc2-02e57083bccd",
   "metadata": {},
   "outputs": [
    {
     "data": {
      "text/plain": [
       "<bound method DataFrame.info of            ID           Name  Age  Salary      City\n",
       "0           1       Person_1   50   86412     Tokyo\n",
       "1           2       Person_2   40   40618     Tokyo\n",
       "2           3       Person_3   28   42573     Tokyo\n",
       "3           4       Person_4   31   47385     Paris\n",
       "4           5       Person_5   45   59903  New York\n",
       "...       ...            ...  ...     ...       ...\n",
       "99995   99996   Person_99996   27  101140     Tokyo\n",
       "99996   99997   Person_99997   27   73395  New York\n",
       "99997   99998   Person_99998   28   48888     Tokyo\n",
       "99998   99999   Person_99999   23   85474    London\n",
       "99999  100000  Person_100000   44  114296     Paris\n",
       "\n",
       "[100000 rows x 5 columns]>"
      ]
     },
     "execution_count": 33,
     "metadata": {},
     "output_type": "execute_result"
    }
   ],
   "source": [
    "emp_data.info"
   ]
  },
  {
   "cell_type": "code",
   "execution_count": 37,
   "id": "4798bc76-131b-4038-9aa1-7c02dc50807c",
   "metadata": {},
   "outputs": [
    {
     "data": {
      "text/html": [
       "<div>\n",
       "<style scoped>\n",
       "    .dataframe tbody tr th:only-of-type {\n",
       "        vertical-align: middle;\n",
       "    }\n",
       "\n",
       "    .dataframe tbody tr th {\n",
       "        vertical-align: top;\n",
       "    }\n",
       "\n",
       "    .dataframe thead th {\n",
       "        text-align: right;\n",
       "    }\n",
       "</style>\n",
       "<table border=\"1\" class=\"dataframe\">\n",
       "  <thead>\n",
       "    <tr style=\"text-align: right;\">\n",
       "      <th></th>\n",
       "      <th>ID</th>\n",
       "      <th>Name</th>\n",
       "      <th>Age</th>\n",
       "      <th>Salary</th>\n",
       "      <th>City</th>\n",
       "    </tr>\n",
       "  </thead>\n",
       "  <tbody>\n",
       "    <tr>\n",
       "      <th>99990</th>\n",
       "      <td>99991</td>\n",
       "      <td>Person_99991</td>\n",
       "      <td>30</td>\n",
       "      <td>82315</td>\n",
       "      <td>Paris</td>\n",
       "    </tr>\n",
       "    <tr>\n",
       "      <th>99991</th>\n",
       "      <td>99992</td>\n",
       "      <td>Person_99992</td>\n",
       "      <td>44</td>\n",
       "      <td>83766</td>\n",
       "      <td>New York</td>\n",
       "    </tr>\n",
       "    <tr>\n",
       "      <th>99992</th>\n",
       "      <td>99993</td>\n",
       "      <td>Person_99993</td>\n",
       "      <td>30</td>\n",
       "      <td>94218</td>\n",
       "      <td>Paris</td>\n",
       "    </tr>\n",
       "    <tr>\n",
       "      <th>99993</th>\n",
       "      <td>99994</td>\n",
       "      <td>Person_99994</td>\n",
       "      <td>64</td>\n",
       "      <td>58963</td>\n",
       "      <td>Tokyo</td>\n",
       "    </tr>\n",
       "    <tr>\n",
       "      <th>99994</th>\n",
       "      <td>99995</td>\n",
       "      <td>Person_99995</td>\n",
       "      <td>41</td>\n",
       "      <td>47641</td>\n",
       "      <td>Tokyo</td>\n",
       "    </tr>\n",
       "    <tr>\n",
       "      <th>99995</th>\n",
       "      <td>99996</td>\n",
       "      <td>Person_99996</td>\n",
       "      <td>27</td>\n",
       "      <td>101140</td>\n",
       "      <td>Tokyo</td>\n",
       "    </tr>\n",
       "    <tr>\n",
       "      <th>99996</th>\n",
       "      <td>99997</td>\n",
       "      <td>Person_99997</td>\n",
       "      <td>27</td>\n",
       "      <td>73395</td>\n",
       "      <td>New York</td>\n",
       "    </tr>\n",
       "    <tr>\n",
       "      <th>99997</th>\n",
       "      <td>99998</td>\n",
       "      <td>Person_99998</td>\n",
       "      <td>28</td>\n",
       "      <td>48888</td>\n",
       "      <td>Tokyo</td>\n",
       "    </tr>\n",
       "    <tr>\n",
       "      <th>99998</th>\n",
       "      <td>99999</td>\n",
       "      <td>Person_99999</td>\n",
       "      <td>23</td>\n",
       "      <td>85474</td>\n",
       "      <td>London</td>\n",
       "    </tr>\n",
       "    <tr>\n",
       "      <th>99999</th>\n",
       "      <td>100000</td>\n",
       "      <td>Person_100000</td>\n",
       "      <td>44</td>\n",
       "      <td>114296</td>\n",
       "      <td>Paris</td>\n",
       "    </tr>\n",
       "  </tbody>\n",
       "</table>\n",
       "</div>"
      ],
      "text/plain": [
       "           ID           Name  Age  Salary      City\n",
       "99990   99991   Person_99991   30   82315     Paris\n",
       "99991   99992   Person_99992   44   83766  New York\n",
       "99992   99993   Person_99993   30   94218     Paris\n",
       "99993   99994   Person_99994   64   58963     Tokyo\n",
       "99994   99995   Person_99995   41   47641     Tokyo\n",
       "99995   99996   Person_99996   27  101140     Tokyo\n",
       "99996   99997   Person_99997   27   73395  New York\n",
       "99997   99998   Person_99998   28   48888     Tokyo\n",
       "99998   99999   Person_99999   23   85474    London\n",
       "99999  100000  Person_100000   44  114296     Paris"
      ]
     },
     "execution_count": 37,
     "metadata": {},
     "output_type": "execute_result"
    }
   ],
   "source": [
    "emp_data.tail(10)"
   ]
  },
  {
   "cell_type": "markdown",
   "id": "1c0fadac-c011-4bb1-a43b-e3b4c58f71ad",
   "metadata": {},
   "source": [
    "#### a.Get statistical information about the numeric columns from the above dataframe.\n"
   ]
  },
  {
   "cell_type": "code",
   "execution_count": 39,
   "id": "fb9f0eeb-f1b4-41e2-a909-7169d1bf04da",
   "metadata": {},
   "outputs": [
    {
     "data": {
      "text/html": [
       "<div>\n",
       "<style scoped>\n",
       "    .dataframe tbody tr th:only-of-type {\n",
       "        vertical-align: middle;\n",
       "    }\n",
       "\n",
       "    .dataframe tbody tr th {\n",
       "        vertical-align: top;\n",
       "    }\n",
       "\n",
       "    .dataframe thead th {\n",
       "        text-align: right;\n",
       "    }\n",
       "</style>\n",
       "<table border=\"1\" class=\"dataframe\">\n",
       "  <thead>\n",
       "    <tr style=\"text-align: right;\">\n",
       "      <th></th>\n",
       "      <th>ID</th>\n",
       "      <th>Age</th>\n",
       "      <th>Salary</th>\n",
       "    </tr>\n",
       "  </thead>\n",
       "  <tbody>\n",
       "    <tr>\n",
       "      <th>count</th>\n",
       "      <td>100000.000000</td>\n",
       "      <td>100000.00000</td>\n",
       "      <td>100000.000000</td>\n",
       "    </tr>\n",
       "    <tr>\n",
       "      <th>mean</th>\n",
       "      <td>50000.500000</td>\n",
       "      <td>41.03731</td>\n",
       "      <td>79875.701060</td>\n",
       "    </tr>\n",
       "    <tr>\n",
       "      <th>std</th>\n",
       "      <td>28867.657797</td>\n",
       "      <td>13.54051</td>\n",
       "      <td>23077.162497</td>\n",
       "    </tr>\n",
       "    <tr>\n",
       "      <th>min</th>\n",
       "      <td>1.000000</td>\n",
       "      <td>18.00000</td>\n",
       "      <td>40000.000000</td>\n",
       "    </tr>\n",
       "    <tr>\n",
       "      <th>25%</th>\n",
       "      <td>25000.750000</td>\n",
       "      <td>29.00000</td>\n",
       "      <td>59910.000000</td>\n",
       "    </tr>\n",
       "    <tr>\n",
       "      <th>50%</th>\n",
       "      <td>50000.500000</td>\n",
       "      <td>41.00000</td>\n",
       "      <td>79714.000000</td>\n",
       "    </tr>\n",
       "    <tr>\n",
       "      <th>75%</th>\n",
       "      <td>75000.250000</td>\n",
       "      <td>53.00000</td>\n",
       "      <td>99793.000000</td>\n",
       "    </tr>\n",
       "    <tr>\n",
       "      <th>max</th>\n",
       "      <td>100000.000000</td>\n",
       "      <td>64.00000</td>\n",
       "      <td>119998.000000</td>\n",
       "    </tr>\n",
       "  </tbody>\n",
       "</table>\n",
       "</div>"
      ],
      "text/plain": [
       "                  ID           Age         Salary\n",
       "count  100000.000000  100000.00000  100000.000000\n",
       "mean    50000.500000      41.03731   79875.701060\n",
       "std     28867.657797      13.54051   23077.162497\n",
       "min         1.000000      18.00000   40000.000000\n",
       "25%     25000.750000      29.00000   59910.000000\n",
       "50%     50000.500000      41.00000   79714.000000\n",
       "75%     75000.250000      53.00000   99793.000000\n",
       "max    100000.000000      64.00000  119998.000000"
      ]
     },
     "execution_count": 39,
     "metadata": {},
     "output_type": "execute_result"
    }
   ],
   "source": [
    "emp_data.describe()"
   ]
  },
  {
   "cell_type": "markdown",
   "id": "8eacf339-b1bd-4e3a-891d-705275786c7d",
   "metadata": {},
   "source": [
    "#### 8.Create a Pandas DataFrame with columns 'City', 'Temperature', and 'Humidity' containing the following data:\n",
    "    City                          Temperature                          Humidity\n",
    "    New York                           75                                 60\n",
    "    Chica                              68                                 55\n",
    "    Los Angeles                        85                                 45\n",
    "    Miami                              80                                 70\n"
   ]
  },
  {
   "cell_type": "code",
   "execution_count": 52,
   "id": "234f08e4-2420-476b-a2c8-a944c01a0c5e",
   "metadata": {},
   "outputs": [
    {
     "data": {
      "text/html": [
       "<div>\n",
       "<style scoped>\n",
       "    .dataframe tbody tr th:only-of-type {\n",
       "        vertical-align: middle;\n",
       "    }\n",
       "\n",
       "    .dataframe tbody tr th {\n",
       "        vertical-align: top;\n",
       "    }\n",
       "\n",
       "    .dataframe thead th {\n",
       "        text-align: right;\n",
       "    }\n",
       "</style>\n",
       "<table border=\"1\" class=\"dataframe\">\n",
       "  <thead>\n",
       "    <tr style=\"text-align: right;\">\n",
       "      <th></th>\n",
       "      <th>City</th>\n",
       "      <th>Temperature</th>\n",
       "      <th>Humidity</th>\n",
       "    </tr>\n",
       "  </thead>\n",
       "  <tbody>\n",
       "    <tr>\n",
       "      <th>0</th>\n",
       "      <td>New York</td>\n",
       "      <td>75</td>\n",
       "      <td>60</td>\n",
       "    </tr>\n",
       "    <tr>\n",
       "      <th>1</th>\n",
       "      <td>Chica</td>\n",
       "      <td>68</td>\n",
       "      <td>55</td>\n",
       "    </tr>\n",
       "    <tr>\n",
       "      <th>2</th>\n",
       "      <td>Los Angeles</td>\n",
       "      <td>85</td>\n",
       "      <td>45</td>\n",
       "    </tr>\n",
       "    <tr>\n",
       "      <th>3</th>\n",
       "      <td>Miami</td>\n",
       "      <td>80</td>\n",
       "      <td>70</td>\n",
       "    </tr>\n",
       "  </tbody>\n",
       "</table>\n",
       "</div>"
      ],
      "text/plain": [
       "          City  Temperature  Humidity\n",
       "0     New York           75        60\n",
       "1        Chica           68        55\n",
       "2  Los Angeles           85        45\n",
       "3        Miami           80        70"
      ]
     },
     "execution_count": 52,
     "metadata": {},
     "output_type": "execute_result"
    }
   ],
   "source": [
    "data = {'City': ['New York', 'Chica', 'Los Angeles', 'Miami'],\n",
    "        'Temperature': [75, 68, 85, 80],\n",
    "        'Humidity': [60, 55, 45, 70]}\n",
    "\n",
    "df = pd.DataFrame(data)\n",
    "df"
   ]
  },
  {
   "cell_type": "markdown",
   "id": "4dd78c58-fbbd-42b6-a657-f154aeee226c",
   "metadata": {},
   "source": [
    "#### a.Display the rows where the Temperature is above 70.\n"
   ]
  },
  {
   "cell_type": "code",
   "execution_count": 54,
   "id": "a63566d8-9474-4177-b296-7d94f7bd2832",
   "metadata": {},
   "outputs": [
    {
     "data": {
      "text/html": [
       "<div>\n",
       "<style scoped>\n",
       "    .dataframe tbody tr th:only-of-type {\n",
       "        vertical-align: middle;\n",
       "    }\n",
       "\n",
       "    .dataframe tbody tr th {\n",
       "        vertical-align: top;\n",
       "    }\n",
       "\n",
       "    .dataframe thead th {\n",
       "        text-align: right;\n",
       "    }\n",
       "</style>\n",
       "<table border=\"1\" class=\"dataframe\">\n",
       "  <thead>\n",
       "    <tr style=\"text-align: right;\">\n",
       "      <th></th>\n",
       "      <th>City</th>\n",
       "      <th>Temperature</th>\n",
       "      <th>Humidity</th>\n",
       "    </tr>\n",
       "  </thead>\n",
       "  <tbody>\n",
       "    <tr>\n",
       "      <th>0</th>\n",
       "      <td>New York</td>\n",
       "      <td>75</td>\n",
       "      <td>60</td>\n",
       "    </tr>\n",
       "    <tr>\n",
       "      <th>2</th>\n",
       "      <td>Los Angeles</td>\n",
       "      <td>85</td>\n",
       "      <td>45</td>\n",
       "    </tr>\n",
       "    <tr>\n",
       "      <th>3</th>\n",
       "      <td>Miami</td>\n",
       "      <td>80</td>\n",
       "      <td>70</td>\n",
       "    </tr>\n",
       "  </tbody>\n",
       "</table>\n",
       "</div>"
      ],
      "text/plain": [
       "          City  Temperature  Humidity\n",
       "0     New York           75        60\n",
       "2  Los Angeles           85        45\n",
       "3        Miami           80        70"
      ]
     },
     "execution_count": 54,
     "metadata": {},
     "output_type": "execute_result"
    }
   ],
   "source": [
    "df[df.Temperature > 70]"
   ]
  },
  {
   "cell_type": "markdown",
   "id": "0d6aa4eb-7e85-4a54-99cd-cf012e739ab7",
   "metadata": {},
   "source": [
    "#### b.Display the rows where the Humidity is below 60.\n"
   ]
  },
  {
   "cell_type": "code",
   "execution_count": 56,
   "id": "ce6b677f-aa5a-444d-a88d-1c0f3f1de7ad",
   "metadata": {},
   "outputs": [
    {
     "data": {
      "text/html": [
       "<div>\n",
       "<style scoped>\n",
       "    .dataframe tbody tr th:only-of-type {\n",
       "        vertical-align: middle;\n",
       "    }\n",
       "\n",
       "    .dataframe tbody tr th {\n",
       "        vertical-align: top;\n",
       "    }\n",
       "\n",
       "    .dataframe thead th {\n",
       "        text-align: right;\n",
       "    }\n",
       "</style>\n",
       "<table border=\"1\" class=\"dataframe\">\n",
       "  <thead>\n",
       "    <tr style=\"text-align: right;\">\n",
       "      <th></th>\n",
       "      <th>City</th>\n",
       "      <th>Temperature</th>\n",
       "      <th>Humidity</th>\n",
       "    </tr>\n",
       "  </thead>\n",
       "  <tbody>\n",
       "    <tr>\n",
       "      <th>1</th>\n",
       "      <td>Chica</td>\n",
       "      <td>68</td>\n",
       "      <td>55</td>\n",
       "    </tr>\n",
       "    <tr>\n",
       "      <th>2</th>\n",
       "      <td>Los Angeles</td>\n",
       "      <td>85</td>\n",
       "      <td>45</td>\n",
       "    </tr>\n",
       "  </tbody>\n",
       "</table>\n",
       "</div>"
      ],
      "text/plain": [
       "          City  Temperature  Humidity\n",
       "1        Chica           68        55\n",
       "2  Los Angeles           85        45"
      ]
     },
     "execution_count": 56,
     "metadata": {},
     "output_type": "execute_result"
    }
   ],
   "source": [
    "df[df.Humidity < 60]"
   ]
  },
  {
   "cell_type": "markdown",
   "id": "1cac0d10-8de4-41c0-8c3c-35b0a0c5fda0",
   "metadata": {},
   "source": [
    "#### c.Display city with temperature 68 and humidity 55.\n"
   ]
  },
  {
   "cell_type": "code",
   "execution_count": 66,
   "id": "9c8182f2-5725-4a99-8d60-30e7ce837333",
   "metadata": {},
   "outputs": [
    {
     "data": {
      "text/html": [
       "<div>\n",
       "<style scoped>\n",
       "    .dataframe tbody tr th:only-of-type {\n",
       "        vertical-align: middle;\n",
       "    }\n",
       "\n",
       "    .dataframe tbody tr th {\n",
       "        vertical-align: top;\n",
       "    }\n",
       "\n",
       "    .dataframe thead th {\n",
       "        text-align: right;\n",
       "    }\n",
       "</style>\n",
       "<table border=\"1\" class=\"dataframe\">\n",
       "  <thead>\n",
       "    <tr style=\"text-align: right;\">\n",
       "      <th></th>\n",
       "      <th>City</th>\n",
       "      <th>Temperature</th>\n",
       "      <th>Humidity</th>\n",
       "    </tr>\n",
       "  </thead>\n",
       "  <tbody>\n",
       "    <tr>\n",
       "      <th>1</th>\n",
       "      <td>Chica</td>\n",
       "      <td>68</td>\n",
       "      <td>55</td>\n",
       "    </tr>\n",
       "  </tbody>\n",
       "</table>\n",
       "</div>"
      ],
      "text/plain": [
       "    City  Temperature  Humidity\n",
       "1  Chica           68        55"
      ]
     },
     "execution_count": 66,
     "metadata": {},
     "output_type": "execute_result"
    }
   ],
   "source": [
    "df[(df.Temperature == 68) & (df.Humidity == 55)]"
   ]
  },
  {
   "cell_type": "markdown",
   "id": "33e7e80d-ee42-4fec-a648-28ddbc2b9f67",
   "metadata": {},
   "source": [
    "#### 9.Add column 'Category' in the dataframe.\n",
    "           {'Category': ['A', 'B', 'C', 'A']}\n"
   ]
  },
  {
   "cell_type": "code",
   "execution_count": 81,
   "id": "05f527d2-9c21-46ea-97de-4a62d99a3dac",
   "metadata": {},
   "outputs": [
    {
     "data": {
      "text/html": [
       "<div>\n",
       "<style scoped>\n",
       "    .dataframe tbody tr th:only-of-type {\n",
       "        vertical-align: middle;\n",
       "    }\n",
       "\n",
       "    .dataframe tbody tr th {\n",
       "        vertical-align: top;\n",
       "    }\n",
       "\n",
       "    .dataframe thead th {\n",
       "        text-align: right;\n",
       "    }\n",
       "</style>\n",
       "<table border=\"1\" class=\"dataframe\">\n",
       "  <thead>\n",
       "    <tr style=\"text-align: right;\">\n",
       "      <th></th>\n",
       "      <th>Name</th>\n",
       "      <th>Age</th>\n",
       "      <th>Salary</th>\n",
       "    </tr>\n",
       "  </thead>\n",
       "  <tbody>\n",
       "    <tr>\n",
       "      <th>0</th>\n",
       "      <td>Alice</td>\n",
       "      <td>25</td>\n",
       "      <td>50000</td>\n",
       "    </tr>\n",
       "    <tr>\n",
       "      <th>1</th>\n",
       "      <td>Bob</td>\n",
       "      <td>30</td>\n",
       "      <td>60000</td>\n",
       "    </tr>\n",
       "    <tr>\n",
       "      <th>2</th>\n",
       "      <td>Charlie</td>\n",
       "      <td>35</td>\n",
       "      <td>75000</td>\n",
       "    </tr>\n",
       "    <tr>\n",
       "      <th>3</th>\n",
       "      <td>David</td>\n",
       "      <td>40</td>\n",
       "      <td>90000</td>\n",
       "    </tr>\n",
       "  </tbody>\n",
       "</table>\n",
       "</div>"
      ],
      "text/plain": [
       "      Name  Age  Salary\n",
       "0    Alice   25   50000\n",
       "1      Bob   30   60000\n",
       "2  Charlie   35   75000\n",
       "3    David   40   90000"
      ]
     },
     "execution_count": 81,
     "metadata": {},
     "output_type": "execute_result"
    }
   ],
   "source": [
    "data = {'Name': ['Alice', 'Bob', 'Charlie', 'David'],\n",
    "        'Age': [25, 30, 35, 40],\n",
    "        'Salary': [50000, 60000, 75000, 90000]}\n",
    "\n",
    "df = pd.DataFrame(data)\n",
    "df"
   ]
  },
  {
   "cell_type": "code",
   "execution_count": 83,
   "id": "99a1a11c-7dc7-474a-9093-9f1ca16731bb",
   "metadata": {},
   "outputs": [
    {
     "data": {
      "text/html": [
       "<div>\n",
       "<style scoped>\n",
       "    .dataframe tbody tr th:only-of-type {\n",
       "        vertical-align: middle;\n",
       "    }\n",
       "\n",
       "    .dataframe tbody tr th {\n",
       "        vertical-align: top;\n",
       "    }\n",
       "\n",
       "    .dataframe thead th {\n",
       "        text-align: right;\n",
       "    }\n",
       "</style>\n",
       "<table border=\"1\" class=\"dataframe\">\n",
       "  <thead>\n",
       "    <tr style=\"text-align: right;\">\n",
       "      <th></th>\n",
       "      <th>Name</th>\n",
       "      <th>Age</th>\n",
       "      <th>Salary</th>\n",
       "      <th>Category</th>\n",
       "    </tr>\n",
       "  </thead>\n",
       "  <tbody>\n",
       "    <tr>\n",
       "      <th>0</th>\n",
       "      <td>Alice</td>\n",
       "      <td>25</td>\n",
       "      <td>50000</td>\n",
       "      <td>A</td>\n",
       "    </tr>\n",
       "    <tr>\n",
       "      <th>1</th>\n",
       "      <td>Bob</td>\n",
       "      <td>30</td>\n",
       "      <td>60000</td>\n",
       "      <td>B</td>\n",
       "    </tr>\n",
       "    <tr>\n",
       "      <th>2</th>\n",
       "      <td>Charlie</td>\n",
       "      <td>35</td>\n",
       "      <td>75000</td>\n",
       "      <td>C</td>\n",
       "    </tr>\n",
       "    <tr>\n",
       "      <th>3</th>\n",
       "      <td>David</td>\n",
       "      <td>40</td>\n",
       "      <td>90000</td>\n",
       "      <td>A</td>\n",
       "    </tr>\n",
       "  </tbody>\n",
       "</table>\n",
       "</div>"
      ],
      "text/plain": [
       "      Name  Age  Salary Category\n",
       "0    Alice   25   50000        A\n",
       "1      Bob   30   60000        B\n",
       "2  Charlie   35   75000        C\n",
       "3    David   40   90000        A"
      ]
     },
     "execution_count": 83,
     "metadata": {},
     "output_type": "execute_result"
    }
   ],
   "source": [
    "df['Category'] = ['A', 'B', 'C', 'A']\n",
    "df"
   ]
  },
  {
   "cell_type": "markdown",
   "id": "6aad2842-3447-4c7a-9dc3-9f829d3c9b8c",
   "metadata": {},
   "source": [
    "#### a.Find and display the unique values in the 'Category' column.\n"
   ]
  },
  {
   "cell_type": "code",
   "execution_count": 85,
   "id": "504686a4-2a5f-47bf-b40c-2a65e986e164",
   "metadata": {},
   "outputs": [
    {
     "data": {
      "text/plain": [
       "<bound method Series.unique of 0    A\n",
       "1    B\n",
       "2    C\n",
       "3    A\n",
       "Name: Category, dtype: object>"
      ]
     },
     "execution_count": 85,
     "metadata": {},
     "output_type": "execute_result"
    }
   ],
   "source": [
    "df['Category'].unique"
   ]
  },
  {
   "cell_type": "markdown",
   "id": "7f5049e9-2adf-4ebd-bdb2-7e4bfd770a76",
   "metadata": {},
   "source": [
    "#### b.Display only the rows where 'Salaries' are greater than 60000.\n"
   ]
  },
  {
   "cell_type": "code",
   "execution_count": 87,
   "id": "bd65a4c8-b787-4c59-bcd6-ca36cb5d958b",
   "metadata": {},
   "outputs": [
    {
     "data": {
      "text/html": [
       "<div>\n",
       "<style scoped>\n",
       "    .dataframe tbody tr th:only-of-type {\n",
       "        vertical-align: middle;\n",
       "    }\n",
       "\n",
       "    .dataframe tbody tr th {\n",
       "        vertical-align: top;\n",
       "    }\n",
       "\n",
       "    .dataframe thead th {\n",
       "        text-align: right;\n",
       "    }\n",
       "</style>\n",
       "<table border=\"1\" class=\"dataframe\">\n",
       "  <thead>\n",
       "    <tr style=\"text-align: right;\">\n",
       "      <th></th>\n",
       "      <th>Name</th>\n",
       "      <th>Age</th>\n",
       "      <th>Salary</th>\n",
       "      <th>Category</th>\n",
       "    </tr>\n",
       "  </thead>\n",
       "  <tbody>\n",
       "    <tr>\n",
       "      <th>2</th>\n",
       "      <td>Charlie</td>\n",
       "      <td>35</td>\n",
       "      <td>75000</td>\n",
       "      <td>C</td>\n",
       "    </tr>\n",
       "    <tr>\n",
       "      <th>3</th>\n",
       "      <td>David</td>\n",
       "      <td>40</td>\n",
       "      <td>90000</td>\n",
       "      <td>A</td>\n",
       "    </tr>\n",
       "  </tbody>\n",
       "</table>\n",
       "</div>"
      ],
      "text/plain": [
       "      Name  Age  Salary Category\n",
       "2  Charlie   35   75000        C\n",
       "3    David   40   90000        A"
      ]
     },
     "execution_count": 87,
     "metadata": {},
     "output_type": "execute_result"
    }
   ],
   "source": [
    "df[df.Salary > 60000]"
   ]
  },
  {
   "cell_type": "markdown",
   "id": "d364a1f0-3b19-4ca4-9502-947a325f64e6",
   "metadata": {},
   "source": [
    "#### 10.Create a Pandas DataFrame with columns 'City', 'Population', and 'Area' containing the following data:\n",
    "\t\tCity               Population        Area\n",
    "\t\tNew York            8398748          468.9\n",
    "\t\tChicago             2716000          227.6\n",
    "\t\tLos Angeles         3976322          1213.9\n",
    "\t\tHouston             2328066          599.6\n"
   ]
  },
  {
   "cell_type": "code",
   "execution_count": 93,
   "id": "13e09d19-c8b8-4901-8f1f-5da9e2c74834",
   "metadata": {},
   "outputs": [
    {
     "data": {
      "text/html": [
       "<div>\n",
       "<style scoped>\n",
       "    .dataframe tbody tr th:only-of-type {\n",
       "        vertical-align: middle;\n",
       "    }\n",
       "\n",
       "    .dataframe tbody tr th {\n",
       "        vertical-align: top;\n",
       "    }\n",
       "\n",
       "    .dataframe thead th {\n",
       "        text-align: right;\n",
       "    }\n",
       "</style>\n",
       "<table border=\"1\" class=\"dataframe\">\n",
       "  <thead>\n",
       "    <tr style=\"text-align: right;\">\n",
       "      <th></th>\n",
       "      <th>City</th>\n",
       "      <th>Population</th>\n",
       "      <th>Area</th>\n",
       "    </tr>\n",
       "  </thead>\n",
       "  <tbody>\n",
       "    <tr>\n",
       "      <th>0</th>\n",
       "      <td>New York</td>\n",
       "      <td>8398748</td>\n",
       "      <td>468.9</td>\n",
       "    </tr>\n",
       "    <tr>\n",
       "      <th>1</th>\n",
       "      <td>Chicago</td>\n",
       "      <td>2716000</td>\n",
       "      <td>227.6</td>\n",
       "    </tr>\n",
       "    <tr>\n",
       "      <th>2</th>\n",
       "      <td>Los Angeles</td>\n",
       "      <td>3976322</td>\n",
       "      <td>1213.9</td>\n",
       "    </tr>\n",
       "    <tr>\n",
       "      <th>3</th>\n",
       "      <td>Houston</td>\n",
       "      <td>2328066</td>\n",
       "      <td>599.6</td>\n",
       "    </tr>\n",
       "  </tbody>\n",
       "</table>\n",
       "</div>"
      ],
      "text/plain": [
       "          City  Population    Area\n",
       "0     New York     8398748   468.9\n",
       "1      Chicago     2716000   227.6\n",
       "2  Los Angeles     3976322  1213.9\n",
       "3      Houston     2328066   599.6"
      ]
     },
     "execution_count": 93,
     "metadata": {},
     "output_type": "execute_result"
    }
   ],
   "source": [
    "data = {'City': ['New York', 'Chicago', 'Los Angeles', 'Houston'],\n",
    "        'Population': [8398748, 2716000, 3976322, 2328066],\n",
    "        'Area': [468.9, 227.6, 1213.9, 599.6]}\n",
    "\n",
    "df = pd.DataFrame(data)\n",
    "df"
   ]
  },
  {
   "cell_type": "markdown",
   "id": "e12bafd1-798c-4d13-b8f0-6cc93ec78190",
   "metadata": {},
   "source": [
    "#### a.Sort the DataFrame based on 'Population' in descending order and display it.\n"
   ]
  },
  {
   "cell_type": "code",
   "execution_count": 97,
   "id": "f6fb0900-17be-4015-a2ca-97d24034cc0a",
   "metadata": {},
   "outputs": [
    {
     "data": {
      "text/html": [
       "<div>\n",
       "<style scoped>\n",
       "    .dataframe tbody tr th:only-of-type {\n",
       "        vertical-align: middle;\n",
       "    }\n",
       "\n",
       "    .dataframe tbody tr th {\n",
       "        vertical-align: top;\n",
       "    }\n",
       "\n",
       "    .dataframe thead th {\n",
       "        text-align: right;\n",
       "    }\n",
       "</style>\n",
       "<table border=\"1\" class=\"dataframe\">\n",
       "  <thead>\n",
       "    <tr style=\"text-align: right;\">\n",
       "      <th></th>\n",
       "      <th>City</th>\n",
       "      <th>Population</th>\n",
       "      <th>Area</th>\n",
       "    </tr>\n",
       "  </thead>\n",
       "  <tbody>\n",
       "    <tr>\n",
       "      <th>0</th>\n",
       "      <td>New York</td>\n",
       "      <td>8398748</td>\n",
       "      <td>468.9</td>\n",
       "    </tr>\n",
       "    <tr>\n",
       "      <th>2</th>\n",
       "      <td>Los Angeles</td>\n",
       "      <td>3976322</td>\n",
       "      <td>1213.9</td>\n",
       "    </tr>\n",
       "    <tr>\n",
       "      <th>1</th>\n",
       "      <td>Chicago</td>\n",
       "      <td>2716000</td>\n",
       "      <td>227.6</td>\n",
       "    </tr>\n",
       "    <tr>\n",
       "      <th>3</th>\n",
       "      <td>Houston</td>\n",
       "      <td>2328066</td>\n",
       "      <td>599.6</td>\n",
       "    </tr>\n",
       "  </tbody>\n",
       "</table>\n",
       "</div>"
      ],
      "text/plain": [
       "          City  Population    Area\n",
       "0     New York     8398748   468.9\n",
       "2  Los Angeles     3976322  1213.9\n",
       "1      Chicago     2716000   227.6\n",
       "3      Houston     2328066   599.6"
      ]
     },
     "execution_count": 97,
     "metadata": {},
     "output_type": "execute_result"
    }
   ],
   "source": [
    "df.sort_values(by='Population', ascending = False)"
   ]
  },
  {
   "cell_type": "markdown",
   "id": "1fb019bd-d668-4920-99f9-642da6fb3e9b",
   "metadata": {},
   "source": [
    "#### 11. Create a Pandas DataFrame with columns 'Category', 'Price', and 'Quantity' containing the following data:\n",
    "\n",
    "\n",
    "                    Category\t        Price\t          Quantity\n",
    "                    Electronics     \t500      \t      10\n",
    "                    Clothing          \t 50      \t      25\n",
    "                    Electronics     \t800      \t       5\n",
    "                    Clothing         \t 30       \t      30\n",
    "\n"
   ]
  },
  {
   "cell_type": "code",
   "execution_count": 104,
   "id": "dd3d2adf-199a-4f75-97b9-cd78d0fab002",
   "metadata": {},
   "outputs": [
    {
     "data": {
      "text/html": [
       "<div>\n",
       "<style scoped>\n",
       "    .dataframe tbody tr th:only-of-type {\n",
       "        vertical-align: middle;\n",
       "    }\n",
       "\n",
       "    .dataframe tbody tr th {\n",
       "        vertical-align: top;\n",
       "    }\n",
       "\n",
       "    .dataframe thead th {\n",
       "        text-align: right;\n",
       "    }\n",
       "</style>\n",
       "<table border=\"1\" class=\"dataframe\">\n",
       "  <thead>\n",
       "    <tr style=\"text-align: right;\">\n",
       "      <th></th>\n",
       "      <th>Category</th>\n",
       "      <th>Price</th>\n",
       "      <th>Quantity</th>\n",
       "    </tr>\n",
       "  </thead>\n",
       "  <tbody>\n",
       "    <tr>\n",
       "      <th>0</th>\n",
       "      <td>Electronics</td>\n",
       "      <td>500</td>\n",
       "      <td>10</td>\n",
       "    </tr>\n",
       "    <tr>\n",
       "      <th>1</th>\n",
       "      <td>Clothing</td>\n",
       "      <td>50</td>\n",
       "      <td>25</td>\n",
       "    </tr>\n",
       "    <tr>\n",
       "      <th>2</th>\n",
       "      <td>Electronics</td>\n",
       "      <td>800</td>\n",
       "      <td>5</td>\n",
       "    </tr>\n",
       "    <tr>\n",
       "      <th>3</th>\n",
       "      <td>Clothing</td>\n",
       "      <td>30</td>\n",
       "      <td>30</td>\n",
       "    </tr>\n",
       "  </tbody>\n",
       "</table>\n",
       "</div>"
      ],
      "text/plain": [
       "      Category  Price  Quantity\n",
       "0  Electronics    500        10\n",
       "1     Clothing     50        25\n",
       "2  Electronics    800         5\n",
       "3     Clothing     30        30"
      ]
     },
     "execution_count": 104,
     "metadata": {},
     "output_type": "execute_result"
    }
   ],
   "source": [
    "data = {'Category': ['Electronics', 'Clothing', 'Electronics', 'Clothing'],\n",
    "        'Price': [500, 50, 800, 30],\n",
    "        'Quantity': [10, 25, 5, 30]}\n",
    "\n",
    "df = pd.DataFrame(data)\n",
    "df"
   ]
  },
  {
   "cell_type": "markdown",
   "id": "f8bf0f47-ad5e-4efa-8130-304522be7c07",
   "metadata": {},
   "source": [
    "#### a.Create a 'Total value' column and calculate the total value for each category by multiplying 'Price' and 'Quantity'. Display the DataFrame\n"
   ]
  },
  {
   "cell_type": "code",
   "execution_count": 109,
   "id": "ed894da0-385e-4b91-bc8d-f49b2714e85b",
   "metadata": {},
   "outputs": [],
   "source": [
    "df['Total value'] = df['Price'] * df['Quantity']"
   ]
  },
  {
   "cell_type": "code",
   "execution_count": 111,
   "id": "e4f590cd-305b-46fc-af2a-d25ffb8d9f63",
   "metadata": {},
   "outputs": [
    {
     "data": {
      "text/html": [
       "<div>\n",
       "<style scoped>\n",
       "    .dataframe tbody tr th:only-of-type {\n",
       "        vertical-align: middle;\n",
       "    }\n",
       "\n",
       "    .dataframe tbody tr th {\n",
       "        vertical-align: top;\n",
       "    }\n",
       "\n",
       "    .dataframe thead th {\n",
       "        text-align: right;\n",
       "    }\n",
       "</style>\n",
       "<table border=\"1\" class=\"dataframe\">\n",
       "  <thead>\n",
       "    <tr style=\"text-align: right;\">\n",
       "      <th></th>\n",
       "      <th>Category</th>\n",
       "      <th>Price</th>\n",
       "      <th>Quantity</th>\n",
       "      <th>Total value</th>\n",
       "    </tr>\n",
       "  </thead>\n",
       "  <tbody>\n",
       "    <tr>\n",
       "      <th>0</th>\n",
       "      <td>Electronics</td>\n",
       "      <td>500</td>\n",
       "      <td>10</td>\n",
       "      <td>5000</td>\n",
       "    </tr>\n",
       "    <tr>\n",
       "      <th>1</th>\n",
       "      <td>Clothing</td>\n",
       "      <td>50</td>\n",
       "      <td>25</td>\n",
       "      <td>1250</td>\n",
       "    </tr>\n",
       "    <tr>\n",
       "      <th>2</th>\n",
       "      <td>Electronics</td>\n",
       "      <td>800</td>\n",
       "      <td>5</td>\n",
       "      <td>4000</td>\n",
       "    </tr>\n",
       "    <tr>\n",
       "      <th>3</th>\n",
       "      <td>Clothing</td>\n",
       "      <td>30</td>\n",
       "      <td>30</td>\n",
       "      <td>900</td>\n",
       "    </tr>\n",
       "  </tbody>\n",
       "</table>\n",
       "</div>"
      ],
      "text/plain": [
       "      Category  Price  Quantity  Total value\n",
       "0  Electronics    500        10         5000\n",
       "1     Clothing     50        25         1250\n",
       "2  Electronics    800         5         4000\n",
       "3     Clothing     30        30          900"
      ]
     },
     "execution_count": 111,
     "metadata": {},
     "output_type": "execute_result"
    }
   ],
   "source": [
    "df"
   ]
  }
 ],
 "metadata": {
  "kernelspec": {
   "display_name": "Python [conda env:base] *",
   "language": "python",
   "name": "conda-base-py"
  },
  "language_info": {
   "codemirror_mode": {
    "name": "ipython",
    "version": 3
   },
   "file_extension": ".py",
   "mimetype": "text/x-python",
   "name": "python",
   "nbconvert_exporter": "python",
   "pygments_lexer": "ipython3",
   "version": "3.12.7"
  }
 },
 "nbformat": 4,
 "nbformat_minor": 5
}
