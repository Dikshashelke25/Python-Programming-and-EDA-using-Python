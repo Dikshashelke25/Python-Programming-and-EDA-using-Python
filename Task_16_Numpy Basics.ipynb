{
 "cells": [
  {
   "cell_type": "markdown",
   "id": "3b09e8ea-c437-41b6-a719-e2d1fe617bb3",
   "metadata": {},
   "source": [
    "### Task 16 - Numpy Basics:\n"
   ]
  },
  {
   "cell_type": "markdown",
   "id": "76e32435-7432-4b7f-99a1-d2c37dae389e",
   "metadata": {},
   "source": [
    "#### 1. Describe the features of numpy.\n"
   ]
  },
  {
   "cell_type": "markdown",
   "id": "9ee59e2c-d4cb-488b-8cad-c1dd5ca69738",
   "metadata": {},
   "source": [
    "NumPy (Numerical Python) is a powerful library for numerical computing in Python.\n",
    "\n",
    "It has features that make it essential for tasks involving mathematical operations, data analysis, and scientific computing. \n",
    "\n",
    "Here are some key features:\n",
    "\n",
    "- **Multi-dimensional Arrays:** NumPy provides the ndarray (N-dimensional array) object, which allows efficient storage and manipulation of large datasets in a grid-like structure.\n",
    "- **Mathematical Functions:** It includes a wide array of built-in mathematical functions for operations like linear algebra, Fourier transforms, statistical analysis, and more.\n",
    "- **Broadcasting:** This feature enables operations on arrays of different shapes, simplifying tasks without requiring explicit reshaping.\n",
    "- **Performance:** NumPy is highly optimized for speed, making operations faster than native Python lists.\n",
    "- **Indexing and Slicing:** Powerful tools to access or modify subsets of data in arrays.\n",
    "- **Integration:** Compatible with other scientific computing libraries like SciPy, pandas, and matplotlib, making it ideal for broader workflows.\n",
    "- **Random Sampling:** Contains robust tools for generating random numbers and working with probabilistic methods.\n",
    "- **Universal Functions (ufuncs):** These perform element-wise operations on arrays, enabling quick computations.\n"
   ]
  },
  {
   "cell_type": "markdown",
   "id": "02e2636a-2299-41ac-9131-1c67ca578195",
   "metadata": {},
   "source": [
    "#### 2. Write the applications of numpy.\n"
   ]
  },
  {
   "cell_type": "markdown",
   "id": "a82e33c7-75da-4122-8a26-c8e06b38ca9e",
   "metadata": {},
   "source": [
    "1. **Scientific Computing** – NumPy is essential for handling complex mathematical operations, linear algebra, and array manipulation, making it invaluable in scientific research.\n",
    "2. **Data Analysis** – Many data science libraries like Pandas rely on NumPy for efficient data processing.\n",
    "3. **Machine Learning** – Frameworks like TensorFlow and Scikit-learn use NumPy arrays for numerical computations.\n",
    "4. **Image Processing** – NumPy helps manipulate pixel values in images, forming the backbone of many image-processing tasks.\n",
    "5. **Signal Processing** – Filtering and analyzing signals, such as audio and sensor data, often leverage NumPy's mathematical capabilities.\n",
    "6. **Statistical Analysis** – Researchers use NumPy for probability distributions, hypothesis testing, and other statistical computations.\n",
    "7. **Physics and Engineering Simulations** – NumPy is used in simulations involving fluid dynamics, mechanical systems, and electronic circuits.\n",
    "8. **Financial Modeling** – Analysts use NumPy for risk assessment, predictive modeling, and portfolio management.\n",
    "9. **Graph and Network Analysis** – NumPy aids in the study of network structures, social networks, and graph-based algorithms.\n"
   ]
  },
  {
   "cell_type": "markdown",
   "id": "3bce863f-137d-4e1c-9631-c4a343bfb7c8",
   "metadata": {},
   "source": [
    "#### 3. How numpy is different from python sequences.\n"
   ]
  },
  {
   "cell_type": "markdown",
   "id": "c0ae1419-778b-49f9-b2a1-0f67b451f22b",
   "metadata": {},
   "source": [
    "NumPy arrays and Python sequences (like lists and tuples) have fundamental differences that make NumPy more suitable for numerical computing:\n",
    "\n",
    "1. **Performance** – NumPy arrays are significantly faster than Python lists due to their optimized C-based implementation.\n",
    "2. **Memory Efficiency** – NumPy stores data in a contiguous block of memory, unlike Python lists, which store references to objects, making NumPy more memory-efficient.\n",
    "3. **Vectorized Operations** – NumPy allows element-wise arithmetic operations without looping, whereas Python lists require explicit iteration.\n",
    "4. **Data Types** – NumPy enforces a single data type for all elements in an array, whereas Python lists can contain mixed data types.\n",
    "5. **Functionality** – NumPy provides advanced mathematical functions, linear algebra tools, and random number generation, which Python lists lack.\n",
    "6. **Multi-Dimensional Support** – While Python lists can be nested to simulate multi-dimensional arrays, NumPy natively supports multi-dimensional arrays with better indexing and manipulation.\n"
   ]
  },
  {
   "cell_type": "markdown",
   "id": "0c2305e7-323c-467d-bd41-b169c58d11db",
   "metadata": {},
   "source": [
    "#### 4. Create two 1-D arrays with numbers and strings respectively.\n"
   ]
  },
  {
   "cell_type": "code",
   "execution_count": 30,
   "id": "d937b939-60a6-45d7-a2b9-ed9d5bb627f6",
   "metadata": {},
   "outputs": [
    {
     "name": "stdout",
     "output_type": "stream",
     "text": [
      "[ 12  45  67  86 -98]\n",
      "<class 'numpy.ndarray'>\n",
      "1\n",
      "(5,)\n",
      "5\n",
      "['A' 'B' 'C' 'D' 'E' 'F']\n",
      "<class 'numpy.ndarray'>\n",
      "1\n",
      "(6,)\n",
      "6\n"
     ]
    }
   ],
   "source": [
    "import numpy as np\n",
    "array = np.array([12, 45, 67, 86, -98])\n",
    "print(array)\n",
    "print(type(array))\n",
    "print(array.ndim)\n",
    "print(array.shape)\n",
    "print(array.size)\n",
    "\n",
    "array1 = np.array(['A','B','C','D','E','F'])\n",
    "print(array1)\n",
    "print(type(array1))\n",
    "print(array1.ndim)\n",
    "print(array1.shape)\n",
    "print(array1.size)\n"
   ]
  },
  {
   "cell_type": "markdown",
   "id": "41b0193f-7f06-4c6c-96a2-b38655b61b00",
   "metadata": {},
   "source": [
    "#### 5. Create 2-D and 3-D arrays. And check their shape and dimensions using (shape and ndim methods).\n"
   ]
  },
  {
   "cell_type": "code",
   "execution_count": 40,
   "id": "a6050142-fb11-4419-92e1-3b342d99432b",
   "metadata": {},
   "outputs": [
    {
     "name": "stdout",
     "output_type": "stream",
     "text": [
      "2D array :\n",
      " [[1 2 3]\n",
      " [4 5 6]\n",
      " [7 8 9]]\n",
      "Dimensions of array :  2\n",
      "Shape of array :  (3, 3)\n",
      "\n",
      "\n",
      "3D array :\n",
      " [[[ 1  2  3]\n",
      "  [ 4  5  6]\n",
      "  [ 7  8  9]]\n",
      "\n",
      " [[-4  0  1]\n",
      "  [ 6  5  2]\n",
      "  [ 7  9  4]]]\n",
      "Dimensions of array :  3\n",
      "Shape of array :  (2, 3, 3)\n"
     ]
    }
   ],
   "source": [
    "D_array = np.array([[1,2,3],[4,5,6],[7,8,9]])\n",
    "print(\"2D array :\\n\", D_array)\n",
    "print(\"Dimensions of array : \",D_array.ndim)\n",
    "print(\"Shape of array : \",D_array.shape)\n",
    "print(\"\\n\")\n",
    "\n",
    "D_array = np.array([[[1,2,3],[4,5,6],[7,8,9]],[[-4,0,1],[6,5,2],[7,9,4]]])\n",
    "print(\"3D array :\\n\", D_array)\n",
    "print(\"Dimensions of array : \",D_array.ndim)\n",
    "print(\"Shape of array : \",D_array.shape)\n"
   ]
  },
  {
   "cell_type": "markdown",
   "id": "a4f9196b-4d0c-4c32-a5a6-204082b484cb",
   "metadata": {},
   "source": [
    "#### 6. Create a 1D NumPy array with elements from 1 to 10 using arange().\n"
   ]
  },
  {
   "cell_type": "code",
   "execution_count": 50,
   "id": "8c26351c-a8d2-4cd0-a3df-db48e74b2ba0",
   "metadata": {},
   "outputs": [
    {
     "name": "stdout",
     "output_type": "stream",
     "text": [
      "[ 1  2  3  4  5  6  7  8  9 10]\n"
     ]
    }
   ],
   "source": [
    "arr = np.arange(1,11)\n",
    "print(arr)\n"
   ]
  },
  {
   "cell_type": "markdown",
   "id": "f8c97315-c363-405b-b8fb-41fb77bbfc55",
   "metadata": {},
   "source": [
    "#### a). Create a 2D array of size 3x3 filled with zeros using zeros().\n"
   ]
  },
  {
   "cell_type": "code",
   "execution_count": 52,
   "id": "aa4815a6-900a-41d3-9d6e-b2de0a8dfa5e",
   "metadata": {},
   "outputs": [
    {
     "name": "stdout",
     "output_type": "stream",
     "text": [
      "[[0. 0. 0.]\n",
      " [0. 0. 0.]\n",
      " [0. 0. 0.]]\n"
     ]
    }
   ],
   "source": [
    "array = np.zeros((3, 3))\n",
    "print(array)"
   ]
  },
  {
   "cell_type": "markdown",
   "id": "e8f26807-f278-4302-8e3f-51a02343051c",
   "metadata": {},
   "source": [
    "#### 7. Create an array [5, 10, 15, 20, 25]. Find its size.\n"
   ]
  },
  {
   "cell_type": "code",
   "execution_count": 54,
   "id": "e4040ec4-c074-49ff-8f33-7cbfd65547e1",
   "metadata": {},
   "outputs": [
    {
     "name": "stdout",
     "output_type": "stream",
     "text": [
      "Array :  [ 5 10 15 20 25]\n",
      "Size of the array :  5\n"
     ]
    }
   ],
   "source": [
    "array = np.array([5, 10, 15, 20, 25])\n",
    "print(\"Array : \",array)\n",
    "print(\"Size of the array : \",array.size)"
   ]
  }
 ],
 "metadata": {
  "kernelspec": {
   "display_name": "Python [conda env:base] *",
   "language": "python",
   "name": "conda-base-py"
  },
  "language_info": {
   "codemirror_mode": {
    "name": "ipython",
    "version": 3
   },
   "file_extension": ".py",
   "mimetype": "text/x-python",
   "name": "python",
   "nbconvert_exporter": "python",
   "pygments_lexer": "ipython3",
   "version": "3.12.7"
  }
 },
 "nbformat": 4,
 "nbformat_minor": 5
}
