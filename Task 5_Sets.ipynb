{
 "cells": [
  {
   "cell_type": "code",
   "execution_count": 1,
   "id": "63d3e5e3-6270-43ab-a949-66c007c67ad8",
   "metadata": {},
   "outputs": [
    {
     "name": "stdout",
     "output_type": "stream",
     "text": [
      "Set of first 10 Even Numbers : {2, 4, 6, 8, 10}\n"
     ]
    }
   ],
   "source": [
    "#1.Set Creation Create a Python set containing the first 10 even numbers {2, 4, 6,8,10}. Write a program to display this set.\n",
    "\n",
    "s =  {2, 4, 6, 8, 10}\n",
    "print(\"Set of first 10 Even Numbers :\", s)"
   ]
  },
  {
   "cell_type": "code",
   "execution_count": 10,
   "id": "c31caff8-f07e-45ca-b867-d0fa7148ea74",
   "metadata": {},
   "outputs": [
    {
     "name": "stdout",
     "output_type": "stream",
     "text": [
      "Set A :  {1, 2, 3, 4, 5, 6}\n",
      "Set B :  {5, 6, 7, 8, 9, 10}\n",
      "A union B :  {1, 2, 3, 4, 5, 6, 7, 8, 9, 10}\n",
      "A intersection B :  {5, 6}\n",
      "A - B :  {1, 2, 3, 4}\n",
      "B - A :  {8, 9, 10, 7}\n",
      "Symmetric difference A and B :  {1, 2, 3, 4, 7, 8, 9, 10}\n"
     ]
    }
   ],
   "source": [
    "#2.Set Operations Given two sets, write a Python program to find the union, intersection, and difference of these sets.\n",
    "\n",
    "A = {1,2,3,4,5,6}\n",
    "B = {5,6,7,8,9,10}\n",
    "\n",
    "print(\"Set A : \",A)\n",
    "print(\"Set B : \",B)\n",
    "\n",
    "print(\"A union B : \",A.union(B)) # A|B\n",
    "print(\"A intersection B : \",A.intersection(B)) # A&B\n",
    "print(\"A - B : \",A.difference(B)) # A-B\n",
    "print(\"B - A : \",B.difference(A)) # B-A\n",
    "print(\"Symmetric difference A and B : \",A.symmetric_difference(B)) # A^B\n"
   ]
  },
  {
   "cell_type": "code",
   "execution_count": 25,
   "id": "c4deb6e6-d586-439b-ad9b-59f529bfac81",
   "metadata": {},
   "outputs": [
    {
     "name": "stdout",
     "output_type": "stream",
     "text": [
      "Set s :  {800, 100, 900, 200, 1000, 300, 400, 500, 600, 700}\n",
      "Adding an element in set using add() function : {800, 100, 900, 200, 1000, 300, 400, 500, 600, 1500, 700}\n",
      "Adding elements in set using update() function : {800, 100, 900, 2500, 200, 1000, 300, 400, 500, 2300, 600, 1500, 700, 2200}\n",
      "Set s after removing an element : {800, 100, 900, 2500, 200, 1000, 300, 400, 500, 600, 1500, 700, 2200}\n",
      "Element is present in set : True\n",
      "Element is present in set : False\n",
      "Size of set s : 13\n"
     ]
    }
   ],
   "source": [
    "#3.Set Operations and Methods Write a Python program that takes a set of numbers and performs the following operations:\n",
    "#Add a new number to the set.\n",
    "#Remove a number from the set.\n",
    "#Check if a specific number is in the set.\n",
    "#Find the size of the set.\n",
    "\n",
    "\n",
    "s = set(range(100, 1100, 100))\n",
    "print(\"Set s : \", s)\n",
    "\n",
    "s.add(1500) # we can add only one element at a time using add() function\n",
    "print(\"Adding an element in set using add() function :\", s)\n",
    "\n",
    "s.update({2200,2500,2300}) # adding more than 1 element in the set using update() function\n",
    "print(\"Adding elements in set using update() function :\", s)\n",
    "\n",
    "s.remove(2300)\n",
    "print(\"Set s after removing an element :\", s) #removing element from set\n",
    "\n",
    "print(\"Element is present in set :\", 2500 in s) #checking if particular element is present in set\n",
    "print(\"Element is present in set :\", 903 in s)  #checking if particular element is present in set\n",
    "\n",
    "print(\"Size of set s :\", len(s)) #Finding size of the set"
   ]
  },
  {
   "cell_type": "code",
   "execution_count": 7,
   "id": "d994a676-d5ea-424b-86b6-2d9bf187738e",
   "metadata": {},
   "outputs": [
    {
     "name": "stdout",
     "output_type": "stream",
     "text": [
      "List l : [1, 2, 4, 2, 4, 8, 7, 3, 9]\n",
      "No of elements in list l : 9\n",
      "Set s of list l : {1, 2, 3, 4, 7, 8, 9}\n",
      "No of elements in set s : 7\n",
      "No of duplicate elements removed from list : 2\n"
     ]
    }
   ],
   "source": [
    "#4.Set Operations with Lists Create a Python list with duplicate elements and convert it into a set to remove duplicates.\n",
    "#Then, write a program to count how many duplicates were removed.\n",
    "\n",
    "l = [1, 2, 4, 2, 4, 8, 7, 3, 9]\n",
    "print(\"List l :\", l)\n",
    "print(\"No of elements in list l :\", len(l))\n",
    "\n",
    "\n",
    "s = set(l)\n",
    "print(\"Set s of list l :\", s )\n",
    "print(\"No of elements in set s :\", len(s))\n",
    "\n",
    "d = len(l)-len(s)\n",
    "print(\"No of duplicate elements removed from list :\", d)\n"
   ]
  },
  {
   "cell_type": "markdown",
   "id": "63357c12-8b47-4fc9-abb3-84217014c6b3",
   "metadata": {},
   "source": [
    "#5.Explain the concept of Sets and their properties in Python. Provide a one-line definition of each set method with examples.\n",
    "\n",
    "Sets : A Set in Python is used to store a collection of items.\n",
    "\n",
    "Properties :\n",
    "\n",
    "1. No duplicate elements.\n",
    "2. An unordered collection. \n",
    "3. Internally use hashing that makes set efficient for search, insert and delete operations. \n",
    "4. Mutable, we can add or remove elements after their creation, the individual elements within the set cannot be changed directly.\n"
   ]
  },
  {
   "cell_type": "code",
   "execution_count": 71,
   "id": "a16df67f-cbf6-441c-b695-f8500df1f6ec",
   "metadata": {},
   "outputs": [
    {
     "name": "stdout",
     "output_type": "stream",
     "text": [
      "Adding element in set s : {0, 1, 2, 3, 4, 7, 8, 9}\n",
      "Adding elements in set using update() function : {0, 1, 2, 3, 4, 7, 8, 9, 10, 11, 12}\n"
     ]
    }
   ],
   "source": [
    "#Methids to add elem\n",
    "\n",
    "#add() : Adds an element to the set\n",
    "\n",
    "s = {1, 2, 3, 4, 7, 8, 9}\n",
    "\n",
    "s.add(0)\n",
    "print(\"Adding element in set s :\",s)\n",
    "\n",
    "#update() : Update the set with the union of this set and others(|=)\n",
    "\n",
    "s.update({12,10,11}) # adding more than 1 element in the set using update() function\n",
    "print(\"Adding elements in set using update() function :\", s)"
   ]
  },
  {
   "cell_type": "code",
   "execution_count": 19,
   "id": "3daf3957-dcc8-4f64-a4db-a6168bd88b0c",
   "metadata": {},
   "outputs": [
    {
     "name": "stdout",
     "output_type": "stream",
     "text": [
      "Clearing set s : set()\n"
     ]
    }
   ],
   "source": [
    "#clear() : Removes all the elements from the set\n",
    "\n",
    "s = {0, 1, 2, 3, 4, 7, 8, 9}\n",
    "\n",
    "s.clear()\n",
    "print(\"Clearing set s :\",s)"
   ]
  },
  {
   "cell_type": "code",
   "execution_count": 23,
   "id": "1fd6c93b-0884-44cb-9aeb-7bdf2646e464",
   "metadata": {},
   "outputs": [
    {
     "name": "stdout",
     "output_type": "stream",
     "text": [
      "Set s : {100, 70, 40, 10, 80, 50, 20, 90, 60, 30}\n",
      "Set s1 : {100, 70, 40, 10, 80, 50, 20, 90, 60, 30}\n"
     ]
    }
   ],
   "source": [
    "#copy() : Returns a copy of the set\n",
    "\n",
    "s = set(range(10,110,10))\n",
    "\n",
    "print(\"Set s :\", s)\n",
    "\n",
    "s1 = s.copy()\n",
    "print(\"Set s1 :\", s1)"
   ]
  },
  {
   "cell_type": "code",
   "execution_count": 53,
   "id": "7bb0d6bd-3230-4119-b30a-9f1607eff2c9",
   "metadata": {},
   "outputs": [
    {
     "name": "stdout",
     "output_type": "stream",
     "text": [
      "s1 :  {50, 67, 70, 87, 75, 95}\n",
      "s2 :  {80, 68, 70, 55, 87, 90, 95}\n",
      "Union of s1 and s2 :  {67, 68, 70, 75, 80, 50, 55, 87, 90, 95}\n",
      "Inntersection of s1 and s2 :  {95, 70, 87}\n",
      "Two sets are disjoint? False\n",
      "s1 is subset of s2? False\n",
      "s1 is superset of s2? False\n",
      "Symmetric diff bet s1 and s2 =  {67, 68, 75, 80, 90, 50, 55}\n",
      "s1 - s2 =  {75, 50, 67}\n",
      "s2 - s1 =  {80, 90, 68, 55}\n"
     ]
    }
   ],
   "source": [
    "#Set Operations :\n",
    "\n",
    "s1 = {70, 67, 95, 87, 50, 75}\n",
    "s2 = {80, 87, 70, 95, 90, 55, 68}\n",
    "\n",
    "print(\"s1 : \", s1)\n",
    "print(\"s2 : \", s2)\n",
    "\n",
    "#union() : Return a set containing the all the elements of both the sets(|)\n",
    "\n",
    "u = s1.union(s2)\n",
    "print(\"Union of s1 and s2 : \", u)\n",
    "\n",
    "#intersection() : Returns a set, that is the intersection of two other sets(&)\n",
    "\n",
    "i = s1.intersection(s2)\n",
    "print(\"Inntersection of s1 and s2 : \",i) \n",
    "\n",
    "#isdisjoint() : Returns whether two sets have a intersection or not\n",
    "\n",
    "res = s1.isdisjoint(s2)\n",
    "print(\"Two sets are disjoint?\" , res)\n",
    "\n",
    "#issubset() : Returns whether another set contains this set or not(<=)\n",
    " \t         #Returns whether all items in this set is present in other, specified set(<)\n",
    "\n",
    "res = s2.issubset(s1)\n",
    "print(\"s1 is subset of s2?\" , res)\n",
    "\n",
    "#issuperset() : Returns whether this set contains another set or not(>=)\n",
    " \t \t       #Returns whether all items in other, specified set(s) is present in this set(>)\n",
    "\n",
    "res = s2.issuperset(s1)\n",
    "print(\"s1 is superset of s2?\" , res)\n",
    "\n",
    "#symmetric_difference() : Returns a set with the symmetric differences of two sets(^)\n",
    "\n",
    "diff = s1.symmetric_difference(s2)\n",
    "print(\"Symmetric diff bet s1 and s2 = \",diff)\n",
    "\n",
    "\n",
    "#difference() : Returns a set containing the difference between two or more sets(-)\n",
    "\n",
    "diff1 = s1 - s2\n",
    "print(\"s1 - s2 = \",diff1)\n",
    "\n",
    "diff2 = s2 - s1\n",
    "print(\"s2 - s1 = \",diff2)\n"
   ]
  },
  {
   "cell_type": "code",
   "execution_count": 73,
   "id": "54b23e53-8014-40fa-9373-ed0005a7ed34",
   "metadata": {},
   "outputs": [
    {
     "name": "stdout",
     "output_type": "stream",
     "text": [
      "s2 :  {80, 68, 70, 55, 87, 90, 95}\n",
      "Discarding 87 from s2 :  {80, 68, 70, 55, 90, 95}\n",
      "Removinng 70 from s2 :  {80, 68, 55, 90, 95}\n",
      "Popping element from s2 :  {68, 55, 90, 95}\n"
     ]
    }
   ],
   "source": [
    "#Methods to remove elements from set\n",
    "\n",
    "s2 = {80, 87, 70, 95, 90, 55, 68}\n",
    "print(\"s2 : \",s2)\n",
    "\n",
    "#discard() : Remove the specified item -- if item not present then also it proceeds\n",
    "s2.discard(87)\n",
    "print(\"Discarding 87 from s2 : \",s2)\n",
    "\n",
    "#remove() : Removes the specified element -- if item not present then it throws error\n",
    "s2.remove(70)\n",
    "print(\"Removinng 70 from s2 : \",s2)\n",
    "\n",
    "#pop() : Removes an element from the set\n",
    "s2.pop()\n",
    "print(\"Popping element from s2 : \",s2)"
   ]
  },
  {
   "cell_type": "code",
   "execution_count": null,
   "id": "16136df7-9ea8-459b-bb1b-fd0852447ad2",
   "metadata": {},
   "outputs": [],
   "source": []
  },
  {
   "cell_type": "code",
   "execution_count": null,
   "id": "1b3c62bf-c4c3-4965-9d65-0c962bd30737",
   "metadata": {},
   "outputs": [],
   "source": []
  }
 ],
 "metadata": {
  "kernelspec": {
   "display_name": "Python [conda env:base] *",
   "language": "python",
   "name": "conda-base-py"
  },
  "language_info": {
   "codemirror_mode": {
    "name": "ipython",
    "version": 3
   },
   "file_extension": ".py",
   "mimetype": "text/x-python",
   "name": "python",
   "nbconvert_exporter": "python",
   "pygments_lexer": "ipython3",
   "version": "3.12.7"
  }
 },
 "nbformat": 4,
 "nbformat_minor": 5
}
