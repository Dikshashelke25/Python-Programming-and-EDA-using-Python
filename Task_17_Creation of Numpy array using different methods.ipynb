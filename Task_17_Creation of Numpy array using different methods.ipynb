{
 "cells": [
  {
   "cell_type": "markdown",
   "id": "eb2c737e-253e-4d2d-99bc-e04e776fed3b",
   "metadata": {},
   "source": [
    "#### Task 17 - Creation of Numpy array using different methods.\n"
   ]
  },
  {
   "cell_type": "code",
   "execution_count": 7,
   "id": "52563d40-4fa8-41a8-8c51-ace97af49286",
   "metadata": {},
   "outputs": [],
   "source": [
    "import numpy as np"
   ]
  },
  {
   "cell_type": "markdown",
   "id": "7689573d-481e-4fcf-aaa7-972be36bd47b",
   "metadata": {},
   "source": [
    "#### 1. Create a 1D NumPy array with elements from 1 to 10 using arange().\n"
   ]
  },
  {
   "cell_type": "code",
   "execution_count": 9,
   "id": "f972fc76-15cd-4672-8ee0-7b71e6eb20c7",
   "metadata": {},
   "outputs": [
    {
     "name": "stdout",
     "output_type": "stream",
     "text": [
      "[ 1  2  3  4  5  6  7  8  9 10]\n"
     ]
    }
   ],
   "source": [
    "array = np.arange(1,11)\n",
    "print(array)"
   ]
  },
  {
   "cell_type": "markdown",
   "id": "61c0ca95-f654-45a7-849a-111e454e8ca6",
   "metadata": {},
   "source": [
    "#### a. Create a 2D array of size 3x3 filled with zeros using zeros().\n"
   ]
  },
  {
   "cell_type": "code",
   "execution_count": 13,
   "id": "bcfc88e2-b1c7-496a-b3c5-a40b5f9701fb",
   "metadata": {},
   "outputs": [
    {
     "name": "stdout",
     "output_type": "stream",
     "text": [
      "[[0. 0. 0.]\n",
      " [0. 0. 0.]\n",
      " [0. 0. 0.]]\n"
     ]
    }
   ],
   "source": [
    "array1 = np.zeros((3,3))\n",
    "print(array1)"
   ]
  },
  {
   "cell_type": "markdown",
   "id": "bc0ed1a7-2c7e-40ac-a915-5fabecfc9f0e",
   "metadata": {},
   "source": [
    "#### 2. Create an array [5, 10, 15, 20, 25]. Find its size, item size, and total bytes used by the array.\n"
   ]
  },
  {
   "cell_type": "code",
   "execution_count": 22,
   "id": "3f98279f-30a7-4204-8429-9811518902a0",
   "metadata": {},
   "outputs": [
    {
     "name": "stdout",
     "output_type": "stream",
     "text": [
      "Array :  [ 5 10 15 20 25]\n",
      "Size of array :  5\n",
      "Item Size :  4\n",
      "Total bytes used by the array :  20\n"
     ]
    }
   ],
   "source": [
    "array2 = np.array([5, 10, 15, 20, 25])\n",
    "print(\"Array : \", array2)\n",
    "print(\"Size of array : \", array2.size)\n",
    "print(\"Item Size : \", array2.itemsize)\n",
    "print(\"Total bytes used by the array : \", array2.nbytes)"
   ]
  },
  {
   "cell_type": "markdown",
   "id": "ea21e2cd-00a6-4323-803c-e6fd93196836",
   "metadata": {},
   "source": [
    "#### a. Use linspace() to generate an array of 7 equally spaced numbers between 0 and 14.\n"
   ]
  },
  {
   "cell_type": "code",
   "execution_count": 26,
   "id": "e97e8404-4962-49ab-819b-04910ce0321f",
   "metadata": {},
   "outputs": [
    {
     "name": "stdout",
     "output_type": "stream",
     "text": [
      "[ 0.          2.33333333  4.66666667  7.          9.33333333 11.66666667\n",
      " 14.        ]\n"
     ]
    }
   ],
   "source": [
    "array3 = np.linspace(0,14,7)\n",
    "print(array3)"
   ]
  },
  {
   "cell_type": "markdown",
   "id": "cd97976a-1263-4073-81c7-c36eb83f52ff",
   "metadata": {},
   "source": [
    "#### 3. Create a 4x4 identity matrix using eye().\n"
   ]
  },
  {
   "cell_type": "code",
   "execution_count": 33,
   "id": "89c16137-0c77-4330-b4c4-f8e2961a6382",
   "metadata": {},
   "outputs": [
    {
     "name": "stdout",
     "output_type": "stream",
     "text": [
      "[[1. 0. 0. 0.]\n",
      " [0. 1. 0. 0.]\n",
      " [0. 0. 1. 0.]\n",
      " [0. 0. 0. 1.]]\n"
     ]
    }
   ],
   "source": [
    "array4 = np.eye(4)\n",
    "print(array4)"
   ]
  },
  {
   "cell_type": "markdown",
   "id": "2e61d7bd-1278-4b70-8242-82b62ed0d188",
   "metadata": {},
   "source": [
    "#### a. Create a 3x3 diagonal matrix with the diagonal values [1, 2, 3] using diag().\n"
   ]
  },
  {
   "cell_type": "code",
   "execution_count": 35,
   "id": "2995089e-c55f-49d9-8f80-77e8c8f9cb6d",
   "metadata": {},
   "outputs": [
    {
     "name": "stdout",
     "output_type": "stream",
     "text": [
      "[[1 0 0]\n",
      " [0 2 0]\n",
      " [0 0 3]]\n"
     ]
    }
   ],
   "source": [
    "array5 = np.diag([1, 2, 3])\n",
    "print(array5)"
   ]
  },
  {
   "cell_type": "markdown",
   "id": "2a99ff0c-baea-4a17-97a9-f61b6a8495b9",
   "metadata": {},
   "source": [
    "#### b. Create a 2x3 array filled with the value 9 using full().\n"
   ]
  },
  {
   "cell_type": "code",
   "execution_count": 37,
   "id": "a46609ac-53db-4385-9416-97492dbbc10a",
   "metadata": {},
   "outputs": [
    {
     "name": "stdout",
     "output_type": "stream",
     "text": [
      "[[9 9 9]\n",
      " [9 9 9]]\n"
     ]
    }
   ],
   "source": [
    "array6 = np.full((2,3),9)\n",
    "print(array6)"
   ]
  },
  {
   "cell_type": "markdown",
   "id": "c596f477-c363-4ede-9105-c2c744e489f4",
   "metadata": {},
   "source": [
    "#### 4. Generate a 3x3 array of random numbers between 0 and 1 using random.rand().\n"
   ]
  },
  {
   "cell_type": "code",
   "execution_count": 43,
   "id": "bb0d5b27-3116-4780-b2fe-f509c0a971a0",
   "metadata": {},
   "outputs": [
    {
     "name": "stdout",
     "output_type": "stream",
     "text": [
      "[[0.7811759  0.72075713 0.48532271]\n",
      " [0.03911485 0.08223574 0.562116  ]\n",
      " [0.02420185 0.96392235 0.84718828]]\n"
     ]
    }
   ],
   "source": [
    "array7 = np.random.rand(3,3)\n",
    "print(array7)"
   ]
  },
  {
   "cell_type": "markdown",
   "id": "39e705a7-caec-4ed5-89a7-d072dd32ada9",
   "metadata": {},
   "source": [
    "#### a. Create a 4x4 array of random integers between 10 and 50 using random.randint().\n"
   ]
  },
  {
   "cell_type": "code",
   "execution_count": 52,
   "id": "b9694f08-0f6c-428f-8167-88af8d497fac",
   "metadata": {},
   "outputs": [
    {
     "name": "stdout",
     "output_type": "stream",
     "text": [
      "[[24 12 44 29]\n",
      " [16 15 18 19]\n",
      " [28 46 33 23]\n",
      " [17 35 26 44]]\n"
     ]
    }
   ],
   "source": [
    "array7 = np.random.randint(10,50, size = (4,4))\n",
    "print(array7)"
   ]
  },
  {
   "cell_type": "markdown",
   "id": "b3d74658-1a0e-4c73-9887-6c74fd0f6d13",
   "metadata": {},
   "source": [
    "#### b. Generate a 1D array of 5 random numbers from a normal distribution using random.randn().\n"
   ]
  },
  {
   "cell_type": "code",
   "execution_count": 54,
   "id": "0e64cea6-7969-461d-b67d-bfcd39ac7e73",
   "metadata": {},
   "outputs": [
    {
     "name": "stdout",
     "output_type": "stream",
     "text": [
      "[-0.39363302 -0.8174131  -0.91724268  0.55889491 -0.27849646]\n"
     ]
    }
   ],
   "source": [
    "array8 = np.random.randn(5)\n",
    "print(array8)"
   ]
  },
  {
   "cell_type": "markdown",
   "id": "3d92d373-7e12-4c80-8bd9-a14d9bc6fce3",
   "metadata": {},
   "source": [
    "#### c. Generate a 2D array of shape (2, 4) with random values uniformly distributed between -5 and 5 using random.uniform().\n"
   ]
  },
  {
   "cell_type": "code",
   "execution_count": 56,
   "id": "49d74355-3b9f-42da-ac25-42d11850afcd",
   "metadata": {},
   "outputs": [
    {
     "name": "stdout",
     "output_type": "stream",
     "text": [
      "[[ 2.95678691 -4.79494762  1.69146862 -0.79202457]\n",
      " [ 3.32941137 -4.75999248  3.34126273  3.50664022]]\n"
     ]
    }
   ],
   "source": [
    "array9 = np.random.uniform(-5,5,(2, 4))\n",
    "print(array9)"
   ]
  },
  {
   "cell_type": "markdown",
   "id": "71a52c52-e04f-4ddd-bfc3-03cdb5e29b29",
   "metadata": {},
   "source": [
    "#### 5. Create a 1D array [10, 20, 30, 40, 50]. Access the third element and update it to 35.\n"
   ]
  },
  {
   "cell_type": "code",
   "execution_count": 77,
   "id": "525cc1e2-1777-4618-9ee5-d8ba3217212a",
   "metadata": {},
   "outputs": [
    {
     "name": "stdout",
     "output_type": "stream",
     "text": [
      "Original array : [10 20 30 40 50]\n",
      "Third element: 30\n",
      "Updated array: [10 20 35 40 50]\n"
     ]
    }
   ],
   "source": [
    "array10 = np.array([10, 20, 30, 40, 50])\n",
    "print(\"Original array :\",array10)\n",
    "print(\"Third element:\",array10[2])\n",
    "array10[2] = 35\n",
    "print(\"Updated array:\",array10)"
   ]
  },
  {
   "cell_type": "markdown",
   "id": "dec86e4f-359e-4c5d-8501-f447df12ec13",
   "metadata": {},
   "source": [
    "#### a. Create a 2D array of shape (3, 4) with values from 1 to 12. Slice and extract the second row.\n"
   ]
  },
  {
   "cell_type": "code",
   "execution_count": 92,
   "id": "add086d8-928c-4e56-b20b-7b614260f1e1",
   "metadata": {},
   "outputs": [
    {
     "name": "stdout",
     "output_type": "stream",
     "text": [
      "Original array :\n",
      " [[ 1  2  3  4]\n",
      " [ 5  6  7  8]\n",
      " [ 9 10 11 12]]\n",
      "Second row :\n",
      " [5 6 7 8]\n"
     ]
    }
   ],
   "source": [
    "array11 = np.arange(1,13).reshape(3, 4)\n",
    "print(\"Original array :\\n\",array11)\n",
    "\n",
    "print(\"Second row :\\n\",array11[1,:])"
   ]
  },
  {
   "cell_type": "markdown",
   "id": "7829c323-21b3-46fa-9d59-9fbba86db03d",
   "metadata": {},
   "source": [
    "#### b. From the same array, extract all elements in the last column.\n"
   ]
  },
  {
   "cell_type": "code",
   "execution_count": 96,
   "id": "b15f81c7-35af-4b86-babf-6aaef75dfcf2",
   "metadata": {},
   "outputs": [
    {
     "name": "stdout",
     "output_type": "stream",
     "text": [
      "Last column :\n",
      " [ 4  8 12]\n"
     ]
    }
   ],
   "source": [
    "print(\"Last column :\\n\",array11[:,-1])"
   ]
  },
  {
   "cell_type": "markdown",
   "id": "799c281a-c6cb-46dc-a70c-1d5b3be0c905",
   "metadata": {},
   "source": [
    "#### 6. Create a 3x3 array of ones using ones() and change its dtype to int.\n",
    "\n"
   ]
  },
  {
   "cell_type": "code",
   "execution_count": 118,
   "id": "4073adc8-38e6-45bf-b7c9-e4f1a627a4ca",
   "metadata": {},
   "outputs": [
    {
     "name": "stdout",
     "output_type": "stream",
     "text": [
      "Array :\n",
      " [[1. 1. 1.]\n",
      " [1. 1. 1.]\n",
      " [1. 1. 1.]]\n",
      "Default datatype : float64\n",
      "Updated datatype : int8\n"
     ]
    }
   ],
   "source": [
    "array12 = np.ones((3,3))\n",
    "print(\"Array :\\n\",array12)\n",
    "print(\"Default datatype :\",array12.dtype)\n",
    "array12.dtype=np.int8\n",
    "print(\"Updated datatype :\",array12.dtype)"
   ]
  },
  {
   "cell_type": "markdown",
   "id": "2904f358-954e-410d-bf6e-853e9b16a56a",
   "metadata": {},
   "source": [
    "#### a. Create an array [1, 2, 3, 4, 5] and multiply each element by 2.\n",
    "\n"
   ]
  },
  {
   "cell_type": "code",
   "execution_count": 120,
   "id": "dd61b413-fe32-49ba-8feb-caf231be25f6",
   "metadata": {},
   "outputs": [
    {
     "name": "stdout",
     "output_type": "stream",
     "text": [
      "Array :\n",
      " [1 2 3 4 5]\n",
      "[ 2  4  6  8 10]\n"
     ]
    }
   ],
   "source": [
    "array13 = np.array([1, 2, 3, 4, 5])\n",
    "print(\"Array :\\n\",array13)\n",
    "res = array13*2\n",
    "print(res)"
   ]
  },
  {
   "cell_type": "code",
   "execution_count": null,
   "id": "7f4f42c0-99d5-4bb9-8874-111619fd8e76",
   "metadata": {},
   "outputs": [],
   "source": []
  }
 ],
 "metadata": {
  "kernelspec": {
   "display_name": "Python [conda env:base] *",
   "language": "python",
   "name": "conda-base-py"
  },
  "language_info": {
   "codemirror_mode": {
    "name": "ipython",
    "version": 3
   },
   "file_extension": ".py",
   "mimetype": "text/x-python",
   "name": "python",
   "nbconvert_exporter": "python",
   "pygments_lexer": "ipython3",
   "version": "3.12.7"
  }
 },
 "nbformat": 4,
 "nbformat_minor": 5
}
