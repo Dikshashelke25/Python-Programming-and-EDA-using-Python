{
 "cells": [
  {
   "cell_type": "markdown",
   "id": "a0a66339-d515-4a1f-9c2d-e173f9939700",
   "metadata": {},
   "source": [
    "Task 7 - Operators:\n",
    "\n",
    "1.ARITHMETIC OPERATOR  \n",
    "\n",
    "A.Define arithmetic operator. \n",
    "Arithmetic operators are used to perform common mathematical operations on numbers.\n",
    "    "
   ]
  },
  {
   "cell_type": "code",
   "execution_count": 2,
   "id": "621f3777-052c-4798-be55-61266ded9d87",
   "metadata": {},
   "outputs": [
    {
     "name": "stdin",
     "output_type": "stream",
     "text": [
      "Enter num1 :  25\n",
      "Enter num2 :  10\n"
     ]
    }
   ],
   "source": [
    "#B.reate a Python script that defines two variables, num1 and num2, with any numeric values. \n",
    "#Use arithmetic operators(+, -, *, /, //, %, **) to perform the following operations:\n",
    " \n",
    "num1 = int(input(\"Enter num1 : \"))\n",
    "num2 = int(input(\"Enter num2 : \"))\n"
   ]
  },
  {
   "cell_type": "code",
   "execution_count": 4,
   "id": "a6ababab-2d1c-4b7e-9589-fd1c112f8537",
   "metadata": {},
   "outputs": [
    {
     "name": "stdout",
     "output_type": "stream",
     "text": [
      "Result of addition :  35\n"
     ]
    }
   ],
   "source": [
    "#Add num1 and num2.\n",
    "\n",
    "add_res = num1 + num2\n",
    "print(\"Result of addition : \", add_res)"
   ]
  },
  {
   "cell_type": "code",
   "execution_count": 6,
   "id": "f6f5b6be-7e72-4478-a63f-1a891b1a6e97",
   "metadata": {},
   "outputs": [
    {
     "name": "stdout",
     "output_type": "stream",
     "text": [
      "Result of subtraction :  15\n"
     ]
    }
   ],
   "source": [
    "#Subtract num2 from num1.\n",
    "\n",
    "sub_res = num1 - num2\n",
    "print(\"Result of subtraction : \", sub_res)"
   ]
  },
  {
   "cell_type": "code",
   "execution_count": 8,
   "id": "e8e70c64-b67f-46dc-b453-f48b3ea3dd44",
   "metadata": {},
   "outputs": [
    {
     "name": "stdout",
     "output_type": "stream",
     "text": [
      "Result of multiplication :  250\n"
     ]
    }
   ],
   "source": [
    "#Multiply num1 and num2.\n",
    "\n",
    "mul_res = num1 * num2\n",
    "print(\"Result of multiplication : \", mul_res)"
   ]
  },
  {
   "cell_type": "code",
   "execution_count": 10,
   "id": "11197213-f97d-454c-9529-c34d23fe84a9",
   "metadata": {},
   "outputs": [
    {
     "name": "stdout",
     "output_type": "stream",
     "text": [
      "Result of division :  2.5\n"
     ]
    }
   ],
   "source": [
    "#Divide num1 by num2.\n",
    "\n",
    "div_res = num1 / num2\n",
    "print(\"Result of division : \", div_res)"
   ]
  },
  {
   "cell_type": "code",
   "execution_count": 12,
   "id": "44c41551-7387-4acc-ab7f-e61979ab07ae",
   "metadata": {},
   "outputs": [
    {
     "name": "stdout",
     "output_type": "stream",
     "text": [
      "Result of division :  2\n"
     ]
    }
   ],
   "source": [
    "#Find the floor division of num1 by num2.\n",
    "\n",
    "fl_div = num1 // num2\n",
    "print(\"Result of division : \", fl_div)"
   ]
  },
  {
   "cell_type": "code",
   "execution_count": 16,
   "id": "207c85ad-7c63-4b33-be30-29d9e6bc2790",
   "metadata": {},
   "outputs": [
    {
     "name": "stdout",
     "output_type": "stream",
     "text": [
      "Reminder :  5\n"
     ]
    }
   ],
   "source": [
    "#Find the remainder when dividing num1 by num2.\n",
    "\n",
    "mod = num1 % num2\n",
    "print(\"Reminder : \", mod)"
   ]
  },
  {
   "cell_type": "code",
   "execution_count": 18,
   "id": "8b21ed62-280b-4f7d-a472-a2f7960445cb",
   "metadata": {},
   "outputs": [
    {
     "name": "stdout",
     "output_type": "stream",
     "text": [
      "Result of power :  95367431640625\n"
     ]
    }
   ],
   "source": [
    "#Calculate num1 raised to the power of num2.\n",
    "\n",
    "power = num1 ** num2\n",
    "print(\"Result of power : \", power)"
   ]
  },
  {
   "cell_type": "markdown",
   "id": "7ebee014-8884-4136-8e6b-daf4089a31eb",
   "metadata": {},
   "source": [
    "2. LOGICAL OPERATORS:\n",
    "   \n",
    "A.Define Logical Operator.\n",
    "\n",
    "Python logical operators are used to combine conditional statements, allowing you to perform operations based on multiple conditions.\n",
    "Logical Operators in python are AND, OR, NOT."
   ]
  },
  {
   "cell_type": "code",
   "execution_count": 22,
   "id": "3a1f5c76-ed44-4c03-9dd3-93d0485feaa8",
   "metadata": {},
   "outputs": [],
   "source": [
    "#B.Create a Python script that defines two Boolean variables, is_sunny and is_warm, with appropriate values (True or False).\n",
    "#Use logical operators (and, or, not) to create the following conditions:\n",
    "\n",
    "is_sunny = True\n",
    "is_warm = False\n"
   ]
  },
  {
   "cell_type": "code",
   "execution_count": 24,
   "id": "9674b8bb-8e70-4610-a33b-c17351fbfbc8",
   "metadata": {},
   "outputs": [
    {
     "name": "stdout",
     "output_type": "stream",
     "text": [
      "Is it both sunny and warm ? False\n"
     ]
    }
   ],
   "source": [
    "#Check if it's both sunny and warm and print the result.\n",
    "\n",
    "print(\"Is it both sunny and warm ?\", is_sunny and is_warm)\n",
    "   "
   ]
  },
  {
   "cell_type": "code",
   "execution_count": 28,
   "id": "8d5f11ac-4b80-4497-92f6-605f58aca7a5",
   "metadata": {},
   "outputs": [
    {
     "name": "stdout",
     "output_type": "stream",
     "text": [
      "Is it either sunny or warm? True\n"
     ]
    }
   ],
   "source": [
    "#Check if it's either sunny or warm and print the result.\n",
    "\n",
    "print(\"Is it either sunny or warm?\", is_sunny or is_warm)"
   ]
  },
  {
   "cell_type": "code",
   "execution_count": 30,
   "id": "8a1e1e08-6c87-467e-b709-cb0a85057e8e",
   "metadata": {},
   "outputs": [
    {
     "name": "stdout",
     "output_type": "stream",
     "text": [
      "Is it not sunny ? False\n"
     ]
    }
   ],
   "source": [
    "#Check if it's not sunny and print the result.\n",
    "\n",
    "print(\"Is it not sunny ?\", not is_sunny)"
   ]
  },
  {
   "cell_type": "markdown",
   "id": "3b39f6eb-a955-49fb-addf-3f807f348b51",
   "metadata": {},
   "source": [
    "3. COMPARATIVE OPERATORS:\n",
    "A.Define Comparative Operator.  \n",
    "\n",
    "Comparison Operators in programming are used to compare values and determine their relationship, \n",
    "such as equality, inequality, greater than, less than, etc."
   ]
  },
  {
   "cell_type": "code",
   "execution_count": 1,
   "id": "fc27d680-d09e-440c-87e0-6ef1973ec286",
   "metadata": {},
   "outputs": [
    {
     "name": "stdin",
     "output_type": "stream",
     "text": [
      "Enter value of a :  50\n",
      "Enter value of b :  70\n"
     ]
    }
   ],
   "source": [
    "#B.Create a Python script that defines two variables, a and b, with any numeric values.\n",
    "#Use comparative operators (==, !=, <, >, <=, >=) to create the following conditions\n",
    "\n",
    "a = int(input(\"Enter value of a : \"))\n",
    "b = int(input(\"Enter value of b : \"))"
   ]
  },
  {
   "cell_type": "code",
   "execution_count": 3,
   "id": "e37a4ea9-05d7-405e-9cbb-76debdeab834",
   "metadata": {},
   "outputs": [
    {
     "name": "stdout",
     "output_type": "stream",
     "text": [
      "a is equal to b? :  False\n"
     ]
    }
   ],
   "source": [
    "#Check if a is equal to b and print the result.\n",
    "\n",
    "print(\"a is equal to b? : \",a==b)"
   ]
  },
  {
   "cell_type": "code",
   "execution_count": 5,
   "id": "03cde98b-91a6-41a2-b3c8-8b2082944546",
   "metadata": {},
   "outputs": [
    {
     "name": "stdout",
     "output_type": "stream",
     "text": [
      "a is not equal to b? :  True\n"
     ]
    }
   ],
   "source": [
    "#Check if a is not equal to b and print the result.\n",
    "\n",
    "print(\"a is not equal to b? : \",a!=b)"
   ]
  },
  {
   "cell_type": "code",
   "execution_count": null,
   "id": "a7c61c48-f2f4-4719-937d-f0126c822e79",
   "metadata": {},
   "outputs": [],
   "source": [
    "#Check if a is less than b and print the result.\n",
    "\n",
    "print(\"a is less than b? : \",a<b)"
   ]
  },
  {
   "cell_type": "code",
   "execution_count": null,
   "id": "7c2a0565-a288-41bc-a250-7972f705e368",
   "metadata": {},
   "outputs": [],
   "source": [
    "#Check if a is greater than b and print the result.\n",
    "\n",
    "print(\"a is greater than b? : \",a>b)"
   ]
  },
  {
   "cell_type": "code",
   "execution_count": 7,
   "id": "bc5183c0-53b4-44bc-a56a-39b956c8a6c0",
   "metadata": {},
   "outputs": [
    {
     "name": "stdout",
     "output_type": "stream",
     "text": [
      "a is less than or equal to b? :  True\n"
     ]
    }
   ],
   "source": [
    "#Check if a is less than or equal to b and print the result.\n",
    "\n",
    "print(\"a is less than or equal to b? : \",a<=b)"
   ]
  },
  {
   "cell_type": "code",
   "execution_count": 9,
   "id": "f658ebb5-7c93-4d25-93e8-213a9a8e3185",
   "metadata": {},
   "outputs": [
    {
     "name": "stdout",
     "output_type": "stream",
     "text": [
      "a is greater than or equal to b? :  False\n"
     ]
    }
   ],
   "source": [
    "#Check if a is greater than or equal to b and print the result.\n",
    "\n",
    "print(\"a is greater than or equal to b? : \",a>=b)"
   ]
  },
  {
   "cell_type": "markdown",
   "id": "8713ba1d-1b32-47e6-b436-2fafd5cd9830",
   "metadata": {},
   "source": [
    "4. Identity Operators:\n",
    "A. What will be the output of the following code?\n",
    "\n",
    "a=10\n",
    "b=10\n",
    "print(a is b)\n",
    "print(a is not b)\n",
    "\n",
    "o/p:\n",
    "True\n",
    "False"
   ]
  },
  {
   "cell_type": "markdown",
   "id": "852d2bc5-4023-4b7a-831d-57ef69b1bd4a",
   "metadata": {},
   "source": [
    "B.\n",
    "list1 = [1, 2, 3]\n",
    "list2 = [1, 2, 3]\n",
    "Is list1 is list2 True or False? Why?\n",
    "\n",
    "o/p: False\n",
    "\n",
    "Even though both the lists, i.e., ‘list1’ and ‘list2’ have same data, the output is still False. \n",
    "This is because both the lists refers to different objects in the memory."
   ]
  },
  {
   "cell_type": "markdown",
   "id": "d9c02ec6-a9a8-4d14-82a2-65f2f5d1b6fd",
   "metadata": {},
   "source": [
    "C. What is the difference between == and is operators in Python? Provide an example for each.\n",
    "\n",
    "The == operator checks for equality of values which means it evaluates whether the values of two objects are the same. \n",
    "\n",
    "is operator checks for identity, means it checks whether two variables point to the same object in memory."
   ]
  },
  {
   "cell_type": "markdown",
   "id": "bc17d03e-d228-4a94-97a7-c69d1b047de3",
   "metadata": {},
   "source": [
    "5. Assignment Operators:\n",
    "What will be the value of x after the following operations?\n"
   ]
  },
  {
   "cell_type": "code",
   "execution_count": 30,
   "id": "e43a0eea-2656-48ad-9e0d-fb7643301b9a",
   "metadata": {},
   "outputs": [
    {
     "name": "stdout",
     "output_type": "stream",
     "text": [
      "6\n"
     ]
    }
   ],
   "source": [
    "x = 5\n",
    "x += 3 #5+3=8\n",
    "x -= 2 #8-2=6\n",
    "print(x)"
   ]
  },
  {
   "cell_type": "code",
   "execution_count": 32,
   "id": "10e93480-7356-4b91-a802-3a3249655abc",
   "metadata": {},
   "outputs": [
    {
     "name": "stdout",
     "output_type": "stream",
     "text": [
      "True\n",
      "True\n"
     ]
    }
   ],
   "source": [
    "#6. Membership Operators:\n",
    "\n",
    "#What will be the result of the following expression?\n",
    "lst = [10, 20, 30, 40]\n",
    "print(30 in lst)\n",
    "print(50 not in lst)\n"
   ]
  },
  {
   "cell_type": "markdown",
   "id": "5ac34224-234d-44ad-b9d7-1ca68ebccccf",
   "metadata": {},
   "source": [
    "How does the not in operator work in Python? Provide an example with a string.\n",
    "\n",
    "The ‘not in’ Python operator evaluates to true if it does not find the variable in the specified sequence and false otherwise.\n"
   ]
  },
  {
   "cell_type": "code",
   "execution_count": 38,
   "id": "60278d90-386c-4d99-96fe-af9170148446",
   "metadata": {},
   "outputs": [
    {
     "name": "stdout",
     "output_type": "stream",
     "text": [
      "True\n",
      "False\n"
     ]
    }
   ],
   "source": [
    "# checking characters in a string\n",
    "\n",
    "str1 = \"Hello World!\"\n",
    "print('O' not in str1)\n",
    "print('ll' not in str1)"
   ]
  },
  {
   "cell_type": "markdown",
   "id": "6e8416ba-7db0-414b-88f1-a6f37b4a976c",
   "metadata": {},
   "source": [
    "7. Bitwise Operators:\n",
    "\n",
    "A.What will be the output of the following code?"
   ]
  },
  {
   "cell_type": "code",
   "execution_count": 40,
   "id": "3238d536-f63b-44dd-aaba-df388eadd7d7",
   "metadata": {},
   "outputs": [
    {
     "name": "stdout",
     "output_type": "stream",
     "text": [
      "2\n"
     ]
    }
   ],
   "source": [
    "a = 6 \n",
    "b = 3 \n",
    "print(a & b)"
   ]
  },
  {
   "cell_type": "code",
   "execution_count": 48,
   "id": "e35f9f15-da64-4711-9e85-966f06795551",
   "metadata": {},
   "outputs": [
    {
     "name": "stdout",
     "output_type": "stream",
     "text": [
      "a | b : 13\n"
     ]
    }
   ],
   "source": [
    "#B.Convert the decimal numbers 5 and 9 to binary and perform the bitwise OR (|) operation on them. What is the result in decimal?\n",
    "\n",
    "a = 5 #0101\n",
    "b = 9 #1001\n",
    "\n",
    "print(\"a | b :\" , a | b)"
   ]
  },
  {
   "cell_type": "markdown",
   "id": "4ac26bfc-2550-4251-9fb5-4aa62760b396",
   "metadata": {},
   "source": [
    "C.Explain the difference between the bitwise left shift (<<) and right shift (>>) operators in Python. Provide an example for each.\n",
    "\n",
    "left shift- Shifts bits to the left and fills with 0s on the right. ( Multiplies x by 2^n)\n",
    "right shift- Shifts bits to the right and removes bits from the right( Divides x by 2^n)\n",
    "                                                                                                                                                                                                                                           "
   ]
  },
  {
   "cell_type": "code",
   "execution_count": 50,
   "id": "62a69861-71f4-4a29-ac47-e461bde78b89",
   "metadata": {},
   "outputs": [
    {
     "name": "stdout",
     "output_type": "stream",
     "text": [
      "Left Shift Result: 80\n",
      "Right Shift Result: 20\n"
     ]
    }
   ],
   "source": [
    "num1 = 20  \n",
    "num2 = 80\n",
    "\n",
    "res1 = num1 << 2 \n",
    "res2 = num2 >> 2\n",
    "\n",
    "print(\"Left Shift Result:\", res1)  \n",
    "print(\"Right Shift Result:\", res2)  \n"
   ]
  },
  {
   "cell_type": "code",
   "execution_count": null,
   "id": "3d5c54cb-76e9-418c-b8b4-d20c11a2bfca",
   "metadata": {},
   "outputs": [],
   "source": []
  },
  {
   "cell_type": "code",
   "execution_count": null,
   "id": "9456a80f-f94e-4ab0-91ac-e0255f617c24",
   "metadata": {},
   "outputs": [],
   "source": []
  }
 ],
 "metadata": {
  "kernelspec": {
   "display_name": "Python [conda env:base] *",
   "language": "python",
   "name": "conda-base-py"
  },
  "language_info": {
   "codemirror_mode": {
    "name": "ipython",
    "version": 3
   },
   "file_extension": ".py",
   "mimetype": "text/x-python",
   "name": "python",
   "nbconvert_exporter": "python",
   "pygments_lexer": "ipython3",
   "version": "3.12.7"
  }
 },
 "nbformat": 4,
 "nbformat_minor": 5
}
