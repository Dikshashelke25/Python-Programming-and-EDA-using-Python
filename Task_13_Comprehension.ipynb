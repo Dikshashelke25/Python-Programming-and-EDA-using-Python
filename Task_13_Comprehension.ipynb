{
 "cells": [
  {
   "cell_type": "markdown",
   "id": "ba860e8e-a6bd-4f37-8378-eea0c2c2fd30",
   "metadata": {},
   "source": [
    "Task 13 - Comprehension:\n"
   ]
  },
  {
   "cell_type": "markdown",
   "id": "779f50cc-83ce-442b-b590-45a39db5afc4",
   "metadata": {},
   "source": [
    "1.Create a new list containing only the even numbers from the original list below.\n",
    "\n",
    "list1 = [10,31,40,75,82,37,89,20]\n",
    "\n"
   ]
  },
  {
   "cell_type": "code",
   "execution_count": 18,
   "id": "af4e0c6b-03c2-414c-b37c-705aa40ba8c9",
   "metadata": {},
   "outputs": [
    {
     "name": "stdout",
     "output_type": "stream",
     "text": [
      "[10, 40, 82, 20]\n"
     ]
    }
   ],
   "source": [
    "list1 = [10,31,40,75,82,37,89,20]\n",
    "even = [x for x in list1 if x%2==0]\n",
    "print(even)"
   ]
  },
  {
   "cell_type": "markdown",
   "id": "e0fcfd72-04f5-4d37-9f8d-9c9970e9cda6",
   "metadata": {},
   "source": [
    "a.Create a list that contains the lengths of each word in the sentence.\n",
    "\n",
    "sentence = \"It matters not what someone is born, but what they grow to be\"\n",
    "\n",
    "Expected output : [2, 7, 3, 4, 7, 2, 5, 3, 4, 4, 4, 2, 2]\n",
    "     \n",
    "  "
   ]
  },
  {
   "cell_type": "code",
   "execution_count": 22,
   "id": "bed24c7f-5421-4f56-bc97-c2ce8f036326",
   "metadata": {},
   "outputs": [
    {
     "name": "stdout",
     "output_type": "stream",
     "text": [
      "[2, 7, 3, 4, 7, 2, 4, 3, 4, 4, 4, 2, 2]\n"
     ]
    }
   ],
   "source": [
    "sentence = \"It matters not what someone is born, but what they grow to be\"\n",
    "\n",
    "word_lengths = [len(word.strip(\",.\")) for word in sentence.split()]\n",
    "\n",
    "print(word_lengths)"
   ]
  },
  {
   "cell_type": "markdown",
   "id": "36f6f45d-50a9-4279-bc72-c247ac00cff8",
   "metadata": {},
   "source": [
    "2.Remove all occurrences of element 40 from the list below using list comprehension.\n",
    "\n",
    "list4= [30,40,52,40,62,78,90,40,56]\n"
   ]
  },
  {
   "cell_type": "code",
   "execution_count": 26,
   "id": "057a8bb6-c9a9-415c-80d4-0a04f1279e27",
   "metadata": {},
   "outputs": [
    {
     "name": "stdout",
     "output_type": "stream",
     "text": [
      "[30, 52, 62, 78, 90, 56]\n"
     ]
    }
   ],
   "source": [
    "list4= [30,40,52,40,62,78,90,40,56]\n",
    "\n",
    "new_list = [num for num in list4 if num!=40]\n",
    "print(new_list)"
   ]
  },
  {
   "cell_type": "markdown",
   "id": "1d0971e4-6086-4125-b4cf-8c51b63f3bf2",
   "metadata": {},
   "source": [
    "3.Generate a dictionary using dictionary comprehension that contains only the even  numbers from 1 to 10 as keys, and their squares as values.\n",
    "\n",
    "Expected Output : \n",
    "{2: 4, 4: 16, 6: 36, 8: 64, 10: 100}\n",
    "\n"
   ]
  },
  {
   "cell_type": "code",
   "execution_count": 34,
   "id": "d1742341-0b69-4fe5-aef7-ea0b5126ca87",
   "metadata": {},
   "outputs": [
    {
     "ename": "SyntaxError",
     "evalue": "invalid syntax (3168935124.py, line 1)",
     "output_type": "error",
     "traceback": [
      "\u001b[1;36m  Cell \u001b[1;32mIn[34], line 1\u001b[1;36m\u001b[0m\n\u001b[1;33m    sq = {x : x**2 for x in range(1,11) if x%2=0}\u001b[0m\n\u001b[1;37m                                              ^\u001b[0m\n\u001b[1;31mSyntaxError\u001b[0m\u001b[1;31m:\u001b[0m invalid syntax\n"
     ]
    }
   ],
   "source": [
    "sq = {x : x**2 for x in range(1,11) if x%2==0}\n",
    "print(sq)"
   ]
  },
  {
   "cell_type": "markdown",
   "id": "9faee6a6-2455-4938-bc2e-d667f63bc2d3",
   "metadata": {},
   "source": [
    "4.Create a dictionary where the values are squares of the keys. Say, keys range from 3 to 25.\n",
    "\n",
    "Expected Output : \n",
    "{3: 9, 4: 16, 5: 25, 6: 36, 7: 49, 8: 64, 9: 81, 10: 100, 11: 121, 12: 144, 13: 169, 14: 196, 15: 225, 16: 256, 17: 289, 18: 324, 19: 361, 20: 400, 21: 441, 22: 484, 23: 529, 24: 576, 25: 625}\n"
   ]
  },
  {
   "cell_type": "code",
   "execution_count": null,
   "id": "354d60ae-3be3-4285-8fae-96952fbbf5c2",
   "metadata": {},
   "outputs": [],
   "source": []
  },
  {
   "cell_type": "code",
   "execution_count": null,
   "id": "a8da11f6-52aa-4fc2-8567-60f6eaf4d3e3",
   "metadata": {},
   "outputs": [],
   "source": []
  },
  {
   "cell_type": "code",
   "execution_count": null,
   "id": "a80d04cf-529f-4513-bd58-e816c34560d8",
   "metadata": {},
   "outputs": [],
   "source": []
  }
 ],
 "metadata": {
  "kernelspec": {
   "display_name": "Python [conda env:base] *",
   "language": "python",
   "name": "conda-base-py"
  },
  "language_info": {
   "codemirror_mode": {
    "name": "ipython",
    "version": 3
   },
   "file_extension": ".py",
   "mimetype": "text/x-python",
   "name": "python",
   "nbconvert_exporter": "python",
   "pygments_lexer": "ipython3",
   "version": "3.12.7"
  }
 },
 "nbformat": 4,
 "nbformat_minor": 5
}
