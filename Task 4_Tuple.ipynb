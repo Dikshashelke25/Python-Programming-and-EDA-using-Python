{
 "cells": [
  {
   "cell_type": "markdown",
   "id": "511208a2-c8f9-421e-8f5e-a29cdcc92585",
   "metadata": {},
   "source": [
    "1.Lists the tuple Properties and Explain immutability in Python tuples with examples. \n",
    "\n",
    "Properties of tuple : \n",
    "1. Tuple is immutable i.e. once a tuple is created its elements cannot be changed, added or removed.\n",
    "2. It is defined inside ().\n",
    "3. It allows repetition of values."
   ]
  },
  {
   "cell_type": "code",
   "execution_count": 1,
   "id": "cf80a839-c7bb-4022-9f98-52022b80279f",
   "metadata": {},
   "outputs": [
    {
     "name": "stdout",
     "output_type": "stream",
     "text": [
      "(5, 10, 15, 20, 25, 30, 35, 40, 45, 50)\n",
      "<class 'tuple'>\n"
     ]
    },
    {
     "ename": "TypeError",
     "evalue": "'tuple' object does not support item assignment",
     "output_type": "error",
     "traceback": [
      "\u001b[1;31m---------------------------------------------------------------------------\u001b[0m",
      "\u001b[1;31mTypeError\u001b[0m                                 Traceback (most recent call last)",
      "Cell \u001b[1;32mIn[1], line 4\u001b[0m\n\u001b[0;32m      2\u001b[0m \u001b[38;5;28mprint\u001b[39m(t)\n\u001b[0;32m      3\u001b[0m \u001b[38;5;28mprint\u001b[39m(\u001b[38;5;28mtype\u001b[39m(t))\n\u001b[1;32m----> 4\u001b[0m t[\u001b[38;5;241m0\u001b[39m] \u001b[38;5;241m=\u001b[39m \u001b[38;5;241m-\u001b[39m\u001b[38;5;241m10\u001b[39m\n\u001b[0;32m      5\u001b[0m \u001b[38;5;28mprint\u001b[39m(\u001b[38;5;124m\"\u001b[39m\u001b[38;5;124mUpdating value at index 0\u001b[39m\u001b[38;5;124m\"\u001b[39m,t)\n",
      "\u001b[1;31mTypeError\u001b[0m: 'tuple' object does not support item assignment"
     ]
    }
   ],
   "source": [
    "t = (5, 10, 15, 20, 25, 30, 35, 40, 45, 50)\n",
    "print(t)\n",
    "print(type(t))\n",
    "t[0] = -10\n",
    "print(\"Updating value at index 0\",t)"
   ]
  },
  {
   "cell_type": "code",
   "execution_count": 3,
   "id": "41872c12-1451-41e7-ad1f-86e42365344d",
   "metadata": {},
   "outputs": [
    {
     "ename": "AttributeError",
     "evalue": "'tuple' object has no attribute 'insert'",
     "output_type": "error",
     "traceback": [
      "\u001b[1;31m---------------------------------------------------------------------------\u001b[0m",
      "\u001b[1;31mAttributeError\u001b[0m                            Traceback (most recent call last)",
      "Cell \u001b[1;32mIn[3], line 1\u001b[0m\n\u001b[1;32m----> 1\u001b[0m t\u001b[38;5;241m.\u001b[39minsert(\u001b[38;5;241m4\u001b[39m, \u001b[38;5;241m-\u001b[39m\u001b[38;5;241m20\u001b[39m)\n\u001b[0;32m      2\u001b[0m \u001b[38;5;28mprint\u001b[39m(t)\n",
      "\u001b[1;31mAttributeError\u001b[0m: 'tuple' object has no attribute 'insert'"
     ]
    }
   ],
   "source": [
    "t.insert(4, -20)\n",
    "print(t)"
   ]
  },
  {
   "cell_type": "code",
   "execution_count": 5,
   "id": "11cbddc9-b1da-44a6-a465-adea957d885d",
   "metadata": {},
   "outputs": [
    {
     "ename": "AttributeError",
     "evalue": "'tuple' object has no attribute 'remove'",
     "output_type": "error",
     "traceback": [
      "\u001b[1;31m---------------------------------------------------------------------------\u001b[0m",
      "\u001b[1;31mAttributeError\u001b[0m                            Traceback (most recent call last)",
      "Cell \u001b[1;32mIn[5], line 1\u001b[0m\n\u001b[1;32m----> 1\u001b[0m t\u001b[38;5;241m.\u001b[39mremove(\u001b[38;5;241m40\u001b[39m)\n\u001b[0;32m      2\u001b[0m \u001b[38;5;28mprint\u001b[39m(t)\n",
      "\u001b[1;31mAttributeError\u001b[0m: 'tuple' object has no attribute 'remove'"
     ]
    }
   ],
   "source": [
    "t.remove(40)\n",
    "print(t)"
   ]
  },
  {
   "cell_type": "code",
   "execution_count": 7,
   "id": "0ab9566b-d63f-4279-9a01-9a785060c0a3",
   "metadata": {},
   "outputs": [
    {
     "name": "stdout",
     "output_type": "stream",
     "text": [
      "apple\n",
      "banana\n",
      "orange\n",
      "mango\n",
      "kiwi\n"
     ]
    }
   ],
   "source": [
    "#2.Tuple Basics Create a Python tuple containing the names of your favorite fruits. \n",
    "#Write a Python program to print each fruit name from the tuple.\n",
    "\n",
    "fruits = ('apple', 'banana', 'orange', 'mango', 'kiwi')\n",
    "print(fruits[0])\n",
    "print(fruits[1])\n",
    "print(fruits[2])\n",
    "print(fruits[3])\n",
    "print(fruits[4])\n"
   ]
  },
  {
   "cell_type": "code",
   "execution_count": 13,
   "id": "727b606e-f758-4f08-b50a-d73629101c7e",
   "metadata": {},
   "outputs": [
    {
     "name": "stdout",
     "output_type": "stream",
     "text": [
      "tup_1 :  ('a', 'y', 's', 2, 'Hello', 40)\n",
      "tup_2 :  (1, 9, 3, 100, 54, 75, 30)\n",
      "Concatenating tup_1 and tup_2 : ('a', 'y', 's', 2, 'Hello', 40, 1, 9, 3, 100, 54, 75, 30)\n"
     ]
    }
   ],
   "source": [
    "#3.Given two tuples, write a Python program to concatenate them into a single tuple and then find the length of the resulting tuple.\n",
    "\n",
    "tup_1 = ('a', 'y', 's', 2, 'Hello', 40)\n",
    "tup_2 = (1, 9, 3, 100, 54, 75, 30)\n",
    "\n",
    "print(\"tup_1 : \", tup_1)\n",
    "print(\"tup_2 : \", tup_2)\n",
    "\n",
    "tup_3 = tup_1 + tup_2\n",
    "print(\"Concatenating tup_1 and tup_2 :\", tup_3)"
   ]
  },
  {
   "cell_type": "code",
   "execution_count": 15,
   "id": "8f4cb558-8607-44b4-abe4-7c0cc7427d01",
   "metadata": {},
   "outputs": [
    {
     "name": "stdout",
     "output_type": "stream",
     "text": [
      "Tuple tup_1 : (1, 9, 3, 100, 54, 75, 30)\n",
      "Tuple tup_1 converted to set set_1 : {1, 3, 100, 9, 75, 54, 30}\n",
      "Maximum value in set_1 : 100\n",
      "Minimum value in set_1 : 1\n"
     ]
    }
   ],
   "source": [
    "#4.Write a Python program that takes a tuple of integers and converts it into a set. \n",
    "#Then, find and print the maximum and minimum value from the set.\n",
    "\n",
    "tup_1 = (1, 9, 3, 100, 54, 75, 30)\n",
    "print(\"Tuple tup_1 :\", tup_1)\n",
    "\n",
    "set_1 = set(tup_1)\n",
    "print(\"Tuple tup_1 converted to set set_1 :\", set_1)\n",
    "\n",
    "print(\"Maximum value in set_1 :\", max(set_1))\n",
    "print(\"Minimum value in set_1 :\", min(set_1))"
   ]
  },
  {
   "cell_type": "code",
   "execution_count": 19,
   "id": "0030ee9f-9f10-4d11-8e5e-b43024ebee8e",
   "metadata": {},
   "outputs": [
    {
     "name": "stdout",
     "output_type": "stream",
     "text": [
      "Tuple : (10, 20, 30, 40, 50, 60, 70, 80, 90, 100)\n",
      "Elements from 3rd to the 7th position : (40, 50, 60, 70, 80)\n"
     ]
    }
   ],
   "source": [
    "#5.Tuple Slicing Given a tuple of 10 elements, write a Python program to print the elements from the 3rd to the 7th position using slicing.\n",
    "\n",
    "tup = tuple(range(10,110,10))\n",
    "print(\"Tuple :\", tup)\n",
    "\n",
    "print(\"Elements from 3rd to the 7th position :\", tup[3:8])"
   ]
  },
  {
   "cell_type": "code",
   "execution_count": 23,
   "id": "cc4e09bc-9356-4c32-83e5-1ebf9c4c0471",
   "metadata": {},
   "outputs": [
    {
     "name": "stdout",
     "output_type": "stream",
     "text": [
      "20\n"
     ]
    }
   ],
   "source": [
    "#6.Access value 20 from the tuple1 = (\"Orange\", [10, 20, 30], (5, 15, 25))\n",
    "\n",
    "tuple1 = (\"Orange\", [10, 20, 30], (5, 15, 25))\n",
    "print(tuple1[1][1])"
   ]
  },
  {
   "cell_type": "code",
   "execution_count": 25,
   "id": "a515b2ca-5f5d-4692-8225-3a848cbfeb4c",
   "metadata": {},
   "outputs": [
    {
     "name": "stdout",
     "output_type": "stream",
     "text": [
      "Count of 2 : 3\n"
     ]
    }
   ],
   "source": [
    "#7.tup=(1,2,3,2,4,5,3,4,2). Count the occurrences of element ‘2’ in the given tuple.\n",
    "\n",
    "tup=(1,2,3,2,4,5,3,4,2)\n",
    "\n",
    "print(\"Count of 2 :\", tup.count(2))"
   ]
  },
  {
   "cell_type": "code",
   "execution_count": 33,
   "id": "5228d775-da81-4100-a111-8aae5148c60b",
   "metadata": {},
   "outputs": [
    {
     "ename": "SyntaxError",
     "evalue": "invalid syntax (645455709.py, line 5)",
     "output_type": "error",
     "traceback": [
      "\u001b[1;36m  Cell \u001b[1;32mIn[33], line 5\u001b[1;36m\u001b[0m\n\u001b[1;33m    Tup_Even = Tuple([2: :2])\u001b[0m\n\u001b[1;37m                       ^\u001b[0m\n\u001b[1;31mSyntaxError\u001b[0m\u001b[1;31m:\u001b[0m invalid syntax\n"
     ]
    }
   ],
   "source": [
    "#8.Create a tuple of numbers. Use slicing to create a new tuple containing only the even-indexed elements of the original tuple.\n",
    "\n",
    "Tuple = (10, 20, 30, 40, 50, 60, 70, 80, 90, 100)\n",
    "\n",
    "Tup_Even = Tuple([2: :2])\n",
    "\n",
    "print(Tup_Even) \n"
   ]
  },
  {
   "cell_type": "code",
   "execution_count": null,
   "id": "045084f6-92a7-4a91-9e46-a806078ed5f8",
   "metadata": {},
   "outputs": [],
   "source": []
  }
 ],
 "metadata": {
  "kernelspec": {
   "display_name": "Python [conda env:base] *",
   "language": "python",
   "name": "conda-base-py"
  },
  "language_info": {
   "codemirror_mode": {
    "name": "ipython",
    "version": 3
   },
   "file_extension": ".py",
   "mimetype": "text/x-python",
   "name": "python",
   "nbconvert_exporter": "python",
   "pygments_lexer": "ipython3",
   "version": "3.12.7"
  }
 },
 "nbformat": 4,
 "nbformat_minor": 5
}
