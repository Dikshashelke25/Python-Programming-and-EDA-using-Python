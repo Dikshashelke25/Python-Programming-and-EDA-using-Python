{
 "cells": [
  {
   "cell_type": "markdown",
   "id": "e7d2f06f-89c6-46c1-a3a3-d4a1a7da1b5e",
   "metadata": {},
   "source": [
    "Task 14 - File and Exceptional Handling:"
   ]
  },
  {
   "cell_type": "markdown",
   "id": "127553c5-262b-4cb0-baa0-9e4be81feee4",
   "metadata": {},
   "source": [
    "1.a) Create a text file named \"sample.txt\" with the content \"Hello, File Handling!\". Write a Python program to open the file, read its content, and print it. Now, count the number of words in the file. Print the word count.\n"
   ]
  },
  {
   "cell_type": "code",
   "execution_count": 24,
   "id": "f66a2a57-ad84-47a6-ad5f-d10fc5d14853",
   "metadata": {},
   "outputs": [
    {
     "name": "stdout",
     "output_type": "stream",
     "text": [
      "Number of words in text file : 3\n"
     ]
    }
   ],
   "source": [
    "file = open(\"sample.txt\")\n",
    "data = file.read()\n",
    "words = data.split()\n",
    "print('Number of words in text file :', len(words))\n",
    "file.close()"
   ]
  },
  {
   "cell_type": "markdown",
   "id": "7ffe7ecd-9b8b-44c7-ac5b-41e5c2ed59cd",
   "metadata": {},
   "source": [
    "2.a) Write a Python program to create a new text file named \"output.txt\" and write three lines of text into the file.\n"
   ]
  },
  {
   "cell_type": "code",
   "execution_count": 37,
   "id": "270467c9-f0c9-472c-9f67-dc09ed39510d",
   "metadata": {},
   "outputs": [
    {
     "name": "stdout",
     "output_type": "stream",
     "text": [
      "This is the first line of text.\n",
      "Here is the second line of text.\n",
      "Finally, the third line of text.\n",
      "\n"
     ]
    }
   ],
   "source": [
    "file1 = open('output.txt','w')\n",
    "file1.write(\"This is the first line of text.\\n\")\n",
    "file1.write(\"Here is the second line of text.\\n\")\n",
    "file1.write(\"Finally, the third line of text.\\n\")\n",
    "file1.close()\n",
    "\n",
    "file1 = open(\"output.txt\")\n",
    "data1 = file1.read()\n",
    "print(data1)\n",
    "file.close()"
   ]
  },
  {
   "cell_type": "markdown",
   "id": "ff034d03-ab61-4ef9-a5f9-05d977390da1",
   "metadata": {},
   "source": [
    "\n",
    "b) Append a new line of text to the existing \"output.txt\" file created in the previous problem.\n"
   ]
  },
  {
   "cell_type": "code",
   "execution_count": 50,
   "id": "7c6c419f-e4eb-48d9-8eb8-f0596c2c02ca",
   "metadata": {},
   "outputs": [
    {
     "name": "stdout",
     "output_type": "stream",
     "text": [
      "This is the first line of text.\n",
      "Here is the second line of text.\n",
      "Finally, the third line of text.\n",
      "This is the new line of text.\n"
     ]
    }
   ],
   "source": [
    "file1 = open('output.txt','a')\n",
    "file1.write(\"This is the new line of text.\")\n",
    "file1.close()\n",
    "\n",
    "file1 = open(\"output.txt\")\n",
    "data1 = file1.read()\n",
    "print(data1)\n",
    "file.close()"
   ]
  },
  {
   "cell_type": "markdown",
   "id": "7af53015-872a-48cb-8855-b74c2203e56e",
   "metadata": {},
   "source": [
    "3.a) Create a text file named \"numbers.txt\" with numbers 1 to 5 each on a new line. Write a Python program to open the file, read its content line by line, and print each line.\n"
   ]
  },
  {
   "cell_type": "code",
   "execution_count": 62,
   "id": "c1d37f1f-3e66-458d-92d5-95942afefab0",
   "metadata": {},
   "outputs": [
    {
     "name": "stdout",
     "output_type": "stream",
     "text": [
      "First Line is : 1\n",
      "\n",
      "Second Line is : 2\n",
      "\n",
      "Third Line is : 3\n",
      "\n",
      "Fourth Line is : 4\n",
      "\n",
      "Fifth Line is : 5\n"
     ]
    }
   ],
   "source": [
    "n = open('numbers.txt','r')\n",
    "print(\"First Line is :\",n.readline())\n",
    "print(\"Second Line is :\",n.readline())\n",
    "print(\"Third Line is :\",n.readline())\n",
    "print(\"Fourth Line is :\",n.readline())\n",
    "print(\"Fifth Line is :\",n.readline())\n",
    "n.close()"
   ]
  },
  {
   "cell_type": "markdown",
   "id": "41b83aec-8671-4434-b244-1b3cce35cc4f",
   "metadata": {},
   "source": [
    "\n",
    "b) Write a Python program to read the content of \"numbers.txt\" and create a new file named   \"numbers_copy.txt\" with the same content.\n"
   ]
  },
  {
   "cell_type": "code",
   "execution_count": 119,
   "id": "3000e2ca-817c-45bf-b52a-b45e52727121",
   "metadata": {},
   "outputs": [
    {
     "name": "stdout",
     "output_type": "stream",
     "text": [
      "Content of numbers.txt file : \n",
      "1\n",
      "2\n",
      "3\n",
      "4\n",
      "5\n",
      "Content of numbers_copy.txt file : \n",
      "1\n",
      "2\n",
      "3\n",
      "4\n",
      "5\n"
     ]
    }
   ],
   "source": [
    "f1 = open(\"numbers.txt\")\n",
    "d1 = f1.read()\n",
    "print(\"Content of numbers.txt file : \")\n",
    "print(d1)\n",
    "\n",
    "#creating file numbers_copy.txt with sam econtent as numbers.txt\n",
    "f2 = open(\"numbers_copy.txt\", \"w\")\n",
    "f2.write(d1)\n",
    "f2.close()\n",
    "\n",
    "f2 = open(\"numbers_copy.txt\")\n",
    "d2 = f2.read()\n",
    "print(\"Content of numbers_copy.txt file : \")\n",
    "print(d2)"
   ]
  },
  {
   "cell_type": "markdown",
   "id": "9dc07b19-d80f-4976-8c89-17ffcf0ea584",
   "metadata": {},
   "source": [
    "4.a)Write a Python program that opens a file named \"example.txt\" for reading, handles the FileNotFoundError if the file does not exist, and prints the content if the file exists.\n"
   ]
  },
  {
   "cell_type": "code",
   "execution_count": 123,
   "id": "78d0f75c-ceaa-4f47-b3d9-72c96939c82e",
   "metadata": {},
   "outputs": [
    {
     "name": "stdout",
     "output_type": "stream",
     "text": [
      "Error: The file 'example.txt' was not found.\n"
     ]
    }
   ],
   "source": [
    "try:\n",
    "    file = open(\"example.txt\", \"r\")\n",
    "    content = file.read()\n",
    "    print(\"File Contents:\")\n",
    "    print(content)\n",
    "except FileNotFoundError:\n",
    "    print(\"Error: The file 'example.txt' was not found.\")"
   ]
  },
  {
   "cell_type": "markdown",
   "id": "8d3dc8b0-401d-4add-85ba-bb2aecf076ca",
   "metadata": {},
   "source": [
    "b)Write a Python program that defines a list and attempts to access an element at an index that is out of range. Handle the IndexError and print an appropriate error message.\n"
   ]
  },
  {
   "cell_type": "code",
   "execution_count": 127,
   "id": "4b085453-5f29-430c-94ac-7301ac5f1776",
   "metadata": {},
   "outputs": [
    {
     "name": "stdout",
     "output_type": "stream",
     "text": [
      "Element at index 4 : 50\n",
      "Element at index 2 : 30\n",
      "Error: list index out of range\n"
     ]
    }
   ],
   "source": [
    "list = [10, 20, 30, 40, 50, 60]\n",
    "\n",
    "try:\n",
    "    print(\"Element at index 4 :\",list[4])\n",
    "    print(\"Element at index 2 :\",list[2])\n",
    "    print(\"Element at index 2 :\",list[7])\n",
    "except IndexError:\n",
    "    print(\"Error: list index out of range\")\n",
    "\n"
   ]
  },
  {
   "cell_type": "markdown",
   "id": "36c96d1e-66ec-48d5-80d5-eb81b5a68b19",
   "metadata": {},
   "source": [
    "5.Write a Python program that defines a custom exception called NegativeValueError. The program should take an integer input from the user and raise a NegativeValueError if the input is negative.\n"
   ]
  },
  {
   "cell_type": "code",
   "execution_count": 133,
   "id": "deab3b0f-cc02-4d1f-a608-2ce0abbdbce8",
   "metadata": {},
   "outputs": [
    {
     "name": "stdin",
     "output_type": "stream",
     "text": [
      "Enter a number:  -5\n"
     ]
    },
    {
     "name": "stdout",
     "output_type": "stream",
     "text": [
      "Exception occurred: NegativeValueError\n"
     ]
    }
   ],
   "source": [
    "class NegativeValueError(Exception):\n",
    "    \"Raised when the input value Negative\"\n",
    "    pass\n",
    "\n",
    "try:\n",
    "    input_num = int(input(\"Enter a number: \"))\n",
    "    if input_num < 0:\n",
    "        raise NegativeValueError\n",
    "    else:\n",
    "        print(\"Number is positive\")\n",
    "        \n",
    "except NegativeValueError:\n",
    "    print(\"Exception occurred: NegativeValueError\")"
   ]
  },
  {
   "cell_type": "markdown",
   "id": "7aaf0324-1fd8-4889-8efd-75b793b1aa20",
   "metadata": {},
   "source": [
    "6.a)Write a Python program that takes user input to perform a mathematical operation. Handle ValueError if the input cannot be converted to a number and handle ZeroDivisionError if the user attempts to divide by zero."
   ]
  },
  {
   "cell_type": "code",
   "execution_count": 143,
   "id": "5c734510-685e-4ce8-9525-94ce94461664",
   "metadata": {},
   "outputs": [
    {
     "name": "stdin",
     "output_type": "stream",
     "text": [
      "Enter the first number:  25\n",
      "Enter the second number:  0\n",
      "Choose an operation (+, -, *, /):  /\n"
     ]
    },
    {
     "name": "stdout",
     "output_type": "stream",
     "text": [
      "ZeroDivisionError : Division by zero is not allowed.\n"
     ]
    }
   ],
   "source": [
    "def calculator():\n",
    "    try:\n",
    "        num1 = float(input(\"Enter the first number: \"))\n",
    "        num2 = float(input(\"Enter the second number: \"))\n",
    "        operation = input(\"Choose an operation (+, -, *, /): \")\n",
    "\n",
    "        if operation == '+':\n",
    "            result = num1 + num2\n",
    "        elif operation == '-':\n",
    "            result = num1 - num2\n",
    "        elif operation == '*':\n",
    "            result = num1 * num2\n",
    "        elif operation == '/':\n",
    "            if num2 == 0:\n",
    "                raise ZeroDivisionError(\"ZeroDivisionError : Division by zero is not allowed.\")\n",
    "            result = num1 / num2\n",
    "        else:\n",
    "            print(\"Invalid operation! Please choose from +, -, *, or /.\")\n",
    "            return\n",
    "\n",
    "        print(f\"The result is: {result}\")\n",
    "\n",
    "    except ValueError:\n",
    "        print(\"ValueError : Invalid input! Please enter numerical values.\")\n",
    "    except ZeroDivisionError as e:\n",
    "        print(e)\n",
    "\n",
    "calculator()"
   ]
  },
  {
   "cell_type": "markdown",
   "id": "9da76a23-591d-4e48-8797-84a485764732",
   "metadata": {},
   "source": [
    "b)Write a Python program that takes a string as input and prints its length. Handle the TypeError exception if the user enters a non-string value."
   ]
  },
  {
   "cell_type": "code",
   "execution_count": 155,
   "id": "8784b571-6fcd-42c4-95f4-735a392d15a7",
   "metadata": {},
   "outputs": [
    {
     "name": "stdin",
     "output_type": "stream",
     "text": [
      "Please enter a string:  ...........................\n"
     ]
    },
    {
     "name": "stdout",
     "output_type": "stream",
     "text": [
      "The length of the input string is: 27\n"
     ]
    }
   ],
   "source": [
    "def main():\n",
    "    try:\n",
    "        user_input = input(\"Please enter a string: \")\n",
    "\n",
    "        if not type(user_input)!= str):\n",
    "            raise TypeError(\"Input is not a string!\")\n",
    "\n",
    "        print(f\"The length of the input string is: {len(user_input)}\")\n",
    "    \n",
    "    except TypeError as e:\n",
    "        print(f\"Error: {e}\")\n",
    "\n",
    "main()"
   ]
  },
  {
   "cell_type": "code",
   "execution_count": null,
   "id": "f62d2458-cb28-46e6-bea4-e2c9a736f587",
   "metadata": {},
   "outputs": [],
   "source": []
  }
 ],
 "metadata": {
  "kernelspec": {
   "display_name": "Python [conda env:base] *",
   "language": "python",
   "name": "conda-base-py"
  },
  "language_info": {
   "codemirror_mode": {
    "name": "ipython",
    "version": 3
   },
   "file_extension": ".py",
   "mimetype": "text/x-python",
   "name": "python",
   "nbconvert_exporter": "python",
   "pygments_lexer": "ipython3",
   "version": "3.12.7"
  }
 },
 "nbformat": 4,
 "nbformat_minor": 5
}
