{
 "cells": [
  {
   "cell_type": "markdown",
   "id": "b087758f-8044-4782-8f74-7f34fb19abde",
   "metadata": {},
   "source": [
    "1.A company decided to give a bonus of 5% of their salary to employees if his/her years of service is more than 5 years.\n",
    "\n",
    "Ask the user for their salary and years of service and print the net amount of that person.\n"
   ]
  },
  {
   "cell_type": "code",
   "execution_count": 17,
   "id": "0149a3c8-c9ce-4796-9bf1-7c3007163571",
   "metadata": {},
   "outputs": [
    {
     "name": "stdin",
     "output_type": "stream",
     "text": [
      "Enter salary of employee : 75000\n",
      "Enter number of years of service : 7\n"
     ]
    },
    {
     "name": "stdout",
     "output_type": "stream",
     "text": [
      "Employee is eligible for Bonus, Net salary : 78750.0\n"
     ]
    }
   ],
   "source": [
    "salary = float(input(\"Enter salary of employee :\"))\n",
    "service = int(input(\"Enter number of years of service :\"))\n",
    "\n",
    "\n",
    "if service > 5 :\n",
    "    salary = salary + 0.05*salary\n",
    "    print(\"Employee is eligible for Bonus, Net salary :\",salary)\n",
    "else :\n",
    "    print(\"Employee is not eligible for Bonus, Net salary of employee :\",salary)\n",
    "    "
   ]
  },
  {
   "cell_type": "markdown",
   "id": "7a25d350-79a3-480a-b0a5-293e18b7b733",
   "metadata": {},
   "source": [
    "2.A school has following rules for grading system:\n",
    "\n",
    "a. Below 25 - F grade\n",
    "\n",
    "b. 25 to 45 - E\n",
    "\n",
    "c. 45 to 50 - D\n",
    "\n",
    "d. 50 to 60 - C\n",
    "\n",
    "e. 60 to 80 - B\n",
    "\n",
    "f. Above 80 - A\n",
    "\n",
    "\n",
    "Ask the user to enter marks and print the corresponding grade.\n"
   ]
  },
  {
   "cell_type": "code",
   "execution_count": 28,
   "id": "10264da1-46ac-4215-9439-2572a1785250",
   "metadata": {},
   "outputs": [
    {
     "name": "stdin",
     "output_type": "stream",
     "text": [
      "Enter marks of a student : 67\n"
     ]
    },
    {
     "name": "stdout",
     "output_type": "stream",
     "text": [
      "Grade : B\n"
     ]
    }
   ],
   "source": [
    "marks = int(input(\"Enter marks of a student :\"))\n",
    "\n",
    "if marks < 25 :\n",
    "    print(\"Grade : F\")\n",
    "elif 25 < marks < 45:\n",
    "    print(\"Grade : E\")\n",
    "elif 45 < marks < 50:\n",
    "    print(\"Grade : D\")\n",
    "elif 50 < marks < 60:\n",
    "    print(\"Grade : C\")\n",
    "elif 60 < marks < 80:\n",
    "    print(\"Grade : B\")\n",
    "else:\n",
    "    print(\"Grade : A\")    "
   ]
  },
  {
   "cell_type": "markdown",
   "id": "defcb786-53f2-4a80-9b08-4dd45383fc88",
   "metadata": {},
   "source": [
    "3.Create a program that asks the user for their age and nationality. Depending on their age and nationality, \n",
    "display a different message using nested if statements. \n",
    "For example, if they are under 18 and from the USA, display \"You are a minor from the USA.\"\n"
   ]
  },
  {
   "cell_type": "code",
   "execution_count": 46,
   "id": "8202d6d0-566a-498c-8825-ac6d7db64394",
   "metadata": {},
   "outputs": [
    {
     "name": "stdin",
     "output_type": "stream",
     "text": [
      "Enter age : 56\n",
      "Enter nationality : india\n"
     ]
    },
    {
     "name": "stdout",
     "output_type": "stream",
     "text": [
      "You are an adult from the INDIA.\n"
     ]
    }
   ],
   "source": [
    "age = int(input(\"Enter age :\"))\n",
    "nationality = input(\"Enter nationality :\")\n",
    "nationality = nationality.upper()\n",
    "if 1 < age < 18:\n",
    "    if nationality == \"USA\":\n",
    "        print(\"You are a minor from the USA.\")\n",
    "    elif nationality == \"INDIA\":\n",
    "        print(\"You are a minor from the INDIA.\")\n",
    "elif 18 <= age <= 120 :\n",
    "    if nationality == \"USA\":\n",
    "        print(\"You are an adult from the USA.\")\n",
    "    elif nationality == \"INDIA\":\n",
    "        print(\"You are an adult from the INDIA.\")\n",
    "else :\n",
    "     print(\"Please enter valid age\")\n"
   ]
  },
  {
   "cell_type": "code",
   "execution_count": 72,
   "id": "dfbe83be-1b8f-4908-82e3-7937ba14f6ce",
   "metadata": {},
   "outputs": [],
   "source": [
    "#4.Using following list of cities per country,\n",
    "\n",
    "india = [\"mumbai\", \"banglore\", \"chennai\", \"delhi\"]\n",
    "\n",
    "pakistan = [\"lahore\",\"karachi\",\"islamabad\"]\n",
    "\n",
    "bangladesh = [\"dhaka\", \"khulna\", \"rangpur\"]\n"
   ]
  },
  {
   "cell_type": "markdown",
   "id": "d72257d2-06b3-49f1-90b5-3bf1ab10acc4",
   "metadata": {},
   "source": [
    "5.Write a program that asks user to enter a city name and it should tell which country the city belongs to\n"
   ]
  },
  {
   "cell_type": "code",
   "execution_count": 66,
   "id": "5e4dfd03-19bb-4a38-8663-b4a61fc7af9f",
   "metadata": {},
   "outputs": [
    {
     "name": "stdin",
     "output_type": "stream",
     "text": [
      "Enter a city name :  Delhi\n"
     ]
    },
    {
     "name": "stdout",
     "output_type": "stream",
     "text": [
      "delhi belongs to india\n"
     ]
    }
   ],
   "source": [
    "city = input(\"Enter a city name : \")\n",
    "city = city.lower()\n",
    "if city in india :\n",
    "    print(f\"{city} belongs to india\")\n",
    "elif city in pakistan :\n",
    "     print(f\"{city} belongs to pakistan\")\n",
    "elif city in bangladesh :\n",
    "     print(f\"{city} belongs to bangladesh\")\n",
    "else :\n",
    "     print(\"Sorry, we are unable to find\")"
   ]
  },
  {
   "cell_type": "markdown",
   "id": "739459d5-5e89-4845-8d49-8a1a4631c6a3",
   "metadata": {},
   "source": [
    "6.Write a program that asks the user to enter two cities and it tells you if they both are in the same country or not. For example if I enter mumbai and chennai, it will print \"Both cities are in India\" , but if I enter mumbai and dhaka it should print \"They don't belong to the same country\".\n"
   ]
  },
  {
   "cell_type": "code",
   "execution_count": 86,
   "id": "669099e6-c2d7-4677-a1f6-a07c6194b5dc",
   "metadata": {},
   "outputs": [
    {
     "name": "stdin",
     "output_type": "stream",
     "text": [
      "Enter first city name :  mumbai\n",
      "Enter second city name :  delhi\n"
     ]
    },
    {
     "name": "stdout",
     "output_type": "stream",
     "text": [
      "Both cities are in India\n"
     ]
    }
   ],
   "source": [
    "city1 = input(\"Enter first city name : \")\n",
    "city1 = city1.lower()\n",
    "\n",
    "city2 = input(\"Enter second city name : \")\n",
    "city2 = city2.lower()\n",
    "\n",
    "if (city1 in india and city2 in india):\n",
    "     print(\"Both cities are in India\")\n",
    "elif (city1 in pakistan and city2 in pakistan):\n",
    "     print(\"Both cities are in pakistan\")\n",
    "elif (city1 in bangladesh and city2 in bangladesh):\n",
    "     print(\"Both cities are in bangladesh\")\n",
    "else :\n",
    "    print(\"Cities don't belong to the same country\")"
   ]
  },
  {
   "cell_type": "markdown",
   "id": "575e30cb-8bb1-4c84-8f38-8d2be81c66e9",
   "metadata": {},
   "source": [
    "7.Write a program which will accept a word and a number from the user. Check if the word starts with a vowel and the number is even and write appropriate conditions accordingly (Case sensitivity should not matter).\n",
    "\n",
    "Example :\n",
    "\n",
    "Innoamtics, 6 --- both the conditions are satisfied\n",
    "\n",
    "innomatics, 5--- at least one condition is satisfied\n",
    "\n",
    "Ramya, 6--- at least one condition is satisfied\n"
   ]
  },
  {
   "cell_type": "code",
   "execution_count": null,
   "id": "433cf1ee-d7d0-4b6d-a6e5-a6f5163fd3c9",
   "metadata": {},
   "outputs": [],
   "source": [
    "word = input(\"Enter a word :\")\n",
    "number = int(input(\"Enter a number :\"))\n",
    "\n",
    "word = word.lower()\n",
    "\n",
    "cond1 = word[0] in 'aeiou'\n",
    "cond2 = number%2==0\n",
    "\n",
    "if cond1 and cond2:\n",
    "    print(\"Both the conditions are satisfied\")\n",
    "elif cond1 or cond2:\n",
    "    print(\"At least one condition is satisfied\")\n",
    "else:\n",
    "    print(\"None of the condition is satisfied\")"
   ]
  },
  {
   "cell_type": "code",
   "execution_count": null,
   "id": "825403c2-265c-4fde-857b-383216a7e531",
   "metadata": {},
   "outputs": [],
   "source": []
  }
 ],
 "metadata": {
  "kernelspec": {
   "display_name": "Python [conda env:base] *",
   "language": "python",
   "name": "conda-base-py"
  },
  "language_info": {
   "codemirror_mode": {
    "name": "ipython",
    "version": 3
   },
   "file_extension": ".py",
   "mimetype": "text/x-python",
   "name": "python",
   "nbconvert_exporter": "python",
   "pygments_lexer": "ipython3",
   "version": "3.12.7"
  }
 },
 "nbformat": 4,
 "nbformat_minor": 5
}
