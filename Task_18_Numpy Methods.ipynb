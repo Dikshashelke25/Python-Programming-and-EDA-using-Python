{
 "cells": [
  {
   "cell_type": "markdown",
   "id": "7cbbd1f3-11f8-4ff3-89b6-308be8507ada",
   "metadata": {},
   "source": [
    "### Task 18 - Numpy Methods:\n"
   ]
  },
  {
   "cell_type": "code",
   "execution_count": 12,
   "id": "717812f0-ad62-4600-81b1-4378df8b78f7",
   "metadata": {},
   "outputs": [],
   "source": [
    "import numpy as np"
   ]
  },
  {
   "cell_type": "markdown",
   "id": "50a964c5-fa6e-4f81-985f-96d449ebdb36",
   "metadata": {},
   "source": [
    "#### 1.Create a 1D NumPy array with values from 1 to 10. Access the elements at indices 2, 5, and 7\n"
   ]
  },
  {
   "cell_type": "code",
   "execution_count": 18,
   "id": "287aefdd-5d79-47de-83e3-449106c0173c",
   "metadata": {},
   "outputs": [
    {
     "name": "stdout",
     "output_type": "stream",
     "text": [
      "[ 1  2  3  4  5  6  7  8  9 10]\n"
     ]
    },
    {
     "data": {
      "text/plain": [
       "array([3, 6, 8])"
      ]
     },
     "execution_count": 18,
     "metadata": {},
     "output_type": "execute_result"
    }
   ],
   "source": [
    "arr1 = np.arange(1,11)\n",
    "print(arr1)\n",
    "arr1[[2,5,7]]"
   ]
  },
  {
   "cell_type": "markdown",
   "id": "4cd003d3-cd29-42da-9369-7f24c98fd726",
   "metadata": {},
   "source": [
    "#### a)Given an array `arr = np.array([10, 20, 30, 40, 50, 60, 70])`, extract a slice that contains the elements from index 2 to 5.\n"
   ]
  },
  {
   "cell_type": "code",
   "execution_count": 20,
   "id": "02132bc6-ce04-40cb-afe7-d2225a353c0e",
   "metadata": {},
   "outputs": [
    {
     "data": {
      "text/plain": [
       "array([30, 40, 50, 60])"
      ]
     },
     "execution_count": 20,
     "metadata": {},
     "output_type": "execute_result"
    }
   ],
   "source": [
    "arr = np.array([10, 20, 30, 40, 50, 60, 70])\n",
    "arr[2:6]"
   ]
  },
  {
   "cell_type": "markdown",
   "id": "027e89eb-8818-4b48-889c-3e0ddb568647",
   "metadata": {},
   "source": [
    "#### b)Create an array of 10 random integers between 1 and 20. Extract all elements greater than 10./z\n"
   ]
  },
  {
   "cell_type": "code",
   "execution_count": 50,
   "id": "9ed6b8dc-1da0-41e9-a283-15cbd48336f2",
   "metadata": {},
   "outputs": [
    {
     "name": "stdout",
     "output_type": "stream",
     "text": [
      "Array :  [12 15 16  6 10  1  3  7 15  5]\n",
      "Elements greater than 10 :  [12 15 16 15]\n"
     ]
    }
   ],
   "source": [
    "arr = np.random.randint(1,20, size =10)\n",
    "print(\"Array : \",arr)\n",
    "filtered_arr = arr[arr > 10]\n",
    "print(\"Elements greater than 10 : \",filtered_arr)"
   ]
  },
  {
   "cell_type": "markdown",
   "id": "41e5a8c2-9835-48ea-b56f-920544222c8d",
   "metadata": {},
   "source": [
    "#### 2.Create a NumPy array of size 6.  \n"
   ]
  },
  {
   "cell_type": "code",
   "execution_count": 67,
   "id": "d9080af7-0c90-4a85-b547-0a11f26f0908",
   "metadata": {},
   "outputs": [
    {
     "data": {
      "text/plain": [
       "array([10, 20, 30, 40, 50, 60])"
      ]
     },
     "execution_count": 67,
     "metadata": {},
     "output_type": "execute_result"
    }
   ],
   "source": [
    "arr2 = np.array([10,20,30,40,50,60])\n",
    "arr2"
   ]
  },
  {
   "cell_type": "markdown",
   "id": "d61cdfcd-d759-49b3-85c8-a51feaf3b019",
   "metadata": {},
   "source": [
    "#### a)Replace the second element with 99.\n"
   ]
  },
  {
   "cell_type": "code",
   "execution_count": 69,
   "id": "fddaa1f6-6057-4632-939d-e72110c1ca2c",
   "metadata": {},
   "outputs": [
    {
     "data": {
      "text/plain": [
       "array([10, 99, 30, 40, 50, 60])"
      ]
     },
     "execution_count": 69,
     "metadata": {},
     "output_type": "execute_result"
    }
   ],
   "source": [
    "arr2[1] = 99\n",
    "arr2"
   ]
  },
  {
   "cell_type": "markdown",
   "id": "6b66bdd8-79c3-4d54-997d-a004883f1a6b",
   "metadata": {},
   "source": [
    "#### b)Update a slice of elements from index 2 to 4 with 0.  \n"
   ]
  },
  {
   "cell_type": "code",
   "execution_count": 73,
   "id": "77544fd5-5bc7-4f27-9d30-435930c6ee38",
   "metadata": {},
   "outputs": [
    {
     "data": {
      "text/plain": [
       "array([10, 99,  0,  0,  0, 60])"
      ]
     },
     "execution_count": 73,
     "metadata": {},
     "output_type": "execute_result"
    }
   ],
   "source": [
    "arr2[2:5]=0\n",
    "arr2"
   ]
  },
  {
   "cell_type": "markdown",
   "id": "60703052-2016-43cb-96b0-baf3b71ef03d",
   "metadata": {},
   "source": [
    "#### c)Set the last three elements to 10.  \n"
   ]
  },
  {
   "cell_type": "code",
   "execution_count": 75,
   "id": "13f8bb39-f78b-4e92-a0a4-71e9b93f4d5b",
   "metadata": {},
   "outputs": [
    {
     "data": {
      "text/plain": [
       "array([10, 99,  0, 10, 10, 10])"
      ]
     },
     "execution_count": 75,
     "metadata": {},
     "output_type": "execute_result"
    }
   ],
   "source": [
    "arr2[-3:]=10\n",
    "arr2"
   ]
  },
  {
   "cell_type": "markdown",
   "id": "68c2f667-9b6f-44ff-9435-fdf327fc783a",
   "metadata": {},
   "source": [
    "#### 3.Updating a 2D Array  \n"
   ]
  },
  {
   "cell_type": "markdown",
   "id": "d4226caa-eebf-41f3-a372-30f12c360d8e",
   "metadata": {},
   "source": [
    "#### a)Create a 3x3 NumPy array with values from 1 to 9  .\n"
   ]
  },
  {
   "cell_type": "code",
   "execution_count": 86,
   "id": "68c57ad5-a525-40c8-ad8b-afb07509e49b",
   "metadata": {},
   "outputs": [
    {
     "data": {
      "text/plain": [
       "array([[1, 2, 3],\n",
       "       [4, 5, 6],\n",
       "       [7, 8, 9]])"
      ]
     },
     "execution_count": 86,
     "metadata": {},
     "output_type": "execute_result"
    }
   ],
   "source": [
    "arr1 = np.arange(1,10).reshape(3,3)\n",
    "arr1"
   ]
  },
  {
   "cell_type": "markdown",
   "id": "992755ad-0734-41a0-90eb-4fb49725f090",
   "metadata": {},
   "source": [
    "#### b)Replace the second row with all 5s.  \n"
   ]
  },
  {
   "cell_type": "code",
   "execution_count": 92,
   "id": "ad16d25b-de15-4eb7-9639-534ad6c10b17",
   "metadata": {},
   "outputs": [
    {
     "data": {
      "text/plain": [
       "array([[1, 2, 3],\n",
       "       [5, 5, 5],\n",
       "       [7, 8, 9]])"
      ]
     },
     "execution_count": 92,
     "metadata": {},
     "output_type": "execute_result"
    }
   ],
   "source": [
    "arr1[1] = 5\n",
    "arr1"
   ]
  },
  {
   "cell_type": "markdown",
   "id": "2067ea0d-607e-4146-905e-ce6559a2d81d",
   "metadata": {},
   "source": [
    "#### c)Update the third column with values [8, 9, 10].\n"
   ]
  },
  {
   "cell_type": "code",
   "execution_count": 98,
   "id": "505b02b0-744a-4f10-8bd0-6b7fb8f5a969",
   "metadata": {},
   "outputs": [
    {
     "data": {
      "text/plain": [
       "array([[ 1,  2,  8],\n",
       "       [ 5,  5,  9],\n",
       "       [ 7,  8, 10]])"
      ]
     },
     "execution_count": 98,
     "metadata": {},
     "output_type": "execute_result"
    }
   ],
   "source": [
    "arr1[:,2] = [8, 9, 10]\n",
    "arr1"
   ]
  },
  {
   "cell_type": "markdown",
   "id": "cee42c50-2eeb-4821-b837-62aef03407fb",
   "metadata": {},
   "source": [
    "#### 4.Using a Condition to Modify Elements:  \n"
   ]
  },
  {
   "cell_type": "markdown",
   "id": "8592799c-f2ac-48a6-96ea-ec74289fdf36",
   "metadata": {},
   "source": [
    "#### a)Create a NumPy array with random numbers from 1 to 20.  \n"
   ]
  },
  {
   "cell_type": "code",
   "execution_count": 114,
   "id": "0d46c89f-05d0-4c8e-8b92-64f6e1ff7cda",
   "metadata": {},
   "outputs": [
    {
     "data": {
      "text/plain": [
       "array([[18, 19, 10,  2],\n",
       "       [12, 11, 14,  7],\n",
       "       [ 9,  9, 11, 18],\n",
       "       [18, 12, 17,  4],\n",
       "       [17,  9, 18, 16]])"
      ]
     },
     "execution_count": 114,
     "metadata": {},
     "output_type": "execute_result"
    }
   ],
   "source": [
    "array = np.random.randint(1,20, size=(5,4))\n",
    "array"
   ]
  },
  {
   "cell_type": "markdown",
   "id": "3ada32cf-160b-4b04-a83f-52f5e74f30cf",
   "metadata": {},
   "source": [
    "#### b)Set all values greater than 10 to zero.  \n"
   ]
  },
  {
   "cell_type": "code",
   "execution_count": 118,
   "id": "3a4d62a9-466c-4f1d-9405-aa7ebc131e16",
   "metadata": {},
   "outputs": [
    {
     "data": {
      "text/plain": [
       "array([[ 0,  0, 10,  2],\n",
       "       [ 0,  0,  0,  7],\n",
       "       [ 9,  9,  0,  0],\n",
       "       [ 0,  0,  0,  4],\n",
       "       [ 0,  9,  0,  0]])"
      ]
     },
     "execution_count": 118,
     "metadata": {},
     "output_type": "execute_result"
    }
   ],
   "source": [
    "np.where(array > 10,0,array)"
   ]
  },
  {
   "cell_type": "markdown",
   "id": "727de0bf-415f-49ab-a92d-2df2171edb19",
   "metadata": {},
   "source": [
    "#### 5.Create an array [10, 20, 30, 40] and insert 25 at index 2.  \n"
   ]
  },
  {
   "cell_type": "code",
   "execution_count": 126,
   "id": "fae26a92-0075-4472-a80c-69a2ba5c47ff",
   "metadata": {},
   "outputs": [
    {
     "name": "stdout",
     "output_type": "stream",
     "text": [
      "Original array :  [10 20 30 40]\n",
      "Updated array :  [10 20 25 40]\n"
     ]
    }
   ],
   "source": [
    "array = np.array([10, 20, 30, 40])\n",
    "print(\"Original array : \",array)\n",
    "array[2]=25\n",
    "print(\"Updated array : \",array)"
   ]
  },
  {
   "cell_type": "markdown",
   "id": "3504f99e-01e4-4df0-9eae-c495f197724d",
   "metadata": {},
   "source": [
    "#### 6.Create an array [1, 2, 3] and append [4, 5, 6] to it. \n"
   ]
  },
  {
   "cell_type": "code",
   "execution_count": 134,
   "id": "a5b6c157-092e-46d3-ac67-4733b2ac8952",
   "metadata": {},
   "outputs": [
    {
     "name": "stdout",
     "output_type": "stream",
     "text": [
      "Original array :  [1 2 3]\n",
      "Updated array :  [1 2 3 4 5 6]\n"
     ]
    }
   ],
   "source": [
    "array =np.array([1, 2, 3])\n",
    "print(\"Original array : \",array)\n",
    "updated_array = np.append(array, [4, 5, 6])\n",
    "print(\"Updated array : \",updated_array )"
   ]
  },
  {
   "cell_type": "markdown",
   "id": "a4b3dad8-e82c-4fa9-aef1-116502e1fcca",
   "metadata": {},
   "source": [
    "#### 7.Create an array [5, 10, 15, 20, 25] and delete the third element.  \n"
   ]
  },
  {
   "cell_type": "code",
   "execution_count": 161,
   "id": "5aee3932-39bf-4d0b-b90a-274041169599",
   "metadata": {},
   "outputs": [
    {
     "name": "stdout",
     "output_type": "stream",
     "text": [
      "Original array :  [ 5 10 15 20 25]\n",
      "Updated array :  [ 5 10 20 25]\n"
     ]
    }
   ],
   "source": [
    "array = np.array([5, 10, 15, 20, 25])\n",
    "print(\"Original array : \",array)\n",
    "updated_array = np.delete(array, 2)\n",
    "print(\"Updated array : \",updated_array)"
   ]
  },
  {
   "cell_type": "markdown",
   "id": "8a3b45dd-77e5-4851-8ccf-0c6237e85181",
   "metadata": {},
   "source": [
    "#### 8.Create an array from 1 to 12 and reshape it into a 3×4 matrix.  \n"
   ]
  },
  {
   "cell_type": "code",
   "execution_count": 151,
   "id": "cdd2e4b7-981f-4d27-bfb9-3b50fc419e57",
   "metadata": {},
   "outputs": [
    {
     "data": {
      "text/plain": [
       "array([[ 1,  2,  3,  4],\n",
       "       [ 5,  6,  7,  8],\n",
       "       [ 9, 10, 11, 12]])"
      ]
     },
     "execution_count": 151,
     "metadata": {},
     "output_type": "execute_result"
    }
   ],
   "source": [
    "array = np.arange(1,13).reshape(3,4)\n",
    "array"
   ]
  },
  {
   "cell_type": "markdown",
   "id": "b00ac8a8-120e-451a-bc52-5e495fb37558",
   "metadata": {},
   "source": [
    "#### 9.Create a 2D array and flatten it using np.ravel() and .flatten().  \n"
   ]
  },
  {
   "cell_type": "code",
   "execution_count": 153,
   "id": "d125ee44-597c-4227-b958-f2e9adccb269",
   "metadata": {},
   "outputs": [
    {
     "name": "stdout",
     "output_type": "stream",
     "text": [
      "Original 2D Array:\n",
      "[[1 2 3]\n",
      " [4 5 6]]\n",
      "\n",
      "Flattened using np.ravel():\n",
      "[1 2 3 4 5 6]\n",
      "\n",
      "Flattened using .flatten():\n",
      "[1 2 3 4 5 6]\n"
     ]
    }
   ],
   "source": [
    "array_2d = np.array([[1, 2, 3], [4, 5, 6]])\n",
    "\n",
    "flattened_ravel = np.ravel(array_2d)\n",
    "\n",
    "flattened_flatten = array_2d.flatten()\n",
    "\n",
    "print(\"Original 2D Array:\")\n",
    "print(array_2d)\n",
    "print(\"\\nFlattened using np.ravel():\")\n",
    "print(flattened_ravel)\n",
    "print(\"\\nFlattened using .flatten():\")\n",
    "print(flattened_flatten)"
   ]
  },
  {
   "cell_type": "markdown",
   "id": "bb2c0709-0124-4407-b322-3260532431b7",
   "metadata": {},
   "source": [
    "#### 10.Create a 3×3 matrix and find its transpose using np.transpose().\n"
   ]
  },
  {
   "cell_type": "code",
   "execution_count": 171,
   "id": "8f77d13b-54cc-4451-b918-7c9fe2b0c8d0",
   "metadata": {},
   "outputs": [
    {
     "name": "stdout",
     "output_type": "stream",
     "text": [
      "Original array :\n",
      "[[10 20 30]\n",
      " [40 50 60]\n",
      " [70 80 90]]\n",
      "Updated array : \n",
      "[[10 40 70]\n",
      " [20 50 80]\n",
      " [30 60 90]]\n"
     ]
    }
   ],
   "source": [
    "array = np.array([10,20,30,40,50,60,70,80,90]).reshape(3,3)\n",
    "print(\"Original array :\")\n",
    "print(array)\n",
    "\n",
    "transposed_array = np.transpose(array)\n",
    "print(\"Updated array : \")\n",
    "print(transposed_array)"
   ]
  },
  {
   "cell_type": "markdown",
   "id": "7937a7e2-8ecb-4106-a278-df260c788925",
   "metadata": {},
   "source": [
    "#### 11.Create two arrays:  \n"
   ]
  },
  {
   "cell_type": "markdown",
   "id": "ed35e6c3-e623-4828-a45e-143f6a916615",
   "metadata": {},
   "source": [
    "#### a)A = np.array([2, 4, 6]), B = np.array([1, 2, 3]).  \n"
   ]
  },
  {
   "cell_type": "code",
   "execution_count": 175,
   "id": "ee162c46-2d3f-4850-8026-eb614f384a89",
   "metadata": {},
   "outputs": [
    {
     "name": "stdout",
     "output_type": "stream",
     "text": [
      "Array A:\n",
      "[2 4 6]\n",
      "Array B:\n",
      "[1 2 3]\n"
     ]
    }
   ],
   "source": [
    "A = np.array([2, 4, 6])\n",
    "B = np.array([1, 2, 3])\n",
    "\n",
    "print(\"Array A:\")\n",
    "print(A)\n",
    "\n",
    "print(\"Array B:\")\n",
    "print(B)"
   ]
  },
  {
   "cell_type": "markdown",
   "id": "dfe9753c-b2ab-46f4-9bd4-f826e4651342",
   "metadata": {},
   "source": [
    "#### b)Perform element-wise addition, subtraction, multiplication, and division.  \n"
   ]
  },
  {
   "cell_type": "code",
   "execution_count": 181,
   "id": "18310833-ba6e-4727-a331-285dcc2397c8",
   "metadata": {},
   "outputs": [
    {
     "name": "stdout",
     "output_type": "stream",
     "text": [
      "Addition : \n",
      " [3 6 9] \n",
      "\n",
      "Subtraction : \n",
      " [1 2 3] \n",
      "\n",
      "multiplication : \n",
      " [ 2  8 18] \n",
      "\n",
      "division : \n",
      " [2. 2. 2.] \n",
      "\n"
     ]
    }
   ],
   "source": [
    "addition = A + B\n",
    "print(\"Addition : \\n\", addition, \"\\n\")\n",
    "\n",
    "Subtraction = A - B\n",
    "print(\"Subtraction : \\n\", Subtraction, \"\\n\")\n",
    "\n",
    "multiplication = A * B\n",
    "print(\"multiplication : \\n\", multiplication, \"\\n\")\n",
    "\n",
    "division = A / B\n",
    "print(\"division : \\n\", division, \"\\n\")"
   ]
  },
  {
   "cell_type": "markdown",
   "id": "1fefcd63-061f-4dc7-80d6-24e5faec7362",
   "metadata": {},
   "source": [
    "#### 12.Create two 2×2 matrices and compute their dot product using np.dot() and @ operator.  \n"
   ]
  },
  {
   "cell_type": "code",
   "execution_count": 197,
   "id": "a76fe81c-df53-4d6e-a3aa-2dfb0825c9a3",
   "metadata": {},
   "outputs": [
    {
     "name": "stdout",
     "output_type": "stream",
     "text": [
      "arr1 : \n",
      "[[1 3]\n",
      " [7 4]]\n",
      "arr2 : \n",
      "[[10 17]\n",
      " [12 16]]\n",
      "dot product of arrays : \n",
      "[[ 46  65]\n",
      " [118 183]]\n",
      "dot product of arrays : \n",
      "[[ 46  65]\n",
      " [118 183]]\n"
     ]
    }
   ],
   "source": [
    "arr1 = np.random.randint(1,10, size =(2,2))\n",
    "print(\"arr1 : \")\n",
    "print(arr1)\n",
    "\n",
    "arr2 = np.random.randint(10,20, size =(2,2))\n",
    "print(\"arr2 : \")\n",
    "print(arr2)\n",
    "\n",
    "arr_dot = np.dot(arr1,arr2)\n",
    "print(\"dot product of arrays : \")\n",
    "print(arr_dot)\n",
    "\n",
    "arr_product = arr1 @ arr2\n",
    "print(\"dot product of arrays : \")\n",
    "print(arr_product)"
   ]
  },
  {
   "cell_type": "markdown",
   "id": "f18d0de2-6639-4245-906c-a86457cfadb9",
   "metadata": {},
   "source": [
    "#### 13.Create an array with values [4, 8, 15, 16, 23, 42].  \n"
   ]
  },
  {
   "cell_type": "code",
   "execution_count": 199,
   "id": "28936879-9590-4d6d-9a5e-6b1ea69aabb1",
   "metadata": {},
   "outputs": [
    {
     "data": {
      "text/plain": [
       "array([ 4,  8, 15, 16, 23, 42])"
      ]
     },
     "execution_count": 199,
     "metadata": {},
     "output_type": "execute_result"
    }
   ],
   "source": [
    "array = np.array([4, 8, 15, 16, 23, 42])\n",
    "array"
   ]
  },
  {
   "cell_type": "markdown",
   "id": "97f67f30-2240-45d6-ae33-c4bd1035e7ca",
   "metadata": {},
   "source": [
    "#### a)Compute sum, min, max, mean, median, variance, standard deviation, and correlation coefficient.\n",
    "\n"
   ]
  },
  {
   "cell_type": "code",
   "execution_count": 212,
   "id": "02a24ef8-f106-4e27-a977-057883d3cc45",
   "metadata": {},
   "outputs": [
    {
     "name": "stdout",
     "output_type": "stream",
     "text": [
      "Sum of array :  108\n",
      "Mean of array :  18.0\n",
      "Median of array :  15.5\n",
      "Variance of array :  151.66666666666666\n",
      "Standard deviation of array :  12.315302134607444\n",
      "Correlation coefficient of array :  1.0\n"
     ]
    }
   ],
   "source": [
    "print(\"Sum of array : \",np.sum(array))\n",
    "print(\"Mean of array : \",np.mean(array))\n",
    "print(\"Median of array : \",np.median(array))\n",
    "print(\"Variance of array : \",np.var(array))\n",
    "print(\"Standard deviation of array : \",np.std(array))\n",
    "print(\"Correlation coefficient of array : \",np.corrcoef(array))\n"
   ]
  }
 ],
 "metadata": {
  "kernelspec": {
   "display_name": "Python [conda env:base] *",
   "language": "python",
   "name": "conda-base-py"
  },
  "language_info": {
   "codemirror_mode": {
    "name": "ipython",
    "version": 3
   },
   "file_extension": ".py",
   "mimetype": "text/x-python",
   "name": "python",
   "nbconvert_exporter": "python",
   "pygments_lexer": "ipython3",
   "version": "3.12.7"
  }
 },
 "nbformat": 4,
 "nbformat_minor": 5
}
