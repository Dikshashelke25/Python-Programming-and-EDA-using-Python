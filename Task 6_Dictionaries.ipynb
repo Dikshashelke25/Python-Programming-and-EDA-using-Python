{
 "cells": [
  {
   "cell_type": "markdown",
   "id": "57c09ae0-7d1f-409f-8b78-3a2be95ec98d",
   "metadata": {},
   "source": [
    "Task 6 - Dictionaries:\n",
    "\n",
    "1. Define Dictionary, its properties.\n",
    "\n",
    "Dictionary :\n",
    "A data structure that stores data in key-value pairs. \n",
    "\n",
    "Properties :\n",
    "\n",
    "1. Keys: Keys are unique identifiers for items in a dictionary. They can be strings, numbers, or tuples. \n",
    "2. Values: Values can be any Python object. \n",
    "3. Duplicate keys: Duplicate keys are not allowed, but values can be duplicated. \n",
    "4. Heterogeneous objects: Keys and values in a dictionary can be of any data type. \n",
    "5. Case sensitivity: The same key name but with different case are treated as different keys. \n",
    "6. Mutability: Dictionaries are mutable, meaning they can be changed after they are created. \n",
    "7. Ordered: Dictionaries are ordered. "
   ]
  },
  {
   "cell_type": "code",
   "execution_count": 51,
   "id": "ddca8139-e939-43c1-8661-18530325941c",
   "metadata": {},
   "outputs": [
    {
     "name": "stdout",
     "output_type": "stream",
     "text": [
      "Dictionary vehicle :  {'Name': 'Nexon', 'brand': 'Tata', 'Electric': 'Yes', 'year': '2025', 'color': ['gray', 'black', 'white']}\n",
      "\n",
      "\n",
      "Copy of dictionary vehicle :  {'Name': 'Nexon', 'brand': 'Tata', 'Electric': 'Yes', 'year': '2025', 'color': ['gray', 'black', 'white']}\n",
      "\n",
      "\n",
      "Clearing dictionary v :  {}\n",
      "\n",
      "\n",
      "Student :  {'English': [89, 76, 98, 56, 83, 67, 45], 'Maths': [89, 76, 98, 56, 83, 67, 45], 'Biology': [89, 76, 98, 56, 83, 67, 45], 'Chemistry': [89, 76, 98, 56, 83, 67, 45], 'Physics': [89, 76, 98, 56, 83, 67, 45]}\n",
      "\n",
      "\n",
      "Result of get method :  Tata\n",
      "\n",
      "\n",
      "Result of item method :  dict_items([('Name', 'Nexon'), ('brand', 'Tata'), ('Electric', 'Yes'), ('year', '2025'), ('color', ['gray', 'black', 'white'])])\n",
      "\n",
      "\n",
      "Result of keys method :  dict_keys(['Name', 'brand', 'Electric', 'year', 'color'])\n",
      "\n",
      "\n",
      "Result of values method :  dict_values(['Nexon', 'Tata', 'Yes', '2025', ['gray', 'black', 'white']])\n",
      "\n",
      "\n",
      "Pop :  2025\n",
      "After poping year from Dictionary vehicle :  {'Name': 'Nexon', 'brand': 'Tata', 'Electric': 'Yes', 'color': ['gray', 'black', 'white']}\n",
      "\n",
      "\n",
      "vehicle :  {'Name': 'Nexon', 'brand': 'Tata', 'Electric': 'Yes', 'color': ['gray', 'black', 'white']}\n",
      "Pop :  ('color', ['gray', 'black', 'white'])\n",
      "After pop operation from Dictionary vehicle :  {'Name': 'Nexon', 'brand': 'Tata', 'Electric': 'Yes'}\n",
      "\n",
      "\n",
      "vehicle :  {'Name': 'Nexon', 'brand': 'Tata', 'Electric': 'Yes'}\n",
      "After updating Dictionary vehicle :  {'Name': 'Nexon', 'brand': 'Tata', 'Electric': 'Yes', 'Year': 2023}\n",
      "\n",
      "\n"
     ]
    }
   ],
   "source": [
    "# 2. Explore all the methods in the dictionary and write example for each method\n",
    "\n",
    "vehicle = {\"Name\" : \"Nexon\", \"brand\" : \"Tata\", \"Electric\" : \"Yes\", \"year\" : \"2025\", \"color\" : [\"gray\",\"black\",\"white\"]}\n",
    "print(\"Dictionary vehicle : \" ,vehicle)\n",
    "print(\"\\n\")\n",
    "\n",
    "#copy()\tReturns a copy of the dictionary\n",
    "v = vehicle.copy()\n",
    "print(\"Copy of dictionary vehicle : \" ,v)\n",
    "print(\"\\n\")\n",
    "\n",
    "#clear()\tRemoves all the elements from the dictionary\n",
    "v.clear()\n",
    "print(\"Clearing dictionary v : \", v)\n",
    "print(\"\\n\")\n",
    "\n",
    "#fromkeys()\tReturns a dictionary with the specified keys and value\n",
    "subject = [\"English\", \"Maths\", \"Biology\", \"Chemistry\", \"Physics\"]\n",
    "student_marks = [89, 76, 98, 56, 83, 67, 45]\n",
    "student = dict.fromkeys(subject,student_marks)\n",
    "print(\"Student : \", student) \n",
    "print(\"\\n\")\n",
    "\n",
    "#get()\tReturns the value of the specified key\n",
    "print(\"Result of get method : \", vehicle.get(\"brand\"))\n",
    "print(\"\\n\")\n",
    "\n",
    "#items()\tReturns a list containing a tuple for each key value pair\n",
    "print(\"Result of item method : \", vehicle.items())\n",
    "print(\"\\n\")\n",
    "\n",
    "#keys()\tReturns a list containing the dictionary's keys\n",
    "print(\"Result of keys method : \", vehicle.keys())\n",
    "print(\"\\n\")\n",
    "\n",
    "#values()\tReturns a list of all the values in the dictionary\n",
    "print(\"Result of values method : \", vehicle.values())\n",
    "print(\"\\n\")\n",
    "\n",
    "#pop()\tRemoves the element with the specified key\n",
    "print(\"Pop : \", vehicle.pop(\"year\"))\n",
    "print(\"After poping year from Dictionary vehicle : \", vehicle)\n",
    "print(\"\\n\")\n",
    "\n",
    "#popitem()\tRemoves the last inserted key-value pair\n",
    "print(\"vehicle : \", vehicle)\n",
    "print(\"Pop : \", vehicle.popitem())\n",
    "print(\"After pop operation from Dictionary vehicle : \", vehicle)\n",
    "print(\"\\n\")\n",
    "\n",
    "#update()\tUpdates the dictionary with the specified key-value pairs\n",
    "print(\"vehicle : \", vehicle)\n",
    "vehicle.update({\"Year\" : 2023})\n",
    "print(\"After updating Dictionary vehicle : \", vehicle)\n",
    "print(\"\\n\")\n",
    "\n"
   ]
  },
  {
   "cell_type": "code",
   "execution_count": 73,
   "id": "906f4bad-b5a9-4e4c-aeaf-53cab47a6c1b",
   "metadata": {},
   "outputs": [
    {
     "name": "stdout",
     "output_type": "stream",
     "text": [
      "Favorite Book :  {'title': 'Making India Awesome', 'author': 'Chetan Bhagat', 'pub_year': 2015, 'genre': 'literary'} \n",
      "\n",
      "genre of the book :  literary \n",
      "\n",
      "Key-Value pairs of dictionary fav_book :  dict_items([('title', 'Making India Awesome'), ('author', 'Chetan Bhagat'), ('pub_year', 2015), ('genre', 'literary')]) \n",
      "\n",
      "Keys of dictionary fav_book :  dict_keys(['title', 'author', 'pub_year', 'genre']) \n",
      "\n",
      "Values of dictionary fav_book :  dict_values(['Making India Awesome', 'Chetan Bhagat', 2015, 'literary']) \n",
      "\n",
      "Updating dict fav_book :  {'title': 'Making India Awesome', 'author': 'Chetan Bhagat', 'pub_year': 2015, 'genre': 'literary', 'Language': 'English'}\n"
     ]
    }
   ],
   "source": [
    "#3.Create a Python program that defines a dictionary to store information about your favorite book. \n",
    "#Include the title, author, publication year, and genre as key-value pairs. \n",
    "#Print out the dictionary and do at least 5 dictionary methods on it.\n",
    "\n",
    "\n",
    "fav_book = {\"title\" : \"Making India Awesome\", \"author\" : \"Chetan Bhagat\", \"pub_year\" : 2015, \"genre\" : \"literary\"}\n",
    "print(\"Favorite Book : \", fav_book, \"\\n\")\n",
    "\n",
    "print(\"genre of the book : \", fav_book.get(\"genre\"), \"\\n\")\n",
    "\n",
    "print(\"Key-Value pairs of dictionary fav_book : \", fav_book.items(), \"\\n\")\n",
    "\n",
    "print(\"Keys of dictionary fav_book : \", fav_book.keys(), \"\\n\")\n",
    "\n",
    "print(\"Values of dictionary fav_book : \", fav_book.values(), \"\\n\")\n",
    "\n",
    "fav_book.update({\"Language\" : \"English\"})\n",
    "print(\"Updating dict fav_book  : \", fav_book)"
   ]
  },
  {
   "cell_type": "code",
   "execution_count": 101,
   "id": "1fd918f7-92f7-4886-8fc8-40d4b340c8d9",
   "metadata": {},
   "outputs": [
    {
     "name": "stdin",
     "output_type": "stream",
     "text": [
      "Enter an English word to translate in Spanish :  please\n"
     ]
    },
    {
     "name": "stdout",
     "output_type": "stream",
     "text": [
      "Spanish word for please :  por favor\n"
     ]
    }
   ],
   "source": [
    "#4.Write a Python program that simulates a simple dictionary for translating English words to Spanish. \n",
    "#Define a dictionary containing a few English words as keys and their corresponding Spanish translations as values. \n",
    "#Allow users to enter an English word, and then display its Spanish translation if it exists in the dictionary.\n",
    "#(use google for English to Spanish translator)\n",
    "\n",
    "eng_spn = { \n",
    "            \"hello\" : \"Hola\",\n",
    "            \"goodbye\" : \"Adiós\",\n",
    "            \"good morning\" : \"Buenos días\" ,\n",
    "            \"good afternoon\" : \"Buenas tardes\" ,\n",
    "            \"good night\" : \"Buenas noches\",\n",
    "            \"see you soon\" : \"Hasta pronto\",\n",
    "            \"please\" : \"por favor\"  ,\n",
    "            \"thank you\" : \"gracias\",\n",
    "            \"you’re welcome\" : \"de nada\" ,\n",
    "            \"yes\" :  \"sí\" ,\n",
    "            \"no\" : \"no\"\n",
    "          }\n",
    "\n",
    "w = input(\"Enter an English word to translate in Spanish : \")\n",
    "if w in eng_spn:\n",
    "    print (\"Spanish word for {} : \".format(w), eng_spn.get(w))\n",
    "else :\n",
    "    print(\"Word does not exists in the dictionary\")"
   ]
  },
  {
   "cell_type": "code",
   "execution_count": 111,
   "id": "01370871-7662-4b82-9f23-e43950371a63",
   "metadata": {},
   "outputs": [
    {
     "name": "stdout",
     "output_type": "stream",
     "text": [
      "Average grade of the students :  85.4\n"
     ]
    }
   ],
   "source": [
    "#5.Create a Python program that stores the grades of five students in a dictionary. Calculate and display the average grade of the students.\n",
    "\n",
    "stud_data = { \n",
    "            \"Om\" : 89,\n",
    "            \"Pari\" : 80,\n",
    "            \"Mansi\" : 93 ,\n",
    "            \"Ashlesha\" : 79,\n",
    "            \"Raavee\" : 86 \n",
    "           }\n",
    "m = stud_data.values()\n",
    "total = sum(m)\n",
    "avg = total/len(stud_data)\n",
    "print(\"Average grade of the students : \", avg)"
   ]
  },
  {
   "cell_type": "code",
   "execution_count": 133,
   "id": "f5b96d7b-0c05-495b-9d95-1a474a8313b5",
   "metadata": {},
   "outputs": [
    {
     "name": "stdin",
     "output_type": "stream",
     "text": [
      "Enter name to search phone number :  MANSI\n"
     ]
    },
    {
     "name": "stdout",
     "output_type": "stream",
     "text": [
      "Phone number of Mansi :  9397546478\n"
     ]
    }
   ],
   "source": [
    "#6.Build a basic contact list using a dictionary. Users should also be able to search for contacts by name and display their phone numbers.\n",
    "\n",
    "contacts = { \n",
    "            \"Om\" : 8995758767,\n",
    "            \"Pari\" : 8097738809,\n",
    "            \"Mansi\" : 9397546478 ,\n",
    "            \"Ashlesha\" : 7996466677,\n",
    "            \"Raavee\" : 8697654443,\n",
    "            \"Vansh\" : 8923675598,\n",
    "            \"Swara\" : 8995758767,\n",
    "            \"Gita\" : 8097738809,\n",
    "            \"Jayant\" : 9397546478 ,\n",
    "            \"Chetan\" : 7996466677,\n",
    "            \"Shivam\" : 8697654443,\n",
    "            \"Tanaya\" : 8923675598    \n",
    "            }\n",
    "\n",
    "name = input(\"Enter name to search phone number : \")\n",
    "n = name.capitalize()\n",
    "if n in contacts :\n",
    "    print (\"Phone number of {} : \".format(n), contacts.get(n))\n",
    "else :\n",
    "    print(\"Contact details does not exists in contact list\")"
   ]
  },
  {
   "cell_type": "code",
   "execution_count": 147,
   "id": "d5479304-7363-4c38-b69c-2233fba7778a",
   "metadata": {},
   "outputs": [
    {
     "name": "stdout",
     "output_type": "stream",
     "text": [
      "Fruits with their colors :  {'apple': 'red', 'banana': 'yellow', 'grapes': ['black', 'green'], 'orange': 'orange', 'chiku': 'brown'}\n",
      "Updating fruits :  {'apple': 'red', 'banana': 'yellow', 'grapes': ['black', 'green'], 'orange': 'orange', 'chiku': 'brown', 'watermelon': 'red'}\n",
      "Popping fruit :  {'banana': 'yellow', 'grapes': ['black', 'green'], 'orange': 'orange', 'chiku': 'brown', 'watermelon': 'red'}\n",
      "copying fruits to f :  {'banana': 'yellow', 'grapes': ['black', 'green'], 'orange': 'orange', 'chiku': 'brown', 'watermelon': 'red'}\n",
      "Clearing f :  {}\n",
      "Colors of grapes :  ['black', 'green']\n"
     ]
    }
   ],
   "source": [
    "#7.Write a Python program that defines a dictionary containing the names of fruits as keys and their corresponding colors as \n",
    "#values (e.g., 'apple': 'red'). Do at least 5 dictionary methods on it (except the methods which are used for the 3rd question)\n",
    "\n",
    "fruits = {\"apple\" : \"red\", \"banana\" : \"yellow\", \"grapes\" : [\"black\", \"green\"], \"orange\" : \"orange\", \"chiku\" : \"brown\"}\n",
    "print(\"Fruits with their colors : \", fruits)\n",
    "\n",
    "fruits.update({\"watermelon\" : \"red\"})\n",
    "print(\"Updating fruits : \", fruits)\n",
    "\n",
    "fruits.pop(\"apple\")\n",
    "print(\"Popping fruit : \", fruits)\n",
    "\n",
    "f = fruits.copy()\n",
    "print(\"copying fruits to f : \", f)\n",
    "\n",
    "f.clear()\n",
    "print(\"Clearing f : \", f)\n",
    "\n",
    "\n",
    "print(\"Colors of grapes : \", fruits.get(\"grapes\"))\n",
    "\n"
   ]
  },
  {
   "cell_type": "code",
   "execution_count": null,
   "id": "87f4a468-ae9b-4e57-b094-e189dac3a5b9",
   "metadata": {},
   "outputs": [],
   "source": []
  }
 ],
 "metadata": {
  "kernelspec": {
   "display_name": "Python [conda env:base] *",
   "language": "python",
   "name": "conda-base-py"
  },
  "language_info": {
   "codemirror_mode": {
    "name": "ipython",
    "version": 3
   },
   "file_extension": ".py",
   "mimetype": "text/x-python",
   "name": "python",
   "nbconvert_exporter": "python",
   "pygments_lexer": "ipython3",
   "version": "3.12.7"
  }
 },
 "nbformat": 4,
 "nbformat_minor": 5
}
