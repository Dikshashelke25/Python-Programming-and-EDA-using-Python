{
 "cells": [
  {
   "cell_type": "code",
   "execution_count": 3,
   "id": "908ca58b-abb9-4c0c-b06d-35ae0ca7af9b",
   "metadata": {},
   "outputs": [
    {
     "name": "stdout",
     "output_type": "stream",
     "text": [
      "1\n",
      "2\n",
      "3\n",
      "4\n",
      "5\n",
      "6\n",
      "7\n",
      "8\n",
      "9\n",
      "10\n"
     ]
    }
   ],
   "source": [
    "#Task 8 - Loops:\n",
    "\n",
    "#1.write a program that prints the numbers from 1 to 10, each on a new line.\n",
    "\n",
    "for i in range(1,11):\n",
    "    print(i)"
   ]
  },
  {
   "cell_type": "code",
   "execution_count": 15,
   "id": "227ae1c9-8d33-4d49-992f-e09d369b524d",
   "metadata": {},
   "outputs": [
    {
     "name": "stdout",
     "output_type": "stream",
     "text": [
      "2\n",
      "4\n",
      "6\n",
      "8\n",
      "10\n",
      "12\n",
      "14\n",
      "16\n",
      "18\n",
      "20\n"
     ]
    }
   ],
   "source": [
    "#2.write a program that prints the even numbers from 1 to 20, each on a new line.\n",
    "\n",
    "for i in range(1,21):\n",
    "    if i%2==0 :\n",
    "        print(i)"
   ]
  },
  {
   "cell_type": "code",
   "execution_count": 19,
   "id": "684999b4-7aa1-4b54-967d-695aac2e17ff",
   "metadata": {},
   "outputs": [
    {
     "name": "stdout",
     "output_type": "stream",
     "text": [
      "1\n",
      "4\n",
      "9\n",
      "16\n",
      "25\n",
      "36\n",
      "49\n",
      "64\n",
      "81\n",
      "100\n",
      "121\n",
      "144\n",
      "169\n",
      "196\n",
      "225\n",
      "256\n",
      "289\n",
      "324\n",
      "361\n",
      "400\n"
     ]
    }
   ],
   "source": [
    "#3.Write a program that calculates and prints the square of each number from 1 to 20.\n",
    "\n",
    "for i in range(1,21):\n",
    "    sq = i*i\n",
    "    print(sq)"
   ]
  },
  {
   "cell_type": "code",
   "execution_count": 21,
   "id": "f03fbbbe-6e5c-4690-b976-9606a057b08a",
   "metadata": {},
   "outputs": [
    {
     "name": "stdout",
     "output_type": "stream",
     "text": [
      "3\n",
      "6\n",
      "9\n",
      "12\n",
      "15\n",
      "18\n",
      "21\n",
      "24\n",
      "27\n",
      "30\n"
     ]
    }
   ],
   "source": [
    "#4.write a program that prints the multiples of 3 from 3 to 30, each on a new line.\n",
    "\n",
    "for i in range(3,31):\n",
    "    if i%3==0 :\n",
    "        print(i)"
   ]
  },
  {
   "cell_type": "code",
   "execution_count": 25,
   "id": "80888b00-f98a-4014-9d9b-04a0815fae67",
   "metadata": {},
   "outputs": [
    {
     "name": "stdout",
     "output_type": "stream",
     "text": [
      "10\n",
      "9\n",
      "8\n",
      "7\n",
      "6\n",
      "5\n",
      "4\n",
      "3\n",
      "2\n",
      "1\n"
     ]
    }
   ],
   "source": [
    "#5.Write a program that prints the numbers from 10 to 1 in descending order, each on a new line.\n",
    "\n",
    "for i in range(10, 0, -1):\n",
    "    print(i)"
   ]
  },
  {
   "cell_type": "code",
   "execution_count": 37,
   "id": "b3ecb559-912b-41d5-90ed-02f818763c39",
   "metadata": {},
   "outputs": [
    {
     "name": "stdout",
     "output_type": "stream",
     "text": [
      "Number of vowels : 3\n"
     ]
    }
   ],
   "source": [
    "#6.Count the number of vowels in a string using a for loop.\n",
    "\n",
    "s2= \"Hello World\"\n",
    "count = 0\n",
    "\n",
    "for char in s2:\n",
    "    if char in 'aeiouAEIOU' :\n",
    "        count += 1\n",
    "print(\"Number of vowels :\", count)\n"
   ]
  },
  {
   "cell_type": "code",
   "execution_count": 45,
   "id": "90d3a53c-a376-4239-914d-66ab6debc52b",
   "metadata": {},
   "outputs": [
    {
     "name": "stdout",
     "output_type": "stream",
     "text": [
      "-10\n",
      "-9\n",
      "-8\n",
      "-7\n",
      "-6\n",
      "-5\n",
      "-4\n",
      "-3\n",
      "-2\n",
      "-1\n"
     ]
    }
   ],
   "source": [
    "#7.Display numbers from -10 to -1 using a for loop.\n",
    "\n",
    "for i in range(-10, 0):\n",
    "    print(i)"
   ]
  },
  {
   "cell_type": "code",
   "execution_count": 69,
   "id": "c878cb9d-9047-4dbf-98dd-3c1fcce25eb1",
   "metadata": {},
   "outputs": [
    {
     "name": "stdout",
     "output_type": "stream",
     "text": [
      "2\n",
      "3\n",
      "5\n",
      "7\n",
      "11\n",
      "13\n",
      "17\n",
      "19\n",
      "23\n",
      "29\n",
      "31\n",
      "37\n",
      "41\n",
      "43\n",
      "47\n"
     ]
    }
   ],
   "source": [
    "#8.Find all prime numbers between 1 and 50 using a for loop.\n",
    "\n",
    "for num in range(2, 51):\n",
    "    is_prime = True\n",
    "    for i in range(2, num):\n",
    "        if num % i == 0:\n",
    "            is_prime = False\n",
    "    else:\n",
    "          if is_prime:\n",
    "            print(num)"
   ]
  },
  {
   "cell_type": "code",
   "execution_count": 74,
   "id": "cba57b00-2420-43e9-858d-3ea213adfd91",
   "metadata": {},
   "outputs": [
    {
     "name": "stdout",
     "output_type": "stream",
     "text": [
      "I\n",
      "R\n",
      "L\n"
     ]
    }
   ],
   "source": [
    "#9.Print all uppercase letters in the string using a for loop.\n",
    "s = \"Innomatics Research Labs\"\n",
    "\n",
    "for char in s:\n",
    "    if char.isupper():\n",
    "        print(char)\n"
   ]
  },
  {
   "cell_type": "code",
   "execution_count": 11,
   "id": "74ba4cd9-ab8a-4b81-af04-dc773856eb18",
   "metadata": {},
   "outputs": [
    {
     "name": "stdout",
     "output_type": "stream",
     "text": [
      "2\n",
      "4\n",
      "6\n",
      "8\n"
     ]
    }
   ],
   "source": [
    "#10.Write a program to print the first 10 even numbers using while loop.\n",
    "\n",
    "i = 0\n",
    "while i < 10 :\n",
    "    if i%2==0 and i!=0 :\n",
    "        print(i)\n",
    "    i=i+1\n"
   ]
  },
  {
   "cell_type": "code",
   "execution_count": 13,
   "id": "bf8d152d-b2ce-49d4-82e2-912479152849",
   "metadata": {},
   "outputs": [
    {
     "name": "stdout",
     "output_type": "stream",
     "text": [
      "1\n",
      "3\n",
      "5\n",
      "7\n",
      "9\n"
     ]
    }
   ],
   "source": [
    "#11.Write a program to print the first 10 odd numbers using while loop.\n",
    "\n",
    "i = 0\n",
    "while i < 10 :\n",
    "    if i%2!=0 and i!=0 :\n",
    "        print(i)\n",
    "    i=i+1\n"
   ]
  },
  {
   "cell_type": "code",
   "execution_count": 5,
   "id": "b889e0b1-f622-4c04-ab4e-e0b11add5cee",
   "metadata": {},
   "outputs": [
    {
     "name": "stdout",
     "output_type": "stream",
     "text": [
      "1\n",
      "2\n",
      "3\n",
      "4\n",
      "5\n",
      "6\n",
      "7\n",
      "8\n",
      "9\n",
      "10\n"
     ]
    }
   ],
   "source": [
    "#12.Write a program to print the first 10 natural numbers using while loop.\n",
    "\n",
    "i = 1\n",
    "while i <= 10 :\n",
    "    print(i)\n",
    "    i=i+1\n"
   ]
  },
  {
   "cell_type": "code",
   "execution_count": 7,
   "id": "9e47f3df-960c-408c-88d3-bf4cf24e5920",
   "metadata": {},
   "outputs": [
    {
     "name": "stdout",
     "output_type": "stream",
     "text": [
      "0\n",
      "1\n",
      "2\n",
      "3\n",
      "4\n",
      "5\n",
      "6\n",
      "7\n",
      "8\n",
      "9\n",
      "10\n"
     ]
    }
   ],
   "source": [
    "#13.Write a program to print the first 10 whole numbers using while loop\n",
    "\n",
    "i = 0\n",
    "while i <= 10 :\n",
    "    print(i)\n",
    "    i=i+1\n"
   ]
  },
  {
   "cell_type": "markdown",
   "id": "629dc829-31a6-444d-ade7-40a1a60ef9c9",
   "metadata": {},
   "source": [
    "14.n=5\n",
    "A B C D E\n",
    "A B C D\n",
    "A B C \n",
    "A B \n",
    "A"
   ]
  },
  {
   "cell_type": "code",
   "execution_count": 19,
   "id": "7bb477bb-ff0e-409e-82bd-52719aea3c67",
   "metadata": {},
   "outputs": [
    {
     "name": "stdout",
     "output_type": "stream",
     "text": [
      "A B C D E \n",
      "A B C D \n",
      "A B C \n",
      "A B \n",
      "A \n"
     ]
    }
   ],
   "source": [
    "n = 5\n",
    "for i in range(5,0,-1):\n",
    "    for j in range(i):\n",
    "        print(chr(65 + j), end = \" \")\n",
    "    print()"
   ]
  }
 ],
 "metadata": {
  "kernelspec": {
   "display_name": "Python [conda env:base] *",
   "language": "python",
   "name": "conda-base-py"
  },
  "language_info": {
   "codemirror_mode": {
    "name": "ipython",
    "version": 3
   },
   "file_extension": ".py",
   "mimetype": "text/x-python",
   "name": "python",
   "nbconvert_exporter": "python",
   "pygments_lexer": "ipython3",
   "version": "3.12.7"
  }
 },
 "nbformat": 4,
 "nbformat_minor": 5
}
