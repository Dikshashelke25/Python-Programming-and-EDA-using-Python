{
 "cells": [
  {
   "cell_type": "markdown",
   "id": "f3916dae-9921-4b1b-ac3c-4a0a66f6de4b",
   "metadata": {},
   "source": [
    "### 1.Explain the measure of central tendency with an example.\n"
   ]
  },
  {
   "cell_type": "markdown",
   "id": "acc97079-5ca8-4983-b541-53eee51814fd",
   "metadata": {},
   "source": [
    "The **measure of central tendency** is a statistical concept used to describe the center point of a dataset. \n",
    "\n",
    "It helps in understanding the overall trend or typical value within the data. \n",
    "\n",
    "The three main measures are **mean**, **median**, and **mode**.\n",
    "\n",
    "1. **Mean**: The arithmetic average of all data points.\n",
    "   - Example: If the marks of 5 students in a math test are 70, 75, 80, 85, and 90, then:\n",
    "     \n",
    "     (70 + 75 + 80 + 85 + 90)/5 = 80\n",
    "     \n",
    "    mean is 80.\n",
    "\n",
    "2. **Median**: The middle value when the data points are arranged in ascending order.\n",
    "   - Example: For the same data (70, 75, 80, 85, 90), the middle value is 80. Hence, the median is 80.\n",
    "   - If there's an even number of data points, the median is the average of the two middle values.\n",
    "\n",
    "3. **Mode**: The most frequently occurring value in the dataset.\n",
    "   - Example: If the scores are 70, 75, 80, 85, and 85, the mode is 85 because it occurs twice.\n"
   ]
  },
  {
   "cell_type": "markdown",
   "id": "109327f5-97da-40ef-ae75-a3abf2a5f2da",
   "metadata": {},
   "source": [
    "### 2.What are the three most common measures of central tendency?\n"
   ]
  },
  {
   "cell_type": "markdown",
   "id": "f7cc69fe-199c-4ea9-a549-47450dda3fc5",
   "metadata": {},
   "source": [
    "The three most common measures of central tendency are:\n",
    "\n",
    "1. **Mean**: The arithmetic average of all data points in a dataset.\n",
    "2. **Median**: The middle value when the data points are arranged in ascending or descending order.\n",
    "3. **Mode**: The most frequently occurring value in the dataset.\n"
   ]
  },
  {
   "cell_type": "markdown",
   "id": "870b8b6d-d2cc-4582-b0a2-96a3cd8f65c0",
   "metadata": {},
   "source": [
    "### 3.Define mean, median, and mode. Provide an example dataset where each measure differ."
   ]
  },
  {
   "cell_type": "markdown",
   "id": "4fec0cb3-6c3d-459e-beae-c44a5e771fab",
   "metadata": {},
   "source": [
    "1. **Mean**: The arithmetic average of all data points in a dataset.\n",
    "2. **Median**: The middle value when the data points are arranged in ascending or descending order.\n",
    "3. **Mode**: The most frequently occurring value in the dataset.\n",
    "\n",
    "\n",
    "### Example Dataset:\n",
    "Consider the dataset: **2, 4, 4, 9, 15**\n",
    "\n",
    "1. **Mean**:\n",
    "   Mean = (2 + 4 + 4 + 9 + 15)/5 = 34/5 = 6.8\n",
    "   So, the mean is **6.8**.\n",
    "\n",
    "2. **Median**:\n",
    "   - Arrange the data in order: **2, 4, 4, 9, 15**\n",
    "   - The middle value is **4** (the 3rd value in a dataset of 5 numbers). Hence, the median is **4**.\n",
    "\n",
    "3. **Mode**:\n",
    "   - The value that occurs most frequently is **4** (appears twice). Therefore, the mode is **4**.\n",
    "\n",
    "In this case:\n",
    "- The **mean** (6.8) differs from the **median** (4) and the **mode** (4).\n",
    "\n"
   ]
  },
  {
   "cell_type": "markdown",
   "id": "bb325c83-485d-4175-ba7e-19400ace3f37",
   "metadata": {},
   "source": [
    "### 4.What is the difference between the mean and median? In what situations is the median preferred over the mean?\n"
   ]
  },
  {
   "cell_type": "markdown",
   "id": "0652284a-abe8-48fa-9e60-db5e710b02ea",
   "metadata": {},
   "source": [
    "The mean and the median are both measures of central tendency, but they differ in how they summarize a dataset:\n",
    "\n",
    "- **Mean (Average):** The mean is calculated by adding up all the values in a dataset and dividing by the number of values. It gives an overall average but can be significantly affected by extreme values (outliers).\n",
    "- **Median:** The median is the middle value in an ordered dataset. If the dataset has an even number of values, the median is the average of the two middle numbers. The median is **not** affected by outliers, making it more representative of the central trend in skewed distributions.\n",
    "\n",
    "#### When is the median preferred over the mean?\n",
    "The median is preferred in cases where data has extreme values or is **skewed** (not symmetrically distributed). Some examples:\n",
    "- **Income levels:** Salaries in a company might range from very low to extremely high. The mean salary could be inflated by a few high-income earners, whereas the median gives a more typical value.\n",
    "\n",
    "Hence, the mean is great for symmetric data with no outliers, while the median is better for **skewed distributions or data with extreme values.** \n",
    "\n",
    "\n"
   ]
  },
  {
   "cell_type": "markdown",
   "id": "64892a6c-3cdd-4222-8610-bb9c75c48813",
   "metadata": {},
   "source": [
    "### 5.Explain how the mode is different from the mean and median. Provide an example where mode is a better measure of central tendency.\n"
   ]
  },
  {
   "cell_type": "markdown",
   "id": "626bfc6b-485b-446d-a6b9-ace1a0935ed2",
   "metadata": {},
   "source": [
    "The **mode** is another measure of central tendency, but it's quite different from the **mean** and **median**:\n",
    "\n",
    "- **Mean:** The average value, calculated by summing all numbers and dividing by the count.\n",
    "- **Median:** The middle number in an ordered dataset, unaffected by extreme values.\n",
    "- **Mode:** The most frequently occurring value in a dataset. There can be **more than one mode** if multiple values appear with the same highest frequency.\n",
    "\n",
    "**When is Mode Preferred Over Mean or Median?**\n",
    "The mode is best used when analyzing **categorical data** (non-numeric categories) or when the most frequent value is more meaningful than an average.\n",
    "\n",
    "**Example: Most Popular Shoe Size in a Store**\n",
    "Imagine a shoe store wants to **stock sizes efficiently** based on customer purchases. Here’s the distribution of shoe sizes sold in a week:\n",
    "\n",
    "| Shoe Size | Frequency (Number Sold) |\n",
    "|-----------|-------------------------|\n",
    "| 6         | 5                        |\n",
    "| 7         | 8                        |\n",
    "| 8         | 15                       |\n",
    "| 9         | 12                       |\n",
    "| 10        | 10                       |\n",
    "\n",
    "- **Mean shoe size** calculation wouldn't be useful because shoe sizes are discrete.\n",
    "- **Median shoe size** might give a reasonable central number but wouldn’t highlight the most demanded size.\n",
    "- **Mode shoe size** is **8**, since it appears the most (15 times). This is the best choice for inventory decisions because it represents what customers most commonly buy.\n"
   ]
  },
  {
   "cell_type": "markdown",
   "id": "4749b795-26fd-4c74-9a2a-665bac684bdf",
   "metadata": {},
   "source": [
    "### 6.Given a set of scores, calculate the mean, median, and mode. For example, for the scores 32, 28, 24, 28, 28, 31, 35, 29, 26.\n"
   ]
  },
  {
   "cell_type": "markdown",
   "id": "6aded0e2-8905-4491-815c-4ae581e14fde",
   "metadata": {},
   "source": [
    "1. **Mean**:\n",
    "   Mean = (32, 28, 24, 28, 28, 31, 35, 29, 26)/9 = 261/9 = 29\n",
    "   So, the mean is **29**.\n",
    "\n",
    "2. **Median**:\n",
    "   - Arrange the data in order: **32, 28, 24, 28, 28, 31, 35, 29, 26**\n",
    "   - The middle value is **28**. Hence, the median is **28**.\n",
    "\n",
    "3. **Mode**:\n",
    "   - The value that occurs most frequently is **28**. Therefore, the mode is **28**.\n"
   ]
  }
 ],
 "metadata": {
  "kernelspec": {
   "display_name": "Python [conda env:base] *",
   "language": "python",
   "name": "conda-base-py"
  },
  "language_info": {
   "codemirror_mode": {
    "name": "ipython",
    "version": 3
   },
   "file_extension": ".py",
   "mimetype": "text/x-python",
   "name": "python",
   "nbconvert_exporter": "python",
   "pygments_lexer": "ipython3",
   "version": "3.12.7"
  }
 },
 "nbformat": 4,
 "nbformat_minor": 5
}
