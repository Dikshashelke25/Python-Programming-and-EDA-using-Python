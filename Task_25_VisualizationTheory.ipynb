{
 "cells": [
  {
   "cell_type": "markdown",
   "id": "2492c0f8-1710-46db-b6a5-bf23e90b239a",
   "metadata": {},
   "source": [
    "### Task 25 - Visualization Theory:"
   ]
  },
  {
   "cell_type": "markdown",
   "id": "4bd1e048-b99a-477c-888f-b8bdcf862014",
   "metadata": {},
   "source": [
    "#### 1.What are the types of data? Explain with examples.\n"
   ]
  },
  {
   "cell_type": "markdown",
   "id": "17a1ca17-b27b-4ed6-8f63-1e78a9519ce5",
   "metadata": {},
   "source": [
    "Continuous and categorical data are two types of data used in statistics and data analysis.\n",
    "\n",
    "##### **1. Continuous Data**\n",
    "- Continuous data consists of numerical values that can take any value within a range.\n",
    "- It is measurable and can have decimal points.\n",
    "- Example:\n",
    "  - Height of individuals (e.g., 170.5 cm, 165.2 cm)\n",
    "  - Temperature readings (e.g., 36.5°C, 22.8°C)\n",
    "\n",
    "##### **2. Categorical Data**\n",
    "- Categorical data represents characteristics or labels that describe a group.\n",
    "- It is **not** numerical and cannot be measured.\n",
    "- Example:\n",
    "  - Gender (Male, Female, Other)\n",
    "  - Types of fruits (Apple, Banana, Orange)"
   ]
  },
  {
   "cell_type": "markdown",
   "id": "9ace82b8-b356-4e7f-8560-1ddfc6ed6f12",
   "metadata": {},
   "source": [
    "#### 2.What plots should be used for continuous data?\n"
   ]
  },
  {
   "cell_type": "markdown",
   "id": "0c774b1c-540c-4b00-9f2d-095d373d2e2c",
   "metadata": {},
   "source": [
    "##### **1. Histogram**\n",
    "   - Shows the distribution of continuous data.\n",
    "   - Example: Visualizing the distribution of heights in a population.\n",
    "\n",
    "##### **2. Line Plot**\n",
    "   - Ideal for showing trends over time.\n",
    "   - Example: Tracking temperature changes throughout the day.\n",
    "\n",
    "##### **3. Scatter Plot**\n",
    "   - Used to show relationships between two continuous variables.\n",
    "   - Example: Comparing height vs. weight of individuals.\n",
    "\n",
    "##### **4. Box Plot (or Whisker Plot)**\n",
    "   - Displays the spread and outliers in continuous data.\n",
    "   - Example: Analyzing salary distributions in a company.\n"
   ]
  },
  {
   "cell_type": "markdown",
   "id": "5be0a317-34bd-48dd-ac10-833fc8bf8d5f",
   "metadata": {},
   "source": [
    "#### 3.What plots should be used for categorical data?\n"
   ]
  },
  {
   "cell_type": "markdown",
   "id": "32ce8c5f-be00-412e-a1d4-728ba01debb5",
   "metadata": {},
   "source": [
    "For **categorical data**, the best plots help visualize frequencies, comparisons, and distributions. Here are some commonly used plots:\n",
    "\n",
    "##### **1. Bar Chart**\n",
    "   - Displays the frequency or proportion of categories.\n",
    "   - Example: Number of students in different grade levels.\n",
    "\n",
    "##### **2. Count Plot**\n",
    "   - Similar to a bar chart but specifically used for counting occurrences.\n",
    "   - Example: Number of cars in different colors.\n",
    "\n",
    "##### **3. Pie Chart**\n",
    "   - Shows proportions of categories as slices of a circle.\n",
    "   - Example: Market share of different smartphone brands.\n"
   ]
  },
  {
   "cell_type": "markdown",
   "id": "dfa15bcd-b710-49ac-9841-d45ec223e9ad",
   "metadata": {},
   "source": [
    "#### 4.What plots are suitable for univariate analysis?\n"
   ]
  },
  {
   "cell_type": "markdown",
   "id": "69f4d2da-3238-44d9-967e-36186ab11536",
   "metadata": {},
   "source": [
    "Univariate analysis focuses on examining a single variable.\n",
    "\n",
    "- **Histograms** – Ideal for showing the distribution of numerical data.\n",
    "- **Box plots** – Great for visualizing the spread, median, and outliers.\n",
    "- **Bar charts** – Best for categorical data, showing frequencies or proportions.\n",
    "- **Pie charts** – Useful for representing the composition of categorical data when comparing proportions.\n",
    "- **Line graphs** – Used when analyzing trends over time for a single variable.\n"
   ]
  },
  {
   "cell_type": "markdown",
   "id": "68a7bac7-1718-417d-bccf-c00891c7699e",
   "metadata": {},
   "source": [
    "#### 5.What plots are suitable for bivariate analysis?\n"
   ]
  },
  {
   "cell_type": "markdown",
   "id": "67f21323-5eea-48b1-984d-b82b22bb19c8",
   "metadata": {},
   "source": [
    "Bivariate analysis examines relationships between two variables.\n",
    "\n",
    "- **Scatter plots** – Ideal for showing relationships between two numerical variables.\n",
    "- **Line graphs** – Useful when analyzing trends over time for two related variables.\n",
    "- **Box plots (side-by-side)** – Great for comparing distributions across categories.\n",
    "- **Bar charts (grouped or stacked)** – Suitable for comparing categorical and numerical data.\n",
    "- **Heatmaps** – Effective for showing intensity or correlation between two variables."
   ]
  },
  {
   "cell_type": "markdown",
   "id": "033457f3-ffcb-4c6b-a9ab-13cfde0996fc",
   "metadata": {},
   "source": [
    "#### 6.Explain the following points of  plots: (minimum 8 to 10 plots)\n",
    "##### a.Plot Name\n",
    "##### b.Type of Data (Continuous, Categorical, or both)\n",
    "##### c.Use of the Plot (Why and when it's used)\n",
    "##### d.Explanation of the Plot (What insights it provides)\n",
    "##### e.Key Parameters (Adjustable elements like axes, color, size, etc.)\n"
   ]
  },
  {
   "cell_type": "markdown",
   "id": "0ab3124d-00c0-4e39-bb75-d57836b6a333",
   "metadata": {},
   "source": [
    "| **Plot Name**  | **Type of Data** | **Use of the Plot** | **Explanation of the Plot** | **Key Parameters** |\n",
    "|---------------|----------------|---------------------|----------------------------|-------------------|\n",
    "| **Histogram** | Continuous     | Used to display frequency distributions of numerical data | Helps visualize data spread, central tendency, and shape (normal, skewed, etc.) | Bin size, axes, color, transparency |\n",
    "| **Box Plot** | Continuous     | Used to show distribution and detect outliers | Displays median, quartiles, and outliers in the dataset | Whiskers length, axes, color |\n",
    "| **Scatter Plot** | Continuous (Both variables) | Used to show relationships between two numerical variables | Helps in finding trends, correlations, and clustering | Axes, marker type, size, color |\n",
    "| **Bar Chart** | Categorical/Discrete | Used to compare categories | Shows frequency/counts of categorical values | Bar width, color, labels, orientation |\n",
    "| **Pie Chart** | Categorical | Used for percentage comparisons among categories | Represents proportions of different categories | Slice size, color, labels |\n",
    "| **Line Graph** | Continuous | Used for trend analysis over time | Shows progression of data points in a time-series manner | Line style, color, markers |\n",
    "| **Density Plot** | Continuous | Used to show data distribution with a smooth curve | Provides an alternative view to histograms without binning | Kernel type, bandwidth, color |\n",
    "| **Heatmap** | Continuous/Both | Used for correlation and intensity visualization | Shows relationships using color gradients | Color scheme, axis labels |\n",
    "| **Bubble Chart** | Continuous/Both | Used to show three-variable relationships | Represents size as an additional parameter | Bubble size, color, transparency |"
   ]
  },
  {
   "cell_type": "code",
   "execution_count": null,
   "id": "0adae9ad-1c1b-4254-968f-1e64829a7bbe",
   "metadata": {},
   "outputs": [],
   "source": []
  },
  {
   "cell_type": "code",
   "execution_count": null,
   "id": "5b00fcaa-4587-481e-a2de-7e87acb970be",
   "metadata": {},
   "outputs": [],
   "source": []
  }
 ],
 "metadata": {
  "kernelspec": {
   "display_name": "Python [conda env:base] *",
   "language": "python",
   "name": "conda-base-py"
  },
  "language_info": {
   "codemirror_mode": {
    "name": "ipython",
    "version": 3
   },
   "file_extension": ".py",
   "mimetype": "text/x-python",
   "name": "python",
   "nbconvert_exporter": "python",
   "pygments_lexer": "ipython3",
   "version": "3.12.7"
  }
 },
 "nbformat": 4,
 "nbformat_minor": 5
}
