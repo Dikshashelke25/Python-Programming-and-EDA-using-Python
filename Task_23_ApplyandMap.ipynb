{
 "cells": [
  {
   "cell_type": "markdown",
   "id": "61815be7-2e80-456d-ac3f-54e1e560a2e2",
   "metadata": {},
   "source": [
    "### Task 23 - Apply and Map:\n"
   ]
  },
  {
   "cell_type": "markdown",
   "id": "f8e19800-3642-487f-9600-09db5bc93ad7",
   "metadata": {},
   "source": [
    "#### 1.Write a program that uses map() to square each number in the list:\n",
    "[1, 2, 3, 4, 5]\n"
   ]
  },
  {
   "cell_type": "code",
   "execution_count": 15,
   "id": "e28a4b66-4e45-487a-91c2-738521871acc",
   "metadata": {},
   "outputs": [
    {
     "name": "stdout",
     "output_type": "stream",
     "text": [
      "[1, 4, 9, 16, 25]\n"
     ]
    }
   ],
   "source": [
    "numbers = [1, 2, 3, 4, 5]\n",
    "\n",
    "squared_numbers = list(map(lambda x: x**2, numbers))\n",
    "\n",
    "print(squared_numbers)"
   ]
  },
  {
   "cell_type": "markdown",
   "id": "b13d1434-4421-40ee-9cf1-47095312133b",
   "metadata": {},
   "source": [
    "#### 2.Use lambda and map() to double the numbers in this list:\n",
    "[10, 20, 30]\n"
   ]
  },
  {
   "cell_type": "code",
   "execution_count": 17,
   "id": "2d7a4b89-93ff-410c-a7ea-e5dd47ed7507",
   "metadata": {},
   "outputs": [
    {
     "name": "stdout",
     "output_type": "stream",
     "text": [
      "[20, 40, 60]\n"
     ]
    }
   ],
   "source": [
    "numbers = [10, 20, 30]\n",
    "\n",
    "doubled_numbers = list(map(lambda x: x*2, numbers))\n",
    "\n",
    "print(doubled_numbers)"
   ]
  },
  {
   "cell_type": "markdown",
   "id": "cf7b86ec-e73d-4783-822c-75f3fc652cb0",
   "metadata": {},
   "source": [
    "#### 3.Convert the list ['apple', 'banana', 'cherry'] to uppercase using map().\n"
   ]
  },
  {
   "cell_type": "code",
   "execution_count": 21,
   "id": "e51b78cd-0482-490c-8eba-dcdbfcbe1a08",
   "metadata": {},
   "outputs": [
    {
     "name": "stdout",
     "output_type": "stream",
     "text": [
      "['APPLE', 'BANANA', 'CHERRY']\n"
     ]
    }
   ],
   "source": [
    "fruits = ['apple', 'banana', 'cherry']\n",
    "\n",
    "FRUITS = list(map(str.upper, fruits))\n",
    "\n",
    "print(FRUITS)"
   ]
  },
  {
   "cell_type": "markdown",
   "id": "ae4e7130-fc05-482d-b219-d98a6cba5511",
   "metadata": {},
   "source": [
    "#### 4.Given ['dog', 'elephant', 'cat'], use map() to create a list of the lengths of each string.\n"
   ]
  },
  {
   "cell_type": "code",
   "execution_count": 23,
   "id": "fe159830-1015-4315-8966-d86db0d17b05",
   "metadata": {},
   "outputs": [
    {
     "name": "stdout",
     "output_type": "stream",
     "text": [
      "[3, 8, 3]\n"
     ]
    }
   ],
   "source": [
    "animals = ['dog', 'elephant', 'cat']\n",
    "\n",
    "lengths = list(map(len, animals))\n",
    "\n",
    "print(lengths)"
   ]
  },
  {
   "cell_type": "markdown",
   "id": "b93c95d6-5517-4959-a92e-913930ce61fb",
   "metadata": {},
   "source": [
    "#### 5.Create a DataFrame with a column 'Name':\n",
    "\n",
    "import pandas as pd  \n",
    "\n",
    "df = pd.DataFrame({'Name': ['ALICE', 'BOB', 'CHARLIE']})\n",
    "\n",
    "Use apply() to convert all names to lowercase.\n"
   ]
  },
  {
   "cell_type": "code",
   "execution_count": 31,
   "id": "4ea6e839-dce0-48c4-b1aa-072dbb9e92fe",
   "metadata": {},
   "outputs": [
    {
     "name": "stdout",
     "output_type": "stream",
     "text": [
      "      Name\n",
      "0    ALICE\n",
      "1      BOB\n",
      "2  CHARLIE\n"
     ]
    }
   ],
   "source": [
    "import pandas as pd\n",
    "\n",
    "df = pd.DataFrame({'Name': ['ALICE', 'BOB', 'CHARLIE']})\n",
    "print(df)"
   ]
  },
  {
   "cell_type": "code",
   "execution_count": 33,
   "id": "db56305d-058a-4542-bda7-9260c5d34651",
   "metadata": {},
   "outputs": [
    {
     "name": "stdout",
     "output_type": "stream",
     "text": [
      "      Name\n",
      "0    alice\n",
      "1      bob\n",
      "2  charlie\n"
     ]
    }
   ],
   "source": [
    "df['Name'] = df['Name'].apply(str.lower)\n",
    "print(df)"
   ]
  },
  {
   "cell_type": "markdown",
   "id": "46c1df58-4672-43d2-9660-a767c7f28871",
   "metadata": {},
   "source": [
    "#### 6.Using apply() with a custom function\n"
   ]
  },
  {
   "cell_type": "markdown",
   "id": "6e11ddce-4c2c-46c3-9c8b-11e0131027d6",
   "metadata": {},
   "source": [
    "#### 7.Use the following function with apply() on the column 'Age':\n",
    "        def age_group(age):\n",
    "            return 'Adult' if age >= 18 else 'Child'\n",
    "        df = pd.DataFrame({'Age': [10, 20, 15, 30]})\n"
   ]
  },
  {
   "cell_type": "code",
   "execution_count": 61,
   "id": "ec83454c-e92c-49c1-9f2b-8a1cb7fb2c97",
   "metadata": {},
   "outputs": [
    {
     "name": "stdout",
     "output_type": "stream",
     "text": [
      "   Age\n",
      "0   10\n",
      "1   20\n",
      "2   15\n",
      "3   30\n"
     ]
    }
   ],
   "source": [
    "def age_group(age):\n",
    "        return 'Adult' if age >= 18 else 'Child'\n",
    "\n",
    "df = pd.DataFrame({'Age': [10, 20, 15, 30]})\n",
    "print(df)"
   ]
  },
  {
   "cell_type": "code",
   "execution_count": 63,
   "id": "a7291a4d-e51d-4ea7-acba-6d5155c92888",
   "metadata": {},
   "outputs": [
    {
     "name": "stdout",
     "output_type": "stream",
     "text": [
      "   Age Category\n",
      "0   10    Child\n",
      "1   20    Adult\n",
      "2   15    Child\n",
      "3   30    Adult\n"
     ]
    }
   ],
   "source": [
    "df['Category'] = df['Age'].apply(age_group)\n",
    "print(df)"
   ]
  },
  {
   "cell_type": "markdown",
   "id": "a1bde4e4-3a6d-48ce-8473-51b5eabea347",
   "metadata": {},
   "source": [
    "#### 8.Use a lambda function to add 5 to each value in this DataFrame column 'Marks':\n",
    "df = pd.DataFrame({'Marks': [45, 67, 89]})\n"
   ]
  },
  {
   "cell_type": "code",
   "execution_count": 67,
   "id": "03e4afbc-6055-4593-a2f4-636ec3a3cfff",
   "metadata": {},
   "outputs": [
    {
     "name": "stdout",
     "output_type": "stream",
     "text": [
      "   Marks\n",
      "0     45\n",
      "1     67\n",
      "2     89\n"
     ]
    }
   ],
   "source": [
    "df = pd.DataFrame({'Marks': [45, 67, 89]})\n",
    "print(df)"
   ]
  },
  {
   "cell_type": "code",
   "execution_count": 71,
   "id": "6d041292-28f2-4673-a533-7a82b41e1392",
   "metadata": {},
   "outputs": [
    {
     "name": "stdout",
     "output_type": "stream",
     "text": [
      "   Marks  Updated_Marks\n",
      "0     45             50\n",
      "1     67             72\n",
      "2     89             94\n"
     ]
    }
   ],
   "source": [
    "df['Updated_Marks'] = df['Marks'].apply(lambda x:x+5)\n",
    "print(df)"
   ]
  },
  {
   "cell_type": "markdown",
   "id": "9ebe0fb0-a480-4e03-bfbc-fe8e738b388d",
   "metadata": {},
   "source": [
    "#### 9.Use map() with a lambda function to add the values of two lists:\n",
    "a = [1, 2, 3]\n",
    "b = [4, 5, 6]\n"
   ]
  },
  {
   "cell_type": "code",
   "execution_count": 73,
   "id": "623519ea-329a-4c5e-8c73-152d7b7fe799",
   "metadata": {},
   "outputs": [
    {
     "name": "stdout",
     "output_type": "stream",
     "text": [
      "[5, 7, 9]\n"
     ]
    }
   ],
   "source": [
    "a = [1, 2, 3] \n",
    "b = [4, 5, 6]\n",
    "\n",
    "result = list(map(lambda x,y : x+y, a,b))\n",
    "print(result)"
   ]
  },
  {
   "cell_type": "markdown",
   "id": "9164b42c-5b01-430f-84b5-37549283129b",
   "metadata": {},
   "source": [
    "#### 10.Create a DataFrame with column 'City' = ['new york', 'paris', 'london'].\n",
    "Use apply() to capitalize the first letter of each city name.\n"
   ]
  },
  {
   "cell_type": "code",
   "execution_count": 81,
   "id": "bedeaf12-a3ee-4926-992f-54e7652bbef6",
   "metadata": {},
   "outputs": [
    {
     "data": {
      "text/html": [
       "<div>\n",
       "<style scoped>\n",
       "    .dataframe tbody tr th:only-of-type {\n",
       "        vertical-align: middle;\n",
       "    }\n",
       "\n",
       "    .dataframe tbody tr th {\n",
       "        vertical-align: top;\n",
       "    }\n",
       "\n",
       "    .dataframe thead th {\n",
       "        text-align: right;\n",
       "    }\n",
       "</style>\n",
       "<table border=\"1\" class=\"dataframe\">\n",
       "  <thead>\n",
       "    <tr style=\"text-align: right;\">\n",
       "      <th></th>\n",
       "      <th>City</th>\n",
       "    </tr>\n",
       "  </thead>\n",
       "  <tbody>\n",
       "    <tr>\n",
       "      <th>0</th>\n",
       "      <td>new york</td>\n",
       "    </tr>\n",
       "    <tr>\n",
       "      <th>1</th>\n",
       "      <td>paris</td>\n",
       "    </tr>\n",
       "    <tr>\n",
       "      <th>2</th>\n",
       "      <td>london</td>\n",
       "    </tr>\n",
       "  </tbody>\n",
       "</table>\n",
       "</div>"
      ],
      "text/plain": [
       "       City\n",
       "0  new york\n",
       "1     paris\n",
       "2    london"
      ]
     },
     "execution_count": 81,
     "metadata": {},
     "output_type": "execute_result"
    }
   ],
   "source": [
    "df = pd.DataFrame({'City' : ['new york', 'paris', 'london']})\n",
    "df"
   ]
  },
  {
   "cell_type": "code",
   "execution_count": 83,
   "id": "44deba97-ce47-4a5c-9c55-baf671b3475f",
   "metadata": {},
   "outputs": [
    {
     "data": {
      "text/html": [
       "<div>\n",
       "<style scoped>\n",
       "    .dataframe tbody tr th:only-of-type {\n",
       "        vertical-align: middle;\n",
       "    }\n",
       "\n",
       "    .dataframe tbody tr th {\n",
       "        vertical-align: top;\n",
       "    }\n",
       "\n",
       "    .dataframe thead th {\n",
       "        text-align: right;\n",
       "    }\n",
       "</style>\n",
       "<table border=\"1\" class=\"dataframe\">\n",
       "  <thead>\n",
       "    <tr style=\"text-align: right;\">\n",
       "      <th></th>\n",
       "      <th>City</th>\n",
       "    </tr>\n",
       "  </thead>\n",
       "  <tbody>\n",
       "    <tr>\n",
       "      <th>0</th>\n",
       "      <td>New York</td>\n",
       "    </tr>\n",
       "    <tr>\n",
       "      <th>1</th>\n",
       "      <td>Paris</td>\n",
       "    </tr>\n",
       "    <tr>\n",
       "      <th>2</th>\n",
       "      <td>London</td>\n",
       "    </tr>\n",
       "  </tbody>\n",
       "</table>\n",
       "</div>"
      ],
      "text/plain": [
       "       City\n",
       "0  New York\n",
       "1     Paris\n",
       "2    London"
      ]
     },
     "execution_count": 83,
     "metadata": {},
     "output_type": "execute_result"
    }
   ],
   "source": [
    "df['City'] = df['City'].apply(lambda x : x.title())\n",
    "df"
   ]
  }
 ],
 "metadata": {
  "kernelspec": {
   "display_name": "Python [conda env:base] *",
   "language": "python",
   "name": "conda-base-py"
  },
  "language_info": {
   "codemirror_mode": {
    "name": "ipython",
    "version": 3
   },
   "file_extension": ".py",
   "mimetype": "text/x-python",
   "name": "python",
   "nbconvert_exporter": "python",
   "pygments_lexer": "ipython3",
   "version": "3.12.7"
  }
 },
 "nbformat": 4,
 "nbformat_minor": 5
}
