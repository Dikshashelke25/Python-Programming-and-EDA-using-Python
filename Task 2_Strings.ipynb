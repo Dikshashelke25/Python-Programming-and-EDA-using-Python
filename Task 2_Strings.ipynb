{
 "cells": [
  {
   "cell_type": "markdown",
   "id": "c9e5529b-9e4d-4f7c-be47-a2b0c067268a",
   "metadata": {},
   "source": [
    "Task 2 - Strings:\n",
    "\n",
    "1.Define Strings and its properties.\n",
    "\n",
    "A string is a sequence of characters.\n",
    "Properties : \n",
    "1.String is defined inside quotes. \n",
    "2.This includes letters, numbers, and symbols. \n",
    "3.Strings are indexed starting from 0 and -1 from end. \n",
    "\n"
   ]
  },
  {
   "cell_type": "code",
   "execution_count": 3,
   "id": "1c3e3e9b-64f3-4074-9b08-06047bce6439",
   "metadata": {},
   "outputs": [],
   "source": [
    "s = \"$python is fun, python is easy, but python is tough when you don't practice it revise it@\""
   ]
  },
  {
   "cell_type": "code",
   "execution_count": 5,
   "id": "05c98f45-8963-4c42-9cc2-83816e6aee2f",
   "metadata": {},
   "outputs": [
    {
     "name": "stdout",
     "output_type": "stream",
     "text": [
      "89\n"
     ]
    }
   ],
   "source": [
    "#2.How many characters are present in the above string?\n",
    "print(len(s))"
   ]
  },
  {
   "cell_type": "code",
   "execution_count": 7,
   "id": "a58b9082-69aa-4650-8e1b-effd7a73205f",
   "metadata": {},
   "outputs": [
    {
     "name": "stdout",
     "output_type": "stream",
     "text": [
      "python\n"
     ]
    }
   ],
   "source": [
    "#3.Access the First word 'python' using positive indexing\n",
    "print(s[1:7])"
   ]
  },
  {
   "cell_type": "code",
   "execution_count": 19,
   "id": "df302afa-e457-432b-b324-6a45dedc0cc3",
   "metadata": {},
   "outputs": [
    {
     "name": "stdout",
     "output_type": "stream",
     "text": [
      "revise it\n"
     ]
    }
   ],
   "source": [
    "#4.Access the words 'revise it' using negative indexing\n",
    "print(s[-10:-1])"
   ]
  },
  {
   "cell_type": "code",
   "execution_count": 13,
   "id": "9110a222-fd90-4dfd-b97c-b9da4b7805cd",
   "metadata": {},
   "outputs": [
    {
     "name": "stdout",
     "output_type": "stream",
     "text": [
      "python is easy\n"
     ]
    }
   ],
   "source": [
    "#5.Access “Python is easy”.\n",
    "print(s[16:30])"
   ]
  },
  {
   "cell_type": "markdown",
   "id": "588e4ce0-c79b-42f1-9d62-6289764d7ae8",
   "metadata": {},
   "source": [
    "6.Write a program that takes a sentence ='Give papa a cup of proper coffee in a copper coffee cup' as input and \n",
    "replaces all occurrences of the word \"coffee\" with \"tea\".\n",
    "Check if the above sentence starts with \"Hello\" and ends with \"cup\". \n",
    "Return the above sentence in title case and capital case.\n"
   ]
  },
  {
   "cell_type": "code",
   "execution_count": 5,
   "id": "4a6b44c8-c08c-4a21-8a0d-86e068614086",
   "metadata": {},
   "outputs": [
    {
     "name": "stdin",
     "output_type": "stream",
     "text": [
      "Enter a sentence :  Give papa a cup of proper coffee in a copper coffee cup\n"
     ]
    }
   ],
   "source": [
    "s = input(\"Enter a sentence : \")"
   ]
  },
  {
   "cell_type": "code",
   "execution_count": 7,
   "id": "bc870b6f-4b98-4245-81e4-24ab3e759c6d",
   "metadata": {},
   "outputs": [
    {
     "data": {
      "text/plain": [
       "'Give papa a cup of proper tea in a copper tea cup'"
      ]
     },
     "execution_count": 7,
     "metadata": {},
     "output_type": "execute_result"
    }
   ],
   "source": [
    "s.replace(\"coffee\", \"tea\")"
   ]
  },
  {
   "cell_type": "code",
   "execution_count": 9,
   "id": "11eb308b-4c96-4b22-8446-7383eb6fcc2e",
   "metadata": {},
   "outputs": [
    {
     "data": {
      "text/plain": [
       "False"
      ]
     },
     "execution_count": 9,
     "metadata": {},
     "output_type": "execute_result"
    }
   ],
   "source": [
    "s.startswith(\"Hello\")"
   ]
  },
  {
   "cell_type": "code",
   "execution_count": 11,
   "id": "5ed83ebf-13db-4149-ab67-9d87749f45b5",
   "metadata": {},
   "outputs": [
    {
     "data": {
      "text/plain": [
       "True"
      ]
     },
     "execution_count": 11,
     "metadata": {},
     "output_type": "execute_result"
    }
   ],
   "source": [
    "s.endswith(\"cup\")"
   ]
  },
  {
   "cell_type": "code",
   "execution_count": 13,
   "id": "60202d40-6f4e-4034-b6c9-c11cfd11f5c0",
   "metadata": {},
   "outputs": [
    {
     "data": {
      "text/plain": [
       "'Give Papa A Cup Of Proper Coffee In A Copper Coffee Cup'"
      ]
     },
     "execution_count": 13,
     "metadata": {},
     "output_type": "execute_result"
    }
   ],
   "source": [
    "s.title()"
   ]
  },
  {
   "cell_type": "code",
   "execution_count": 15,
   "id": "a062f2fa-a06d-4d5d-aa08-72a5dbea80a7",
   "metadata": {},
   "outputs": [
    {
     "data": {
      "text/plain": [
       "'Give papa a cup of proper coffee in a copper coffee cup'"
      ]
     },
     "execution_count": 15,
     "metadata": {},
     "output_type": "execute_result"
    }
   ],
   "source": [
    "s.capitalize()"
   ]
  },
  {
   "cell_type": "markdown",
   "id": "ca5d8863-9299-4f0c-bc3e-f07b68b7108e",
   "metadata": {},
   "source": [
    "7.Convert the above sentence into uppercase and count how many times the letter ‘P’ is repeated.\n",
    "Now, convert the whole string into lowercase and find the index of letter ‘c’.\n"
   ]
  },
  {
   "cell_type": "code",
   "execution_count": null,
   "id": "1dac9159-6f3f-400f-bac5-e8f7cc82847c",
   "metadata": {},
   "outputs": [],
   "source": [
    "#'Give papa a cup of proper coffee in a copper coffee cup'"
   ]
  },
  {
   "cell_type": "code",
   "execution_count": 25,
   "id": "bf590b45-8a42-4003-a869-d235dc989cd4",
   "metadata": {},
   "outputs": [
    {
     "name": "stdout",
     "output_type": "stream",
     "text": [
      "GIVE PAPA A CUP OF PROPER COFFEE IN A COPPER COFFEE CUP\n",
      "Count of letter P : 8\n"
     ]
    }
   ],
   "source": [
    "s1 = s.upper()\n",
    "print(s1)\n",
    "print(\"Count of letter P :\" ,s1.count(\"P\"))"
   ]
  },
  {
   "cell_type": "markdown",
   "id": "bb9f0c1a-2572-4e09-9a4a-fdb11a69cbff",
   "metadata": {},
   "source": [
    "8.lis = ['I','want','to','become','Data','Scientist']\n",
    "join the above list using join() function\n"
   ]
  },
  {
   "cell_type": "code",
   "execution_count": 27,
   "id": "6c9528fc-e28d-4a6b-a9b9-be0edf86b2bb",
   "metadata": {},
   "outputs": [],
   "source": [
    "lis = ['I','want','to','become','Data','Scientist']"
   ]
  },
  {
   "cell_type": "code",
   "execution_count": 31,
   "id": "cc75b36c-6ac4-4d30-96b7-7e3d3af8f1ea",
   "metadata": {},
   "outputs": [
    {
     "name": "stdout",
     "output_type": "stream",
     "text": [
      "I want to become Data Scientist\n"
     ]
    }
   ],
   "source": [
    "s = ' '.join(lis)\n",
    "print(s)"
   ]
  },
  {
   "cell_type": "markdown",
   "id": "95632b04-b0ab-46d4-947f-376d3666d236",
   "metadata": {},
   "source": [
    "9.Create a variable to store the string \"Earth revolves around the sun\"\n",
    "Print \"revolves\" using slice operator\n",
    "Print \"sun\" using negative index\n"
   ]
  },
  {
   "cell_type": "code",
   "execution_count": 39,
   "id": "91e022e6-16bd-45ca-ba16-e209d552a4d6",
   "metadata": {},
   "outputs": [
    {
     "name": "stdout",
     "output_type": "stream",
     "text": [
      "revolves\n",
      "sun\n"
     ]
    }
   ],
   "source": [
    "str_s = \"Earth revolves around the sun\"\n",
    "print(str_s[6:14])\n",
    "print(str_s[-3:])"
   ]
  },
  {
   "cell_type": "markdown",
   "id": "13698a0f-2152-4d4f-9f19-4f7cc93d21d7",
   "metadata": {},
   "source": [
    "10.create two variables to store how many fruits and vegetables you eat in a day.\n",
    "Now, print \"I eat x veggies and y fruits daily\" where x and y presents vegetables and fruits that you eat everyday.\n"
   ]
  },
  {
   "cell_type": "code",
   "execution_count": 43,
   "id": "6ff5576f-65e7-4b4e-84d6-1352fce3ca0d",
   "metadata": {},
   "outputs": [
    {
     "name": "stdout",
     "output_type": "stream",
     "text": [
      "I eat 4 veggies and 2 fruits daily\n"
     ]
    }
   ],
   "source": [
    "f = 2\n",
    "v = 4\n",
    "print (f\"I eat {v} veggies and {f} fruits daily\")"
   ]
  },
  {
   "cell_type": "markdown",
   "id": "9df783c4-bdf8-44de-8524-9e97013b0da4",
   "metadata": {},
   "source": [
    "11.Explore all string methods from documentation or use dir() function and write one line explanation for each method."
   ]
  },
  {
   "cell_type": "code",
   "execution_count": 49,
   "id": "e930a583-8018-4701-936e-ee5ef0f69706",
   "metadata": {},
   "outputs": [
    {
     "name": "stdout",
     "output_type": "stream",
     "text": [
      "['__add__', '__class__', '__contains__', '__delattr__', '__dir__', '__doc__', '__eq__', '__format__', '__ge__', '__getattribute__', '__getitem__', '__getnewargs__', '__getstate__', '__gt__', '__hash__', '__init__', '__init_subclass__', '__iter__', '__le__', '__len__', '__lt__', '__mod__', '__mul__', '__ne__', '__new__', '__reduce__', '__reduce_ex__', '__repr__', '__rmod__', '__rmul__', '__setattr__', '__sizeof__', '__str__', '__subclasshook__', 'capitalize', 'casefold', 'center', 'count', 'encode', 'endswith', 'expandtabs', 'find', 'format', 'format_map', 'index', 'isalnum', 'isalpha', 'isascii', 'isdecimal', 'isdigit', 'isidentifier', 'islower', 'isnumeric', 'isprintable', 'isspace', 'istitle', 'isupper', 'join', 'ljust', 'lower', 'lstrip', 'maketrans', 'partition', 'removeprefix', 'removesuffix', 'replace', 'rfind', 'rindex', 'rjust', 'rpartition', 'rsplit', 'rstrip', 'split', 'splitlines', 'startswith', 'strip', 'swapcase', 'title', 'translate', 'upper', 'zfill']\n"
     ]
    }
   ],
   "source": [
    "print(dir(str))"
   ]
  },
  {
   "cell_type": "markdown",
   "id": "4acc53d0-82f6-4963-926d-1bad1b165772",
   "metadata": {},
   "source": [
    "capitalize()\tConverts the first character to upper case\n",
    "casefold()\tConverts string into lower case\n",
    "center()\tReturns a centered string\n",
    "count()\tReturns the number of times a specified value occurs in a string\n",
    "encode()\tReturns an encoded version of the string\n",
    "endswith()\tReturns true if the string ends with the specified value\n",
    "expandtabs()\tSets the tab size of the string\n",
    "find()\tSearches the string for a specified value and returns the position of where it was found\n",
    "format()\tFormats specified values in a string\n",
    "format_map()\tFormats specified values in a string\n",
    "index()\tSearches the string for a specified value and returns the position of where it was found\n",
    "isalnum()\tReturns True if all characters in the string are alphanumeric\n",
    "isalpha()\tReturns True if all characters in the string are in the alphabet\n",
    "isascii()\tReturns True if all characters in the string are ascii characters\n",
    "isdecimal()\tReturns True if all characters in the string are decimals\n",
    "isdigit()\tReturns True if all characters in the string are digits\n",
    "isidentifier()\tReturns True if the string is an identifier\n",
    "islower()\tReturns True if all characters in the string are lower case\n",
    "isnumeric()\tReturns True if all characters in the string are numeric\n",
    "isprintable()\tReturns True if all characters in the string are printable\n",
    "isspace()\tReturns True if all characters in the string are whitespaces\n",
    "istitle()\tReturns True if the string follows the rules of a title\n",
    "isupper()\tReturns True if all characters in the string are upper case\n",
    "join()\tConverts the elements of an iterable into a string\n",
    "ljust()\tReturns a left justified version of the string\n",
    "lower()\tConverts a string into lower case\n",
    "lstrip()\tReturns a left trim version of the string\n",
    "maketrans()\tReturns a translation table to be used in translations\n",
    "partition()\tReturns a tuple where the string is parted into three parts\n",
    "replace()\tReturns a string where a specified value is replaced with a specified value\n",
    "rfind()\tSearches the string for a specified value and returns the last position of where it was found\n",
    "rindex()\tSearches the string for a specified value and returns the last position of where it was found\n",
    "rjust()\tReturns a right justified version of the string\n",
    "rpartition()\tReturns a tuple where the string is parted into three parts\n",
    "rsplit()\tSplits the string at the specified separator, and returns a list\n",
    "rstrip()\tReturns a right trim version of the string\n",
    "split()\tSplits the string at the specified separator, and returns a list\n",
    "splitlines()\tSplits the string at line breaks and returns a list\n",
    "startswith()\tReturns true if the string starts with the specified value\n",
    "strip()\tReturns a trimmed version of the string\n",
    "swapcase()\tSwaps cases, lower case becomes upper case and vice versa\n",
    "title()\tConverts the first character of each word to upper case\n",
    "translate()\tReturns a translated string\n",
    "upper()\tConverts a string into upper case\n",
    "zfill()\tFills the string with a specified number of 0 values at the beginning"
   ]
  },
  {
   "cell_type": "code",
   "execution_count": null,
   "id": "e812307a-7826-4922-97e0-82cde6ed4c65",
   "metadata": {},
   "outputs": [],
   "source": []
  }
 ],
 "metadata": {
  "kernelspec": {
   "display_name": "Python [conda env:base] *",
   "language": "python",
   "name": "conda-base-py"
  },
  "language_info": {
   "codemirror_mode": {
    "name": "ipython",
    "version": 3
   },
   "file_extension": ".py",
   "mimetype": "text/x-python",
   "name": "python",
   "nbconvert_exporter": "python",
   "pygments_lexer": "ipython3",
   "version": "3.12.7"
  }
 },
 "nbformat": 4,
 "nbformat_minor": 5
}
