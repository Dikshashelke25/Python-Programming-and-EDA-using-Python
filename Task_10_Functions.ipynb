{
 "cells": [
  {
   "cell_type": "markdown",
   "id": "07a50888-d898-4ad4-aa08-b2f137ab237a",
   "metadata": {},
   "source": [
    "Task 10 - Functions:"
   ]
  },
  {
   "cell_type": "markdown",
   "id": "e8960150-82db-4f39-9530-d813a639a9c7",
   "metadata": {},
   "source": [
    "1.Write a Python function greet that takes a name as input and returns the message: \n",
    "\"Hello, <name>!\".\n"
   ]
  },
  {
   "cell_type": "code",
   "execution_count": 19,
   "id": "a6cb2bf7-ab90-4621-bd68-210fa54c6177",
   "metadata": {},
   "outputs": [
    {
     "name": "stdin",
     "output_type": "stream",
     "text": [
      "Enter name : Ram\n"
     ]
    },
    {
     "data": {
      "text/plain": [
       "'Hello, Ram!'"
      ]
     },
     "execution_count": 19,
     "metadata": {},
     "output_type": "execute_result"
    }
   ],
   "source": [
    "def greet():\n",
    "    name= input(\"Enter name :\")\n",
    "    return f\"Hello, {name}!\"\n",
    "greet()"
   ]
  },
  {
   "cell_type": "markdown",
   "id": "5ad76cc5-3bf8-4881-8c59-0bbb1405a5b0",
   "metadata": {},
   "source": [
    "2.Write a function find_max that takes a list of numbers as input and returns the largest number.\n"
   ]
  },
  {
   "cell_type": "code",
   "execution_count": 25,
   "id": "9ab1da12-780a-4b9c-83fe-a8da8ffb95ef",
   "metadata": {},
   "outputs": [
    {
     "name": "stdout",
     "output_type": "stream",
     "text": [
      "Largest Number : 87\n"
     ]
    }
   ],
   "source": [
    "def find_max():\n",
    "    l = [25, 60, 76, 55, 87, 42]\n",
    "    return max(l)\n",
    "print(\"Largest Number :\",find_max())"
   ]
  },
  {
   "cell_type": "markdown",
   "id": "e63264b2-ce9f-4e7f-979c-cc4396341bf5",
   "metadata": {},
   "source": [
    "3.Write a function filter_words that takes a string and a list of words, and returns only the words from the string that are present in the list.\n"
   ]
  },
  {
   "cell_type": "code",
   "execution_count": 31,
   "id": "c7b29971-8ae4-4d9f-a45c-23cd132fa607",
   "metadata": {},
   "outputs": [
    {
     "name": "stdout",
     "output_type": "stream",
     "text": [
      "Hello Good Nice\n"
     ]
    }
   ],
   "source": [
    "def filter_words(input_string, word_list):\n",
    "    words = input_string.split()\n",
    "    \n",
    "    filtered_words = [word for word in words if word in word_list]\n",
    "    \n",
    "    return ' '.join(filtered_words)\n",
    "\n",
    "input_string = \"Hello everyone, Good Morning!, Nice to meet you!\"\n",
    "word_list = [\"Hello\", \"Good\", \"Nice\"]\n",
    "filtered_string = filter_words(input_string, word_list)\n",
    "print(filtered_string)  # Output: \"quick fox dog\"\n"
   ]
  },
  {
   "cell_type": "markdown",
   "id": "69ed07fd-1fc4-4089-8e58-9cd39139e004",
   "metadata": {},
   "source": [
    "4.Write a recursive function to calculate the factorial of a given number\n"
   ]
  },
  {
   "cell_type": "code",
   "execution_count": 50,
   "id": "c04d7ef2-f5d3-4e56-9666-5135886f64cf",
   "metadata": {},
   "outputs": [
    {
     "data": {
      "text/plain": [
       "120"
      ]
     },
     "execution_count": 50,
     "metadata": {},
     "output_type": "execute_result"
    }
   ],
   "source": [
    "def factorial(n):\n",
    "    if n == 0 or n == 1:\n",
    "        return 1\n",
    "    else:\n",
    "        return n*factorial(n-1)\n",
    "factorial(5)"
   ]
  },
  {
   "cell_type": "markdown",
   "id": "0f3d5fcc-cd45-467d-87aa-f1905b6a8518",
   "metadata": {},
   "source": [
    "5.Write a function reverse_string to reverse a string.\n"
   ]
  },
  {
   "cell_type": "code",
   "execution_count": 54,
   "id": "4426d8a9-fd2e-4c5f-9c07-9d445384ae62",
   "metadata": {},
   "outputs": [
    {
     "data": {
      "text/plain": [
       "'dloG si dlO'"
      ]
     },
     "execution_count": 54,
     "metadata": {},
     "output_type": "execute_result"
    }
   ],
   "source": [
    "def reverse_string(s):\n",
    "    return s[::-1]\n",
    "reverse_string(\"Old is Gold\")"
   ]
  },
  {
   "cell_type": "markdown",
   "id": "9fc4f5d7-7597-4dfa-bfda-71da195c516f",
   "metadata": {},
   "source": [
    "6.Write a function sum_all that takes any number of arguments and returns their sum.\n"
   ]
  },
  {
   "cell_type": "code",
   "execution_count": 56,
   "id": "3c73c30e-85cb-453c-8b7a-7c5806a3a8f8",
   "metadata": {},
   "outputs": [
    {
     "data": {
      "text/plain": [
       "150"
      ]
     },
     "execution_count": 56,
     "metadata": {},
     "output_type": "execute_result"
    }
   ],
   "source": [
    "def sum_all(*args):\n",
    "    return sum(args)\n",
    "sum_all(10,20,30,40,50)"
   ]
  },
  {
   "cell_type": "markdown",
   "id": "9b2d8c32-45bc-417b-92db-fecbc5edfd51",
   "metadata": {},
   "source": [
    "7.Write a function concatenate_strings that takes any number of string arguments and concatenates them with a space between each word.\n"
   ]
  },
  {
   "cell_type": "code",
   "execution_count": 62,
   "id": "dcd15d3f-152a-46a0-85be-31357f45bbf5",
   "metadata": {},
   "outputs": [
    {
     "data": {
      "text/plain": [
       "'Hello , Have a Good day'"
      ]
     },
     "execution_count": 62,
     "metadata": {},
     "output_type": "execute_result"
    }
   ],
   "source": [
    "def concatenate_strings(*args):\n",
    "    return ' '.join(args)\n",
    "concatenate_strings(\"Hello\",\",\" ,\"Have\",\"a\",\"Good\", \"day\")"
   ]
  },
  {
   "cell_type": "markdown",
   "id": "380b32bb-a5e2-45b8-ab64-361dda5117ed",
   "metadata": {},
   "source": [
    "8.Write a function greet_user that accepts keyword arguments first_name and last_name and prints a greeting in the format: \"Hello, <first_name> <last_name>!\".\n"
   ]
  },
  {
   "cell_type": "code",
   "execution_count": 75,
   "id": "3693bf18-e354-451e-86e9-d81c6b3ce52c",
   "metadata": {},
   "outputs": [
    {
     "name": "stdout",
     "output_type": "stream",
     "text": [
      "Hello, Diksha Shelke!\n"
     ]
    }
   ],
   "source": [
    "def greet_user(first_name, last_name):\n",
    "    print(f\"Hello, {first_name} {last_name}!\")\n",
    "greet_user(first_name=\"Diksha\", last_name=\"Shelke\")\n"
   ]
  },
  {
   "cell_type": "markdown",
   "id": "9789cb06-3176-4096-a16e-f11230b32616",
   "metadata": {},
   "source": [
    "9.Write a function filter_data that accepts keyword arguments and returns only those whose values are greater than 50.\n"
   ]
  },
  {
   "cell_type": "code",
   "execution_count": 81,
   "id": "8eaaa685-8f6f-4f00-b23b-43ca18f53ab5",
   "metadata": {},
   "outputs": [
    {
     "name": "stdout",
     "output_type": "stream",
     "text": [
      "{'n1': 77, 'n2': 80, 'n4': 94, 'n5': 56}\n"
     ]
    }
   ],
   "source": [
    "def filter_data(**kwargs):\n",
    "    return{key: value for key, value in kwargs.items() if value > 50}\n",
    "result = filter_data(n1 = 77, n2 = 80, n3 = 35, n4 = 94, n5 = 56)\n",
    "print(result)"
   ]
  },
  {
   "cell_type": "code",
   "execution_count": null,
   "id": "83c78b77-6e5b-4772-b3fb-4b8ec979e865",
   "metadata": {},
   "outputs": [],
   "source": []
  }
 ],
 "metadata": {
  "kernelspec": {
   "display_name": "Python [conda env:base] *",
   "language": "python",
   "name": "conda-base-py"
  },
  "language_info": {
   "codemirror_mode": {
    "name": "ipython",
    "version": 3
   },
   "file_extension": ".py",
   "mimetype": "text/x-python",
   "name": "python",
   "nbconvert_exporter": "python",
   "pygments_lexer": "ipython3",
   "version": "3.12.7"
  }
 },
 "nbformat": 4,
 "nbformat_minor": 5
}
