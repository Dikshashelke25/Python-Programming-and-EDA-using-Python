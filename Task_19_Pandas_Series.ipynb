{
 "cells": [
  {
   "cell_type": "markdown",
   "id": "48d373d4-84a2-4b74-a01b-8e9ce23e4e33",
   "metadata": {},
   "source": [
    "### Task 19 - Pandas Series:\n"
   ]
  },
  {
   "cell_type": "markdown",
   "id": "ed8c7d5d-e0c0-484c-9829-49fd4674539e",
   "metadata": {},
   "source": [
    "#### 1.What is a Pandas Series? Write down its key features.\n",
    "\n"
   ]
  },
  {
   "cell_type": "markdown",
   "id": "7f7f4b62-6e6f-4e09-a77d-104f1012fb22",
   "metadata": {},
   "source": [
    "A **Pandas Series** is a one-dimensional data structure in Python, provided by the Pandas library, used to store a sequence of data values. It is similar to a column in a table or a one-dimensional arrays with labels (indexes) for each element.\n",
    "\n",
    "##### Key Features of a Pandas Series:\n",
    "1. **Homogeneous Data Type**: All elements in a Series must be of the same data type, whether it's integers, floats, strings, or objects.\n",
    "2. **Indexing**: Every element in a Series is associated with an index. You can access elements by their index, making it easy to manipulate data.\n",
    "3. **Customizable Index**: You can customize the index to suit your needs. It can be numeric, string-based, or even a date.\n",
    "4. **Supports Null Values**: It can hold `NaN` (Not a Number) values for missing data.\n",
    "5. **Operations on Series**: You can perform mathematical operations, filtering, and transformations on the entire Series or its individual elements.\n",
    "6. **Built-In Functions**: Pandas Series provides numerous built-in methods for common data analysis tasks such as sorting, aggregating, and handling missing values.\n",
    "7. **Mutable**: You can modify the values of the Series as needed.\n",
    "8. **Data Alignment**: When performing operations on two Series, their data aligns automatically based on their indexes.\n",
    "9. **Integration with NumPy**: A Series can easily interface with NumPy arrays, enabling powerful numerical computations.\n"
   ]
  },
  {
   "cell_type": "markdown",
   "id": "0e920403-50a4-401c-b50c-6c479bc9d727",
   "metadata": {},
   "source": [
    "#### 2.Create a Pandas Series from a list [10, 20, 30, 40] and display its data type using .dtype.\n"
   ]
  },
  {
   "cell_type": "code",
   "execution_count": 33,
   "id": "3d06e337-8b97-48b8-b536-5ca8fa1ed607",
   "metadata": {},
   "outputs": [
    {
     "name": "stdout",
     "output_type": "stream",
     "text": [
      "Pandas Series :\n",
      "0    10\n",
      "1    20\n",
      "2    30\n",
      "3    40\n",
      "dtype: int64\n",
      "Datatype of Series :  int64\n"
     ]
    }
   ],
   "source": [
    "import numpy as np\n",
    "import pandas as pd\n",
    "\n",
    "series = pd.Series([10, 20, 30, 40])\n",
    "print(\"Pandas Series :\")\n",
    "print(series)\n",
    "print(\"Datatype of Series : \",series.dtype)"
   ]
  },
  {
   "cell_type": "markdown",
   "id": "fc22f51e-880b-4834-9d3f-3bdc3d35b263",
   "metadata": {},
   "source": [
    "#### a.Create a Pandas Series from a dictionary: {'a': 100, 'b': 200, 'c': 300}. Display the Series.\n"
   ]
  },
  {
   "cell_type": "code",
   "execution_count": 29,
   "id": "18736145-31d8-4c54-997b-d18d9cbefcd2",
   "metadata": {},
   "outputs": [
    {
     "name": "stdout",
     "output_type": "stream",
     "text": [
      "Pandas Series :\n",
      "a    100\n",
      "b    200\n",
      "c    300\n",
      "dtype: int64\n"
     ]
    }
   ],
   "source": [
    "series1 = pd.Series({'a': 100, 'b': 200, 'c': 300})\n",
    "print(\"Pandas Series :\")\n",
    "print(series1)"
   ]
  },
  {
   "cell_type": "markdown",
   "id": "f551b031-200f-4c35-adee-0597d6ad20ef",
   "metadata": {},
   "source": [
    "#### b.Create a Pandas Series using NumPy array: np.array([1, 2, 3, 4]). Assign custom indices ['x', 'y', 'z', 'w'].\n"
   ]
  },
  {
   "cell_type": "code",
   "execution_count": 43,
   "id": "0fb18fd9-60ea-4c17-bc39-51b066b871f3",
   "metadata": {},
   "outputs": [
    {
     "name": "stdout",
     "output_type": "stream",
     "text": [
      "Series with custom indices :\n",
      "x    1\n",
      "y    2\n",
      "z    3\n",
      "w    4\n",
      "dtype: int32\n"
     ]
    }
   ],
   "source": [
    "array = np.array([1, 2, 3, 4])\n",
    "series2 = pd.Series(array, index = ['x', 'y', 'z', 'w'])\n",
    "print(\"Series with custom indices :\")\n",
    "print(series2)"
   ]
  },
  {
   "cell_type": "markdown",
   "id": "b4f9fc82-a4c4-4bdb-a3cd-0afa133aac15",
   "metadata": {},
   "source": [
    "#### 3.Create a Series [5, 10, 15, 20] and access the second element using .iloc.\n"
   ]
  },
  {
   "cell_type": "code",
   "execution_count": 49,
   "id": "b507fc28-e262-48e8-aa3c-8cf8717c779b",
   "metadata": {},
   "outputs": [
    {
     "name": "stdout",
     "output_type": "stream",
     "text": [
      "The second element is 10\n"
     ]
    }
   ],
   "source": [
    "series1 = pd.Series([5, 10, 15, 20])\n",
    "second_element = series1.iloc[1]\n",
    "print(\"The second element is\" ,second_element)\n"
   ]
  },
  {
   "cell_type": "markdown",
   "id": "a8486e37-d85a-45f6-9093-f1689072e6af",
   "metadata": {},
   "source": [
    "#### a.Use .loc to access the value corresponding to the label 'b' in the Series created from {'a': 50, 'b': 100, 'c': 150}.\n"
   ]
  },
  {
   "cell_type": "code",
   "execution_count": 59,
   "id": "b1f497e8-7462-40a2-b014-91b96a5fe657",
   "metadata": {},
   "outputs": [
    {
     "name": "stdout",
     "output_type": "stream",
     "text": [
      "The value with label b is 100\n"
     ]
    }
   ],
   "source": [
    "series2 = pd.Series({'a': 50, 'b': 100, 'c': 150})\n",
    "val = series2.loc['b']\n",
    "print(\"The value with label b is\" ,val)\n"
   ]
  },
  {
   "cell_type": "markdown",
   "id": "3ea001a8-23ea-4332-9963-7fc32519ac33",
   "metadata": {},
   "source": [
    "#### 4.Create a Series [1, 2, 3, 4, 5]. Add 10 to each element and display the result.\n"
   ]
  },
  {
   "cell_type": "code",
   "execution_count": 63,
   "id": "7ef6a858-c625-4bf7-a327-5df9337d706d",
   "metadata": {},
   "outputs": [
    {
     "name": "stdout",
     "output_type": "stream",
     "text": [
      "Original Series :\n",
      "0    1\n",
      "1    2\n",
      "2    3\n",
      "3    4\n",
      "4    5\n",
      "dtype: int64\n",
      "Updated Series :\n",
      "0    11\n",
      "1    12\n",
      "2    13\n",
      "3    14\n",
      "4    15\n",
      "dtype: int64\n"
     ]
    }
   ],
   "source": [
    "series = pd.Series([1, 2, 3, 4, 5])\n",
    "\n",
    "updated_series = series + 10\n",
    "\n",
    "print(\"Original Series :\")\n",
    "print(series)\n",
    "\n",
    "print(\"Updated Series :\")\n",
    "print(updated_series)"
   ]
  },
  {
   "cell_type": "markdown",
   "id": "18c436b0-7bc0-4067-8f2e-8539e59a875e",
   "metadata": {},
   "source": [
    "#### 5.Create a Series [10, 20, 30, 40, 50]. Filter and display only the values greater than 25.\n"
   ]
  },
  {
   "cell_type": "code",
   "execution_count": 65,
   "id": "4ba26741-2124-4cb6-94c6-de1fe6e4c43c",
   "metadata": {},
   "outputs": [
    {
     "name": "stdout",
     "output_type": "stream",
     "text": [
      "Original Series :\n",
      "0    10\n",
      "1    20\n",
      "2    30\n",
      "3    40\n",
      "4    50\n",
      "dtype: int64\n",
      "Filtered Series :\n",
      "2    30\n",
      "3    40\n",
      "4    50\n",
      "dtype: int64\n"
     ]
    }
   ],
   "source": [
    "series = pd.Series([10, 20, 30, 40, 50])\n",
    "\n",
    "filtered_series = series[series > 25]\n",
    "\n",
    "print(\"Original Series :\")\n",
    "print(series)\n",
    "\n",
    "print(\"Filtered Series :\")\n",
    "print(filtered_series)"
   ]
  },
  {
   "cell_type": "markdown",
   "id": "00c057ce-7c63-49ac-b5b4-1e15f501677a",
   "metadata": {},
   "source": [
    "#### 6.Create a Series [1, 2, None, 4, None]. Use .isna() to identify missing values.\n"
   ]
  },
  {
   "cell_type": "code",
   "execution_count": 77,
   "id": "c0b8e57e-2c20-456f-83b5-d00b6840a9ff",
   "metadata": {},
   "outputs": [
    {
     "name": "stdout",
     "output_type": "stream",
     "text": [
      "0    1.0\n",
      "1    2.0\n",
      "2    NaN\n",
      "3    4.0\n",
      "4    NaN\n",
      "dtype: float64\n",
      "Missing values:\n"
     ]
    },
    {
     "data": {
      "text/plain": [
       "0    False\n",
       "1    False\n",
       "2     True\n",
       "3    False\n",
       "4     True\n",
       "dtype: bool"
      ]
     },
     "execution_count": 77,
     "metadata": {},
     "output_type": "execute_result"
    }
   ],
   "source": [
    "series = pd.Series([1, 2, None, 4, None])\n",
    "print(series)\n",
    "\n",
    "print(\"Missing values:\")\n",
    "series.isna()"
   ]
  },
  {
   "cell_type": "markdown",
   "id": "89cdaa00-4e87-4954-80e7-e231975ca555",
   "metadata": {},
   "source": [
    "#### a.Use .notna() to display only non-missing values.\n"
   ]
  },
  {
   "cell_type": "code",
   "execution_count": 79,
   "id": "fe0bfa26-5d27-4dbf-a94b-9df81e30be54",
   "metadata": {},
   "outputs": [
    {
     "name": "stdout",
     "output_type": "stream",
     "text": [
      "Series with only non-missing values:\n"
     ]
    },
    {
     "data": {
      "text/plain": [
       "0    1.0\n",
       "1    2.0\n",
       "3    4.0\n",
       "dtype: float64"
      ]
     },
     "execution_count": 79,
     "metadata": {},
     "output_type": "execute_result"
    }
   ],
   "source": [
    "print(\"Series with only non-missing values:\")\n",
    "series[series.notna()]"
   ]
  },
  {
   "cell_type": "markdown",
   "id": "313adcc1-fa3f-4929-ac20-a190c3f152de",
   "metadata": {},
   "source": [
    "#### 7.Create a Series [2, 4, 6, 8, 10]. Calculate the sum of all elements using .sum().\n"
   ]
  },
  {
   "cell_type": "code",
   "execution_count": 87,
   "id": "a71e864f-8113-486c-966e-24b97ce95e08",
   "metadata": {},
   "outputs": [
    {
     "name": "stdout",
     "output_type": "stream",
     "text": [
      "Series : \n",
      "0     2\n",
      "1     4\n",
      "2     6\n",
      "3     8\n",
      "4    10\n",
      "dtype: int64\n",
      "Sum of all elements in series: 30\n"
     ]
    }
   ],
   "source": [
    "series = pd.Series([2, 4, 6, 8, 10])\n",
    "print(\"Series : \")\n",
    "print(series)\n",
    "print(\"Sum of all elements in series:\",series.sum())"
   ]
  },
  {
   "cell_type": "markdown",
   "id": "c422abcd-bc1b-4d4f-ad39-8fb13c5e96d1",
   "metadata": {},
   "source": [
    "#### 8.Create a Series [10, 15, 20, 25]. Use .apply() with a lambda function to square each value.\n"
   ]
  },
  {
   "cell_type": "code",
   "execution_count": 93,
   "id": "0186e5f4-b827-4ac6-95e8-c504ac71e44a",
   "metadata": {},
   "outputs": [
    {
     "name": "stdout",
     "output_type": "stream",
     "text": [
      "Series : \n",
      "0    10\n",
      "1    15\n",
      "2    20\n",
      "3    25\n",
      "dtype: int64\n",
      "Squared values:\n",
      "0    100\n",
      "1    225\n",
      "2    400\n",
      "3    625\n",
      "dtype: int64\n"
     ]
    }
   ],
   "source": [
    "s = pd.Series([10, 15, 20, 25])\n",
    "\n",
    "squared_values = s.apply(lambda x: x**2)\n",
    "\n",
    "print(\"Series : \")\n",
    "print(s)\n",
    "\n",
    "print(\"Squared values:\")\n",
    "print(squared_values)"
   ]
  },
  {
   "cell_type": "markdown",
   "id": "507df070-65df-4ace-a136-d7f1cc3c9f9b",
   "metadata": {},
   "source": [
    "#### 9.Create a Series [1, 2, None, 4, 5]. Check if the Series contains any missing values using .isna() and .any().\n"
   ]
  },
  {
   "cell_type": "code",
   "execution_count": 95,
   "id": "057d21d3-c35c-4f5d-91fa-245ce79a6a48",
   "metadata": {},
   "outputs": [
    {
     "name": "stdout",
     "output_type": "stream",
     "text": [
      "Contains missing values: True\n"
     ]
    }
   ],
   "source": [
    "series = pd.Series([1, 2, None, 4, 5])\n",
    "\n",
    "missing_values = series.isna().any()\n",
    "print(\"Contains missing values:\", missing_values)\n"
   ]
  },
  {
   "cell_type": "markdown",
   "id": "a4de6fe4-c277-4b03-b439-b769adf2218b",
   "metadata": {},
   "source": [
    "#### 10.Create a Series [2, 4, 6, 8]. Multiply each value 5\n"
   ]
  },
  {
   "cell_type": "code",
   "execution_count": 97,
   "id": "a58d7a2b-69da-4ef3-b6ac-0052c70a5f86",
   "metadata": {},
   "outputs": [
    {
     "name": "stdout",
     "output_type": "stream",
     "text": [
      "Series : \n",
      "0    2\n",
      "1    4\n",
      "2    6\n",
      "3    8\n",
      "dtype: int64\n",
      "Multiplying each value by 5 :\n",
      "0    10\n",
      "1    20\n",
      "2    30\n",
      "3    40\n",
      "dtype: int64\n"
     ]
    }
   ],
   "source": [
    "s = pd.Series([2, 4, 6, 8])\n",
    "\n",
    "result = s*5\n",
    "\n",
    "print(\"Series : \")\n",
    "print(s)\n",
    "\n",
    "print(\"Multiplying each value by 5 :\")\n",
    "print(result)"
   ]
  },
  {
   "cell_type": "markdown",
   "id": "fe7927f3-65dc-4948-9324-dc63add6a560",
   "metadata": {},
   "source": [
    "#### a.Create two Series [1, 2, 3] and [4, 5,by  6]. Add them together."
   ]
  },
  {
   "cell_type": "code",
   "execution_count": 99,
   "id": "3723ed64-12e9-4b55-bebe-8bc7c2eb933d",
   "metadata": {},
   "outputs": [
    {
     "name": "stdout",
     "output_type": "stream",
     "text": [
      "Series 1: \n",
      "0    1\n",
      "1    2\n",
      "2    3\n",
      "dtype: int64\n",
      "Series 2: \n",
      "0    4\n",
      "1    5\n",
      "2    6\n",
      "dtype: int64\n",
      "Adding s1 and s2 :\n",
      "0    5\n",
      "1    7\n",
      "2    9\n",
      "dtype: int64\n"
     ]
    }
   ],
   "source": [
    "s1 = pd.Series([1, 2, 3])\n",
    "s2 = pd.Series([4, 5, 6])\n",
    "\n",
    "result = s1+s2\n",
    "\n",
    "print(\"Series 1: \")\n",
    "print(s1)\n",
    "\n",
    "print(\"Series 2: \")\n",
    "print(s2)\n",
    "\n",
    "print(\"Adding s1 and s2 :\")\n",
    "print(result)"
   ]
  },
  {
   "cell_type": "code",
   "execution_count": null,
   "id": "aa0ffad7-8984-4443-8f98-71075730a455",
   "metadata": {},
   "outputs": [],
   "source": []
  }
 ],
 "metadata": {
  "kernelspec": {
   "display_name": "Python [conda env:base] *",
   "language": "python",
   "name": "conda-base-py"
  },
  "language_info": {
   "codemirror_mode": {
    "name": "ipython",
    "version": 3
   },
   "file_extension": ".py",
   "mimetype": "text/x-python",
   "name": "python",
   "nbconvert_exporter": "python",
   "pygments_lexer": "ipython3",
   "version": "3.12.7"
  }
 },
 "nbformat": 4,
 "nbformat_minor": 5
}
