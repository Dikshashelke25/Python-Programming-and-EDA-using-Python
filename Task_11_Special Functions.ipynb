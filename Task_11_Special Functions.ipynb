{
 "cells": [
  {
   "cell_type": "markdown",
   "id": "70f387e8-d96c-4286-9b15-63f2c8b74c7b",
   "metadata": {},
   "source": [
    "Task 11 - Special Functions:"
   ]
  },
  {
   "cell_type": "markdown",
   "id": "59e337d6-c297-4c50-8b29-70acea558d7d",
   "metadata": {},
   "source": [
    "Lambda:"
   ]
  },
  {
   "cell_type": "markdown",
   "id": "b8f89d7c-ab61-429b-9124-eb20c319adbb",
   "metadata": {},
   "source": [
    "1.Create a lambda function that takes two arguments and returns their sum.\n"
   ]
  },
  {
   "cell_type": "code",
   "execution_count": 21,
   "id": "8d1328fb-2b38-4119-b864-5728ffc0b810",
   "metadata": {},
   "outputs": [
    {
     "data": {
      "text/plain": [
       "25"
      ]
     },
     "execution_count": 21,
     "metadata": {},
     "output_type": "execute_result"
    }
   ],
   "source": [
    "sum = lambda a, b : a+b\n",
    "sum(20,5)"
   ]
  },
  {
   "cell_type": "markdown",
   "id": "ad9d2f2e-46ec-4be2-add5-d58bad23799e",
   "metadata": {},
   "source": [
    "2.Create another lambda function that takes a single argument and returns its square.\n"
   ]
  },
  {
   "cell_type": "code",
   "execution_count": 37,
   "id": "66588898-581f-4539-99da-5ec5d1486e42",
   "metadata": {},
   "outputs": [
    {
     "name": "stdout",
     "output_type": "stream",
     "text": [
      "Square : 25\n"
     ]
    }
   ],
   "source": [
    "sq = lambda a: a**2\n",
    "print(\"Square :\", sq(5))"
   ]
  },
  {
   "cell_type": "markdown",
   "id": "c2b73fab-b40e-4d47-8c1b-9424e32c1e61",
   "metadata": {},
   "source": [
    "3.Use the lambda functions to calculate the sum and square of various numbers and print the results.\n"
   ]
  },
  {
   "cell_type": "code",
   "execution_count": 52,
   "id": "bdc5ba00-bf73-4297-835e-a3a11c715ea9",
   "metadata": {},
   "outputs": [
    {
     "ename": "TypeError",
     "evalue": "<lambda>() missing 1 required positional argument: 'b'",
     "output_type": "error",
     "traceback": [
      "\u001b[1;31m---------------------------------------------------------------------------\u001b[0m",
      "\u001b[1;31mTypeError\u001b[0m                                 Traceback (most recent call last)",
      "Cell \u001b[1;32mIn[52], line 3\u001b[0m\n\u001b[0;32m      1\u001b[0m numbers \u001b[38;5;241m=\u001b[39m [\u001b[38;5;241m1\u001b[39m, \u001b[38;5;241m2\u001b[39m, \u001b[38;5;241m3\u001b[39m, \u001b[38;5;241m4\u001b[39m, \u001b[38;5;241m5\u001b[39m]\n\u001b[1;32m----> 3\u001b[0m sum_of_elements \u001b[38;5;241m=\u001b[39m \u001b[38;5;28msum\u001b[39m(\u001b[38;5;28mmap\u001b[39m(\u001b[38;5;28;01mlambda\u001b[39;00m x: x, numbers))\n\u001b[0;32m      5\u001b[0m squares \u001b[38;5;241m=\u001b[39m \u001b[38;5;28mlist\u001b[39m(\u001b[38;5;28mmap\u001b[39m(\u001b[38;5;28;01mlambda\u001b[39;00m x: x \u001b[38;5;241m*\u001b[39m\u001b[38;5;241m*\u001b[39m \u001b[38;5;241m2\u001b[39m, numbers))\n",
      "\u001b[1;31mTypeError\u001b[0m: <lambda>() missing 1 required positional argument: 'b'"
     ]
    }
   ],
   "source": [
    "numbers = [1, 2, 3, 4, 5]\n",
    "\n",
    "sum_of_elements = sum(map(lambda x: x, numbers))\n",
    "\n",
    "squares = list(map(lambda x: x ** 2, numbers))\n",
    "\n",
    "\n",
    "print(f\"Sum of numbers: {total_sum}\")\n",
    "print(f\"Squares of numbers: {squares}\")"
   ]
  },
  {
   "cell_type": "markdown",
   "id": "42bdf90c-d920-4795-b5f0-ec920210dd89",
   "metadata": {},
   "source": [
    "4.Say, a=27, b=15. Create a lambda function that multiplies argument 'a' with argument 'b' and prints the result.\n"
   ]
  },
  {
   "cell_type": "code",
   "execution_count": 64,
   "id": "2e6aec59-ec5c-4491-a099-452fe561057f",
   "metadata": {},
   "outputs": [
    {
     "data": {
      "text/plain": [
       "405"
      ]
     },
     "execution_count": 64,
     "metadata": {},
     "output_type": "execute_result"
    }
   ],
   "source": [
    "a = 27\n",
    "b = 15\n",
    "\n",
    "mul = lambda a, b : a*b\n",
    "mul(a,b)\n"
   ]
  },
  {
   "cell_type": "markdown",
   "id": "ed7fa2cc-cb59-4394-b5d6-ce36d1939ae1",
   "metadata": {},
   "source": [
    "Filter:\n"
   ]
  },
  {
   "cell_type": "markdown",
   "id": "fd5faaf8-d93c-44e6-ae00-e16b433117d1",
   "metadata": {},
   "source": [
    "1.Define a list of integers.\n"
   ]
  },
  {
   "cell_type": "code",
   "execution_count": 78,
   "id": "4cf440c4-320b-473e-bc3a-d3c12319175d",
   "metadata": {},
   "outputs": [],
   "source": [
    "l = [25, 60, 9, 47, 28, 55, 72, 80, 93, 6]"
   ]
  },
  {
   "cell_type": "markdown",
   "id": "55111d3e-90eb-4431-9f77-6e2c5f8f82e9",
   "metadata": {},
   "source": [
    "2.Use the filter function to create a new list that contains only the even numbers from the original list.\n"
   ]
  },
  {
   "cell_type": "code",
   "execution_count": 94,
   "id": "2d4c2435-d9f6-4b0f-a583-2c94f2d19c6a",
   "metadata": {},
   "outputs": [
    {
     "name": "stdout",
     "output_type": "stream",
     "text": [
      "[60, 28, 72, 80, 6]\n"
     ]
    }
   ],
   "source": [
    "def even(n):\n",
    "    return n%2==0\n",
    "\n",
    "e = filter(even, l)\n",
    "print(list(e))"
   ]
  },
  {
   "cell_type": "markdown",
   "id": "0c2eed77-206e-49d7-bde3-d58d628b3b44",
   "metadata": {},
   "source": [
    "3.Use the filter function again to create a new list that contains only numbers greater than 10 from the original list.    \n",
    "  Print both filtered lists."
   ]
  },
  {
   "cell_type": "code",
   "execution_count": 86,
   "id": "709e1243-dffd-45a1-a4ba-a168826942df",
   "metadata": {},
   "outputs": [
    {
     "name": "stdout",
     "output_type": "stream",
     "text": [
      "[25, 60, 47, 28, 55, 72, 80, 93]\n"
     ]
    }
   ],
   "source": [
    "g = list(filter(lambda x : x > 10, l))\n",
    "print(g)"
   ]
  },
  {
   "cell_type": "markdown",
   "id": "222b2655-2967-428b-bb53-568eb447c50b",
   "metadata": {},
   "source": [
    "4.Using in-built function filter() with a lambda function filter even numbers from a given list.     num = [17, 20, 32, 45, 53, 61, 72, 84, 97]\n"
   ]
  },
  {
   "cell_type": "code",
   "execution_count": 90,
   "id": "4355eaba-56bd-46db-aa1c-bc9e8f889e33",
   "metadata": {},
   "outputs": [
    {
     "name": "stdout",
     "output_type": "stream",
     "text": [
      "[20, 32, 72, 84]\n"
     ]
    }
   ],
   "source": [
    "num = [17, 20, 32, 45, 53, 61, 72, 84, 97]\n",
    "\n",
    "even = list(filter(lambda x : x%2==0, num))\n",
    "print(even)\n"
   ]
  },
  {
   "cell_type": "markdown",
   "id": "fa2589f7-92dc-4f7c-9716-dd5f14bdd958",
   "metadata": {},
   "source": [
    "Map:\n"
   ]
  },
  {
   "cell_type": "markdown",
   "id": "b74a04a1-1add-4aa4-a162-b4a8de9f01ed",
   "metadata": {},
   "source": [
    "1.Define a list of strings where each string represents a number (e.g., [\"1\", \"2\", \"3\"]).\n"
   ]
  },
  {
   "cell_type": "code",
   "execution_count": 124,
   "id": "d4ad8cb9-c9a9-4e27-be90-94a7dbf51e2b",
   "metadata": {},
   "outputs": [],
   "source": [
    "s = [\"1\", \"2\", \"3\", \"4\", \"5\"]"
   ]
  },
  {
   "cell_type": "markdown",
   "id": "f9450d71-48bf-42b6-a673-21daa64c9d51",
   "metadata": {},
   "source": [
    "2.Use the map function to convert each string to an integer and store the result in a new list.\n"
   ]
  },
  {
   "cell_type": "code",
   "execution_count": 126,
   "id": "214dddbd-f541-4542-b9ba-a213c0761450",
   "metadata": {},
   "outputs": [
    {
     "name": "stdout",
     "output_type": "stream",
     "text": [
      "[1, 2, 3, 4, 5]\n"
     ]
    }
   ],
   "source": [
    "res = map(int, s)\n",
    "print(list(res))\n"
   ]
  },
  {
   "cell_type": "markdown",
   "id": "fe7929e5-3b10-48f9-9b8c-0f35d62e8f43",
   "metadata": {},
   "source": [
    "3.Use the map function again to square each integer in the new list and store the result in another new list.   \n",
    "Print both new lists.\n"
   ]
  },
  {
   "cell_type": "code",
   "execution_count": 128,
   "id": "8bd80ddb-82f6-4bac-91a4-5ad8279c0e75",
   "metadata": {},
   "outputs": [
    {
     "name": "stdout",
     "output_type": "stream",
     "text": [
      "Original list: [1, 2, 3, 4, 5]\n",
      "List of squares: [1, 4, 9, 16, 25]\n"
     ]
    }
   ],
   "source": [
    "original_list = [1, 2, 3, 4, 5]\n",
    "squared_list = list(map(lambda x: x ** 2, original_list))\n",
    "\n",
    "print(\"Original list:\", original_list)\n",
    "print(\"List of squares:\", squared_list)\n"
   ]
  },
  {
   "cell_type": "markdown",
   "id": "a69b634a-8661-47cb-9af4-a586823ab004",
   "metadata": {},
   "source": [
    "Reduce:\n"
   ]
  },
  {
   "cell_type": "markdown",
   "id": "3a215c6f-540f-4f59-86f3-380b8a03408d",
   "metadata": {},
   "source": [
    "1.Find the product of all numbers in the list using reduce and lambda functions.\n",
    "nums = [15, 2, 31, 4, 56]\n"
   ]
  },
  {
   "cell_type": "code",
   "execution_count": 138,
   "id": "4fe59799-e0ee-4765-b8c8-f36a6fd53f3e",
   "metadata": {},
   "outputs": [
    {
     "name": "stdout",
     "output_type": "stream",
     "text": [
      "The product of all numbers in the list is: 208320\n"
     ]
    }
   ],
   "source": [
    "from functools import reduce\n",
    "nums = [15, 2, 31, 4, 56]\n",
    "p = reduce(lambda x,y : x*y, nums)\n",
    "print(\"The product of all numbers in the list is:\", p)\n"
   ]
  },
  {
   "cell_type": "code",
   "execution_count": 140,
   "id": "558ded1b-c2b3-4430-8f15-5a2a45ab1dc7",
   "metadata": {},
   "outputs": [
    {
     "ename": "SyntaxError",
     "evalue": "unterminated string literal (detected at line 1) (4267278237.py, line 1)",
     "output_type": "error",
     "traceback": [
      "\u001b[1;36m  Cell \u001b[1;32mIn[140], line 1\u001b[1;36m\u001b[0m\n\u001b[1;33m    Certainly! You can use the reduce function from the functools module along with a lambda function to find the product of all numbers in a list. Here's how you can do it:\u001b[0m\n\u001b[1;37m                                                                                                                                                        ^\u001b[0m\n\u001b[1;31mSyntaxError\u001b[0m\u001b[1;31m:\u001b[0m unterminated string literal (detected at line 1)\n"
     ]
    }
   ],
   "source": [
    "Certainly! You can use the reduce function from the functools module along with a lambda function to find the product of all numbers in a list. Here's how you can do it:\n",
    "\n",
    "from functools import reduce\n",
    "\n",
    "# Example list of numbers\n",
    "nums = [1, 2, 3, 4, 5]\n",
    "\n",
    "# Using reduce and lambda to find the product of all numbers\n",
    "product = reduce(lambda x, y: x * y, nums)\n",
    "\n",
    "print(\"The product of all numbers in the list is:\", product)\n",
    "\n",
    "\n",
    "In this code:\n",
    "\n",
    "reduce applies the lambda function cumulatively to the items of the nums list.\n",
    "The lambda function takes two arguments x and y and returns their product.\n",
    "The result is the product of all numbers in the list."
   ]
  }
 ],
 "metadata": {
  "kernelspec": {
   "display_name": "Python [conda env:base] *",
   "language": "python",
   "name": "conda-base-py"
  },
  "language_info": {
   "codemirror_mode": {
    "name": "ipython",
    "version": 3
   },
   "file_extension": ".py",
   "mimetype": "text/x-python",
   "name": "python",
   "nbconvert_exporter": "python",
   "pygments_lexer": "ipython3",
   "version": "3.12.7"
  }
 },
 "nbformat": 4,
 "nbformat_minor": 5
}
